{
 "cells": [
  {
   "cell_type": "code",
   "execution_count": 2,
   "metadata": {},
   "outputs": [],
   "source": [
    "import numpy as np\n",
    "import pandas as pd\n",
    "import os\n",
    "\n",
    "def preprocess(data_path, fname):\n",
    "    df = pd.read_csv(data_path + fname)\n",
    "    df['Date'] = pd.to_datetime(df['Date'])\n",
    "    df = df.sort_values(by='Date').reset_index(drop=True)\n",
    "    df['Close-1'] = df['Close'].shift(1)\n",
    "    try: \n",
    "        df['c_open'] = (df['Original_Open']/df['Close']) - 1\n",
    "    except:\n",
    "        df['c_open'] = (df['Open']/df['Close']) - 1\n",
    "    df['c_high'] = df['High']/df['Close'] - 1\n",
    "    df['c_low'] = df['Low']/df['Close'] - 1\n",
    "    df['c_close'] = df['Close']/df['Close-1'] - 1\n",
    "\n",
    "    df['adj_close-1'] = df['Adj Close'].shift(1)\n",
    "    df['c_adj_close'] = df['Adj Close']/df['adj_close-1'] -1\n",
    "\n",
    "    df['adj_close+1'] = df['Adj Close'].shift(-1)\n",
    "    df['c_adj_close+1'] = df['adj_close+1']/df['Adj Close'] -1\n",
    "\n",
    "    df['c_5'] = (df['Adj Close'].rolling(5).sum()/(5*df['Adj Close'])) - 1\n",
    "    df['c_10'] = (df['Adj Close'].rolling(10).sum()/(10*df['Adj Close'])) - 1\n",
    "    df['c_15'] = (df['Adj Close'].rolling(15).sum()/(15*df['Adj Close'])) - 1\n",
    "    df['c_20'] = (df['Adj Close'].rolling(20).sum()/(20*df['Adj Close'])) - 1\n",
    "    df['c_25'] = (df['Adj Close'].rolling(25).sum()/(25*df['Adj Close'])) - 1\n",
    "    df['c_30'] = (df['Adj Close'].rolling(30).sum()/(30*df['Adj Close'])) - 1\n",
    "    df['c_label'] = 0\n",
    "    # df.loc[df['c_adj_close'] > 0.0055, 'c_label'] = 1\n",
    "    # df.loc[df['c_adj_close'] < -0.005, 'c_label'] = -1\n",
    "\n",
    "    # df.loc[df['c_adj_close+1'] > 0.0055, 'c_label'] = 1\n",
    "    # df.loc[df['c_adj_close+1'] < -0.005, 'c_label'] = -1\n",
    "    df.loc[df['c_adj_close+1'] >= 0, 'c_label'] = 1\n",
    "    df.loc[df['c_adj_close+1'] < 0, 'c_label'] = -1\n",
    "    df = df[['c_open', 'c_high', 'c_low', 'c_close','c_adj_close','c_5', 'c_10', 'c_15', 'c_20', 'c_25','c_30', 'c_label', 'Adj Close']]\n",
    "    # df = df.iloc[:-1,:]\n",
    "    df.iloc[:29, :] = -123321.000000\n",
    "    return df"
   ]
  },
  {
   "cell_type": "code",
   "execution_count": 3,
   "metadata": {},
   "outputs": [],
   "source": [
    "# index \n",
    "processed_df = preprocess('./data/index/raw/', 'SPY.csv')\n",
    "processed_df.to_csv('./data/index/preprocessed/'+ 'snp500_p.csv', index=False, header=False)"
   ]
  },
  {
   "cell_type": "code",
   "execution_count": 16,
   "metadata": {},
   "outputs": [],
   "source": [
    "\n",
    "# stocks\n",
    "data_path = './data/kdd17/price_long_50/'\n",
    "fnames = [fname for fname in os.listdir(data_path) if\n",
    "            os.path.isfile(os.path.join(data_path, fname))]\n",
    "for fname in fnames:\n",
    "    processed_df = preprocess(data_path, fname)\n",
    "    processed_df.to_csv('./data/kdd17/processed/' + fname, index=False, header=False)\n",
    "    "
   ]
  }
 ],
 "metadata": {
  "kernelspec": {
   "display_name": "Python 3.6.13 ('Adv-ALSTM')",
   "language": "python",
   "name": "python3"
  },
  "language_info": {
   "codemirror_mode": {
    "name": "ipython",
    "version": 3
   },
   "file_extension": ".py",
   "mimetype": "text/x-python",
   "name": "python",
   "nbconvert_exporter": "python",
   "pygments_lexer": "ipython3",
   "version": "3.6.13"
  },
  "orig_nbformat": 4,
  "vscode": {
   "interpreter": {
    "hash": "63ef2f6b8271091cd92d36fb450dbcfd58a1b6fe35b1510aba8b47e1d10bf165"
   }
  }
 },
 "nbformat": 4,
 "nbformat_minor": 2
}
