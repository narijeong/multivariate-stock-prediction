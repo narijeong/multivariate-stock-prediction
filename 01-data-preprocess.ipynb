{
 "cells": [
  {
   "cell_type": "code",
   "execution_count": 1,
   "metadata": {},
   "outputs": [],
   "source": [
    "import numpy as np\n",
    "import pandas as pd\n",
    "import os"
   ]
  },
  {
   "cell_type": "code",
   "execution_count": 2,
   "metadata": {},
   "outputs": [],
   "source": [
    "fname = 'AAPL.csv'"
   ]
  },
  {
   "cell_type": "code",
   "execution_count": 3,
   "metadata": {},
   "outputs": [],
   "source": [
    "data_path = './data/kdd17/index/'\n",
    "fnames = [fname for fname in os.listdir(data_path) if\n",
    "            os.path.isfile(os.path.join(data_path, fname))]"
   ]
  },
  {
   "cell_type": "code",
   "execution_count": 4,
   "metadata": {},
   "outputs": [],
   "source": [
    "def preprocess(fname):\n",
    "    df = pd.read_csv(data_path + fname)\n",
    "    df['Date'] = pd.to_datetime(df['Date'])\n",
    "    df = df.sort_values(by='Date').reset_index(drop=True)\n",
    "    df['Close-1'] = df['Close'].shift(1)\n",
    "    try: \n",
    "        df['c_open'] = (df['Original_Open']/df['Close']) - 1\n",
    "    except:\n",
    "        df['c_open'] = (df['Open']/df['Close']) - 1\n",
    "    df['c_high'] = df['High']/df['Close'] - 1\n",
    "    df['c_low'] = df['Low']/df['Close'] - 1\n",
    "    df['c_close'] = df['Close']/df['Close-1'] - 1\n",
    "\n",
    "    df['adj_close-1'] = df['Adj Close'].shift(1)\n",
    "    df['c_adj_close'] = df['Adj Close']/df['adj_close-1'] -1\n",
    "\n",
    "    df['adj_close+1'] = df['Adj Close'].shift(-1)\n",
    "    df['c_adj_close+1'] = df['adj_close+1']/df['Adj Close'] -1\n",
    "\n",
    "    df['c_5'] = (df['Adj Close'].rolling(5).sum()/(5*df['Adj Close'])) - 1\n",
    "    df['c_10'] = (df['Adj Close'].rolling(10).sum()/(10*df['Adj Close'])) - 1\n",
    "    df['c_15'] = (df['Adj Close'].rolling(15).sum()/(15*df['Adj Close'])) - 1\n",
    "    df['c_20'] = (df['Adj Close'].rolling(20).sum()/(20*df['Adj Close'])) - 1\n",
    "    df['c_25'] = (df['Adj Close'].rolling(25).sum()/(25*df['Adj Close'])) - 1\n",
    "    df['c_30'] = (df['Adj Close'].rolling(30).sum()/(30*df['Adj Close'])) - 1\n",
    "    df['c_label'] = 0\n",
    "    # df.loc[df['c_adj_close'] > 0.0055, 'c_label'] = 1\n",
    "    # df.loc[df['c_adj_close'] < -0.005, 'c_label'] = -1\n",
    "\n",
    "    # df.loc[df['c_adj_close+1'] > 0.0055, 'c_label'] = 1\n",
    "    # df.loc[df['c_adj_close+1'] < -0.005, 'c_label'] = -1\n",
    "    df.loc[df['c_adj_close+1'] >= 0, 'c_label'] = 1\n",
    "    df.loc[df['c_adj_close+1'] < 0, 'c_label'] = -1\n",
    "    df = df[['c_open', 'c_high', 'c_low', 'c_close','c_adj_close','c_5', 'c_10', 'c_15', 'c_20', 'c_25','c_30', 'c_label', 'Adj Close']]\n",
    "    # df = df.iloc[:-1,:]\n",
    "    df.iloc[:29, :] = -123321.000000\n",
    "    return df"
   ]
  },
  {
   "cell_type": "code",
   "execution_count": 5,
   "metadata": {},
   "outputs": [],
   "source": [
    "count = 0\n",
    "for fname in fnames:\n",
    "    processed_df = preprocess(fname)\n",
    "    count += len(processed_df[processed_df['c_label'] == 0])\n",
    "    processed_df.to_csv('./data/kdd17/processed/' + fname, index=False, header=False)"
   ]
  },
  {
   "cell_type": "code",
   "execution_count": 47,
   "metadata": {},
   "outputs": [
    {
     "data": {
      "text/plain": [
       "50"
      ]
     },
     "execution_count": 47,
     "metadata": {},
     "output_type": "execute_result"
    }
   ],
   "source": [
    "count"
   ]
  },
  {
   "cell_type": "code",
   "execution_count": 48,
   "metadata": {},
   "outputs": [],
   "source": [
    "unique = []\n",
    "for fname in fnames:\n",
    "    unique.extend(pd.read_csv('./data/kdd17/processed/' + fname).iloc[:,-2].unique())"
   ]
  },
  {
   "cell_type": "code",
   "execution_count": 35,
   "metadata": {},
   "outputs": [
    {
     "data": {
      "text/plain": [
       "{-123321, -1, 0, 1}"
      ]
     },
     "execution_count": 35,
     "metadata": {},
     "output_type": "execute_result"
    }
   ],
   "source": [
    "set(unique)"
   ]
  },
  {
   "cell_type": "code",
   "execution_count": 38,
   "metadata": {},
   "outputs": [
    {
     "data": {
      "text/html": [
       "<div>\n",
       "<style scoped>\n",
       "    .dataframe tbody tr th:only-of-type {\n",
       "        vertical-align: middle;\n",
       "    }\n",
       "\n",
       "    .dataframe tbody tr th {\n",
       "        vertical-align: top;\n",
       "    }\n",
       "\n",
       "    .dataframe thead th {\n",
       "        text-align: right;\n",
       "    }\n",
       "</style>\n",
       "<table border=\"1\" class=\"dataframe\">\n",
       "  <thead>\n",
       "    <tr style=\"text-align: right;\">\n",
       "      <th></th>\n",
       "      <th>c_open</th>\n",
       "      <th>c_high</th>\n",
       "      <th>c_low</th>\n",
       "      <th>c_close</th>\n",
       "      <th>c_adj_close</th>\n",
       "      <th>c_5</th>\n",
       "      <th>c_10</th>\n",
       "      <th>c_15</th>\n",
       "      <th>c_20</th>\n",
       "      <th>c_25</th>\n",
       "      <th>c_30</th>\n",
       "      <th>c_label</th>\n",
       "      <th>Adj Close</th>\n",
       "    </tr>\n",
       "  </thead>\n",
       "  <tbody>\n",
       "    <tr>\n",
       "      <th>2517</th>\n",
       "      <td>0.005121</td>\n",
       "      <td>0.00677</td>\n",
       "      <td>-0.001996</td>\n",
       "      <td>-0.002424</td>\n",
       "      <td>-0.002424</td>\n",
       "      <td>0.002812</td>\n",
       "      <td>0.003368</td>\n",
       "      <td>0.001285</td>\n",
       "      <td>-0.006848</td>\n",
       "      <td>-0.010211</td>\n",
       "      <td>-0.009698</td>\n",
       "      <td>0</td>\n",
       "      <td>115.209999</td>\n",
       "    </tr>\n",
       "  </tbody>\n",
       "</table>\n",
       "</div>"
      ],
      "text/plain": [
       "        c_open   c_high     c_low   c_close  c_adj_close       c_5      c_10  \\\n",
       "2517  0.005121  0.00677 -0.001996 -0.002424    -0.002424  0.002812  0.003368   \n",
       "\n",
       "          c_15      c_20      c_25      c_30  c_label   Adj Close  \n",
       "2517  0.001285 -0.006848 -0.010211 -0.009698        0  115.209999  "
      ]
     },
     "execution_count": 38,
     "metadata": {},
     "output_type": "execute_result"
    }
   ],
   "source": [
    "processed_df[processed_df['c_label'] == 0] "
   ]
  },
  {
   "cell_type": "code",
   "execution_count": null,
   "metadata": {},
   "outputs": [],
   "source": []
  }
 ],
 "metadata": {
  "kernelspec": {
   "display_name": "Python 3.10.5 ('ml')",
   "language": "python",
   "name": "python3"
  },
  "language_info": {
   "codemirror_mode": {
    "name": "ipython",
    "version": 3
   },
   "file_extension": ".py",
   "mimetype": "text/x-python",
   "name": "python",
   "nbconvert_exporter": "python",
   "pygments_lexer": "ipython3",
   "version": "3.10.5"
  },
  "orig_nbformat": 4,
  "vscode": {
   "interpreter": {
    "hash": "a39a2dbc1b0080d8d73a667c0a770303b80bfa16b99e3cad7bfe1efe562f6dfa"
   }
  }
 },
 "nbformat": 4,
 "nbformat_minor": 2
}
