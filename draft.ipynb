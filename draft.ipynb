{
 "cells": [
  {
   "cell_type": "code",
   "execution_count": 1,
   "metadata": {},
   "outputs": [],
   "source": [
    "from multiprocessing.dummy import active_children\n",
    "import os\n",
    "from re import I\n",
    "import sys\n",
    "import logging\n",
    "import argparse\n",
    "\n",
    "import json\n",
    "import pandas as pd\n",
    "import numpy as np\n",
    "\n",
    "from keras import activations\n",
    "from keras.layers import Input\n",
    "from keras.layers import Dense\n",
    "from keras.layers import LSTM\n",
    "from keras.layers import BatchNormalization\n",
    "from keras.layers import Lambda, Concatenate, Reshape, Add, Dropout\n",
    "from keras.layers import MultiHeadAttention\n",
    "from keras.models import Model \n",
    "\n",
    "from keras.utils.vis_utils import plot_model\n",
    "\n",
    "from myattention import Attention\n",
    "from layers import Aggregate\n",
    "from load import load_data, load_cla_data"
   ]
  },
  {
   "cell_type": "code",
   "execution_count": 24,
   "metadata": {},
   "outputs": [
    {
     "name": "stdout",
     "output_type": "stream",
     "text": [
      "Epoch 1/5\n"
     ]
    },
    {
     "name": "stderr",
     "output_type": "stream",
     "text": [
      "2022-07-27 16:16:17.163344: W tensorflow/core/grappler/costs/op_level_cost_estimator.cc:690] Error in PredictCost() for the op: op: \"Softmax\" attr { key: \"T\" value { type: DT_FLOAT } } inputs { dtype: DT_FLOAT shape { unknown_rank: true } } device { type: \"CPU\" vendor: \"GenuineIntel\" model: \"110\" frequency: 2600 num_cores: 12 environment { key: \"cpu_instruction_set\" value: \"SSE, SSE2, SSE3, SSSE3, SSE4.1, SSE4.2\" } environment { key: \"eigen\" value: \"3.4.90\" } l1_cache_size: 32768 l2_cache_size: 262144 l3_cache_size: 12582912 memory_size: 268435456 } outputs { dtype: DT_FLOAT shape { unknown_rank: true } }\n",
      "2022-07-27 16:16:17.163475: W tensorflow/core/grappler/costs/op_level_cost_estimator.cc:690] Error in PredictCost() for the op: op: \"Softmax\" attr { key: \"T\" value { type: DT_FLOAT } } inputs { dtype: DT_FLOAT shape { unknown_rank: true } } device { type: \"CPU\" vendor: \"GenuineIntel\" model: \"110\" frequency: 2600 num_cores: 12 environment { key: \"cpu_instruction_set\" value: \"SSE, SSE2, SSE3, SSSE3, SSE4.1, SSE4.2\" } environment { key: \"eigen\" value: \"3.4.90\" } l1_cache_size: 32768 l2_cache_size: 262144 l3_cache_size: 12582912 memory_size: 268435456 } outputs { dtype: DT_FLOAT shape { unknown_rank: true } }\n"
     ]
    },
    {
     "name": "stdout",
     "output_type": "stream",
     "text": [
      "1/1 [==============================] - 4s 4s/step - loss: 16.0000\n",
      "Epoch 2/5\n",
      "1/1 [==============================] - 0s 5ms/step - loss: 15.9988\n",
      "Epoch 3/5\n",
      "1/1 [==============================] - 0s 5ms/step - loss: 15.9977\n",
      "Epoch 4/5\n",
      "1/1 [==============================] - 0s 5ms/step - loss: 15.9965\n",
      "Epoch 5/5\n",
      "1/1 [==============================] - 0s 6ms/step - loss: 15.9953\n"
     ]
    },
    {
     "ename": "ValueError",
     "evalue": "in user code:\n\n    File \"/Users/narijeong/opt/anaconda3/envs/ml/lib/python3.9/site-packages/keras/engine/training.py\", line 1845, in predict_function  *\n        return step_function(self, iterator)\n    File \"/Users/narijeong/opt/anaconda3/envs/ml/lib/python3.9/site-packages/keras/engine/training.py\", line 1834, in step_function  **\n        outputs = model.distribute_strategy.run(run_step, args=(data,))\n    File \"/Users/narijeong/opt/anaconda3/envs/ml/lib/python3.9/site-packages/keras/engine/training.py\", line 1823, in run_step  **\n        outputs = model.predict_step(data)\n    File \"/Users/narijeong/opt/anaconda3/envs/ml/lib/python3.9/site-packages/keras/engine/training.py\", line 1791, in predict_step\n        return self(x, training=False)\n    File \"/Users/narijeong/opt/anaconda3/envs/ml/lib/python3.9/site-packages/keras/utils/traceback_utils.py\", line 67, in error_handler\n        raise e.with_traceback(filtered_tb) from None\n    File \"/Users/narijeong/opt/anaconda3/envs/ml/lib/python3.9/site-packages/keras/engine/input_spec.py\", line 264, in assert_input_compatibility\n        raise ValueError(f'Input {input_index} of layer \"{layer_name}\" is '\n\n    ValueError: Input 0 of layer \"model_10\" is incompatible with the layer: expected shape=(None, 3, 11), found shape=(None, 11)\n",
     "output_type": "error",
     "traceback": [
      "\u001b[0;31m---------------------------------------------------------------------------\u001b[0m",
      "\u001b[0;31mValueError\u001b[0m                                Traceback (most recent call last)",
      "\u001b[1;32m/Users/narijeong/Dev/stock-prediction-with-context/draft.ipynb Cell 2\u001b[0m in \u001b[0;36m<cell line: 75>\u001b[0;34m()\u001b[0m\n\u001b[1;32m     <a href='vscode-notebook-cell:/Users/narijeong/Dev/stock-prediction-with-context/draft.ipynb#ch0000001?line=75'>76</a>\u001b[0m model\u001b[39m.\u001b[39mfit(x\u001b[39m=\u001b[39m[index,stock2], y\u001b[39m=\u001b[39my, epochs\u001b[39m=\u001b[39m\u001b[39m5\u001b[39m)\n\u001b[1;32m     <a href='vscode-notebook-cell:/Users/narijeong/Dev/stock-prediction-with-context/draft.ipynb#ch0000001?line=76'>77</a>\u001b[0m weights \u001b[39m=\u001b[39m model\u001b[39m.\u001b[39mget_layer(\u001b[39m'\u001b[39m\u001b[39maggregate\u001b[39m\u001b[39m'\u001b[39m)\u001b[39m.\u001b[39mget_weights()\n\u001b[0;32m---> <a href='vscode-notebook-cell:/Users/narijeong/Dev/stock-prediction-with-context/draft.ipynb#ch0000001?line=77'>78</a>\u001b[0m pred \u001b[39m=\u001b[39m model\u001b[39m.\u001b[39;49mpredict([np\u001b[39m.\u001b[39;49marray([[\u001b[39m1\u001b[39;49m,\u001b[39m2\u001b[39;49m,\u001b[39m3\u001b[39;49m,\u001b[39m4\u001b[39;49m,\u001b[39m5\u001b[39;49m,\u001b[39m6\u001b[39;49m,\u001b[39m7\u001b[39;49m,\u001b[39m8\u001b[39;49m,\u001b[39m9\u001b[39;49m,\u001b[39m10\u001b[39;49m,\u001b[39m11\u001b[39;49m],\n\u001b[1;32m     <a href='vscode-notebook-cell:/Users/narijeong/Dev/stock-prediction-with-context/draft.ipynb#ch0000001?line=78'>79</a>\u001b[0m             [\u001b[39m2\u001b[39;49m,\u001b[39m3\u001b[39;49m,\u001b[39m4\u001b[39;49m,\u001b[39m5\u001b[39;49m,\u001b[39m6\u001b[39;49m,\u001b[39m7\u001b[39;49m,\u001b[39m8\u001b[39;49m,\u001b[39m9\u001b[39;49m,\u001b[39m10\u001b[39;49m,\u001b[39m11\u001b[39;49m,\u001b[39m12\u001b[39;49m],\n\u001b[1;32m     <a href='vscode-notebook-cell:/Users/narijeong/Dev/stock-prediction-with-context/draft.ipynb#ch0000001?line=79'>80</a>\u001b[0m             [\u001b[39m3\u001b[39;49m,\u001b[39m4\u001b[39;49m,\u001b[39m5\u001b[39;49m,\u001b[39m6\u001b[39;49m,\u001b[39m7\u001b[39;49m,\u001b[39m8\u001b[39;49m,\u001b[39m9\u001b[39;49m,\u001b[39m10\u001b[39;49m,\u001b[39m11\u001b[39;49m,\u001b[39m12\u001b[39;49m,\u001b[39m13\u001b[39;49m]]), np\u001b[39m.\u001b[39;49marray([[\u001b[39m1\u001b[39;49m,\u001b[39m2\u001b[39;49m,\u001b[39m3\u001b[39;49m,\u001b[39m4\u001b[39;49m,\u001b[39m5\u001b[39;49m,\u001b[39m6\u001b[39;49m,\u001b[39m7\u001b[39;49m,\u001b[39m8\u001b[39;49m,\u001b[39m9\u001b[39;49m,\u001b[39m10\u001b[39;49m,\u001b[39m11\u001b[39;49m],\n\u001b[1;32m     <a href='vscode-notebook-cell:/Users/narijeong/Dev/stock-prediction-with-context/draft.ipynb#ch0000001?line=80'>81</a>\u001b[0m             [\u001b[39m2\u001b[39;49m,\u001b[39m3\u001b[39;49m,\u001b[39m4\u001b[39;49m,\u001b[39m5\u001b[39;49m,\u001b[39m6\u001b[39;49m,\u001b[39m7\u001b[39;49m,\u001b[39m8\u001b[39;49m,\u001b[39m9\u001b[39;49m,\u001b[39m10\u001b[39;49m,\u001b[39m11\u001b[39;49m,\u001b[39m12\u001b[39;49m],\n\u001b[1;32m     <a href='vscode-notebook-cell:/Users/narijeong/Dev/stock-prediction-with-context/draft.ipynb#ch0000001?line=81'>82</a>\u001b[0m             [\u001b[39m3\u001b[39;49m,\u001b[39m4\u001b[39;49m,\u001b[39m5\u001b[39;49m,\u001b[39m6\u001b[39;49m,\u001b[39m7\u001b[39;49m,\u001b[39m8\u001b[39;49m,\u001b[39m9\u001b[39;49m,\u001b[39m10\u001b[39;49m,\u001b[39m11\u001b[39;49m,\u001b[39m12\u001b[39;49m,\u001b[39m13\u001b[39;49m]])])\n",
      "File \u001b[0;32m~/opt/anaconda3/envs/ml/lib/python3.9/site-packages/keras/utils/traceback_utils.py:67\u001b[0m, in \u001b[0;36mfilter_traceback.<locals>.error_handler\u001b[0;34m(*args, **kwargs)\u001b[0m\n\u001b[1;32m     65\u001b[0m \u001b[39mexcept\u001b[39;00m \u001b[39mException\u001b[39;00m \u001b[39mas\u001b[39;00m e:  \u001b[39m# pylint: disable=broad-except\u001b[39;00m\n\u001b[1;32m     66\u001b[0m   filtered_tb \u001b[39m=\u001b[39m _process_traceback_frames(e\u001b[39m.\u001b[39m__traceback__)\n\u001b[0;32m---> 67\u001b[0m   \u001b[39mraise\u001b[39;00m e\u001b[39m.\u001b[39mwith_traceback(filtered_tb) \u001b[39mfrom\u001b[39;00m \u001b[39mNone\u001b[39m\n\u001b[1;32m     68\u001b[0m \u001b[39mfinally\u001b[39;00m:\n\u001b[1;32m     69\u001b[0m   \u001b[39mdel\u001b[39;00m filtered_tb\n",
      "File \u001b[0;32m/var/folders/z6/ppq_vf612vqcmz6d6fvrjvqm0000gn/T/__autograph_generated_file154i5_s3.py:15\u001b[0m, in \u001b[0;36mouter_factory.<locals>.inner_factory.<locals>.tf__predict_function\u001b[0;34m(iterator)\u001b[0m\n\u001b[1;32m     13\u001b[0m \u001b[39mtry\u001b[39;00m:\n\u001b[1;32m     14\u001b[0m     do_return \u001b[39m=\u001b[39m \u001b[39mTrue\u001b[39;00m\n\u001b[0;32m---> 15\u001b[0m     retval_ \u001b[39m=\u001b[39m ag__\u001b[39m.\u001b[39mconverted_call(ag__\u001b[39m.\u001b[39mld(step_function), (ag__\u001b[39m.\u001b[39mld(\u001b[39mself\u001b[39m), ag__\u001b[39m.\u001b[39mld(iterator)), \u001b[39mNone\u001b[39;00m, fscope)\n\u001b[1;32m     16\u001b[0m \u001b[39mexcept\u001b[39;00m:\n\u001b[1;32m     17\u001b[0m     do_return \u001b[39m=\u001b[39m \u001b[39mFalse\u001b[39;00m\n",
      "\u001b[0;31mValueError\u001b[0m: in user code:\n\n    File \"/Users/narijeong/opt/anaconda3/envs/ml/lib/python3.9/site-packages/keras/engine/training.py\", line 1845, in predict_function  *\n        return step_function(self, iterator)\n    File \"/Users/narijeong/opt/anaconda3/envs/ml/lib/python3.9/site-packages/keras/engine/training.py\", line 1834, in step_function  **\n        outputs = model.distribute_strategy.run(run_step, args=(data,))\n    File \"/Users/narijeong/opt/anaconda3/envs/ml/lib/python3.9/site-packages/keras/engine/training.py\", line 1823, in run_step  **\n        outputs = model.predict_step(data)\n    File \"/Users/narijeong/opt/anaconda3/envs/ml/lib/python3.9/site-packages/keras/engine/training.py\", line 1791, in predict_step\n        return self(x, training=False)\n    File \"/Users/narijeong/opt/anaconda3/envs/ml/lib/python3.9/site-packages/keras/utils/traceback_utils.py\", line 67, in error_handler\n        raise e.with_traceback(filtered_tb) from None\n    File \"/Users/narijeong/opt/anaconda3/envs/ml/lib/python3.9/site-packages/keras/engine/input_spec.py\", line 264, in assert_input_compatibility\n        raise ValueError(f'Input {input_index} of layer \"{layer_name}\" is '\n\n    ValueError: Input 0 of layer \"model_10\" is incompatible with the layer: expected shape=(None, 3, 11), found shape=(None, 11)\n"
     ]
    }
   ],
   "source": [
    "params = {\n",
    "    \"feature_dim\": 11,\n",
    "    \"ticker_size\": 2,\n",
    "    \"sample_size\": 5,\n",
    "}\n",
    "\n",
    "time_steps=3\n",
    "units=11\n",
    "\n",
    "index = np.array([[[1,2,3,4,5,6,7,8,9,10,11],\n",
    "                   [2,3,4,5,6,7,8,9,10,11,12],\n",
    "                   [3,4,5,6,7,8,9,10,11,12,13]],\n",
    "                   [[1,2,3,4,5,6,7,8,9,10,11],\n",
    "                   [2,3,4,5,6,7,8,9,10,11,12],\n",
    "                   [3,4,5,6,7,8,9,10,11,12,13]],\n",
    "                   [[1,2,3,4,5,6,7,8,9,10,11],\n",
    "                   [2,3,4,5,6,7,8,9,10,11,12],\n",
    "                   [3,4,5,6,7,8,9,10,11,12,13]],\n",
    "                   [[1,2,3,4,5,6,7,8,9,10,11],\n",
    "                   [2,3,4,5,6,7,8,9,10,11,12],\n",
    "                   [3,4,5,6,7,8,9,10,11,12,13]],\n",
    "                   [[1,2,3,4,5,6,7,8,9,10,11],\n",
    "                   [2,3,4,5,6,7,8,9,10,11,12],\n",
    "                   [3,4,5,6,7,8,9,10,11,12,13]],])\n",
    "stock1 = np.array([[[1,2,3,4,5,6,7,8,9,10,11],\n",
    "                [2,3,4,5,6,7,8,9,10,11,12],\n",
    "                [3,4,5,6,7,8,9,10,11,12,13]],\n",
    "                [[1,2,3,4,5,6,7,8,9,10,11],\n",
    "                [2,3,4,5,6,7,8,9,10,11,12],\n",
    "                [3,4,5,6,7,8,9,10,11,12,13]],\n",
    "                [[1,2,3,4,5,6,7,8,9,10,11],\n",
    "                [2,3,4,5,6,7,8,9,10,11,12],\n",
    "                [3,4,5,6,7,8,9,10,11,12,13]],\n",
    "                [[1,2,3,4,5,6,7,8,9,10,11],\n",
    "                [2,3,4,5,6,7,8,9,10,11,12],\n",
    "                [3,4,5,6,7,8,9,10,11,12,13]],\n",
    "                [[1,2,3,4,5,6,7,8,9,10,11],\n",
    "                [2,3,4,5,6,7,8,9,10,11,12],\n",
    "                [3,4,5,6,7,8,9,10,11,12,13]],])\n",
    "stock2 = np.array([[[1,2,3,4,5,6,7,8,9,10,11],\n",
    "                [2,3,4,5,6,7,8,9,10,11,12],\n",
    "                [3,4,5,6,7,8,9,10,11,12,13]],\n",
    "                [[1,2,3,4,5,6,7,8,9,10,11],\n",
    "                [2,3,4,5,6,7,8,9,10,11,12],\n",
    "                [3,4,5,6,7,8,9,10,11,12,13]],\n",
    "                [[1,2,3,4,5,6,7,8,9,10,11],\n",
    "                [2,3,4,5,6,7,8,9,10,11,12],\n",
    "                [3,4,5,6,7,8,9,10,11,12,13]],\n",
    "                [[1,2,3,4,5,6,7,8,9,10,11],\n",
    "                [2,3,4,5,6,7,8,9,10,11,12],\n",
    "                [3,4,5,6,7,8,9,10,11,12,13]],\n",
    "                [[1,2,3,4,5,6,7,8,9,10,11],\n",
    "                [2,3,4,5,6,7,8,9,10,11,12],\n",
    "                [3,4,5,6,7,8,9,10,11,12,13]],])\n",
    "stocks = [stock1, stock2]\n",
    "y = np.array([14,15,16,17,18])\n",
    "\n",
    "def time_axis_attention(model_input, feature_dim, units):\n",
    "    x = Dense(feature_dim, activation='tanh')(model_input)\n",
    "    x = LSTM(units, return_sequences=True)(x)\n",
    "    x = Attention(feature_dim)(x)\n",
    "    x = BatchNormalization()(x)\n",
    "    return x\n",
    "\n",
    "context_aggs = []\n",
    "index_input = Input(shape=(time_steps, params['feature_dim']))\n",
    "stock_input = Input(shape=(time_steps, params['feature_dim']))\n",
    "index_model = time_axis_attention(index_input, params['feature_dim'], units)\n",
    "stock_model = time_axis_attention(stock_input, params['feature_dim'], units)\n",
    "context_agg = Aggregate(11)([index_model, stock_model])\n",
    "model = Model(inputs=[index_input, stock_input], outputs=context_agg)\n",
    "model.compile(loss='mae', optimizer='adam')\n",
    "plot_model(model, to_file='test.png', show_shapes=True, show_layer_names=True)\n",
    "weights = None\n",
    "\n",
    "\n",
    "test = np.array([[1,2,3,4,5,6,7,8,9,10,11],\n",
    "                [2,3,4,5,6,7,8,9,10,11,12],\n",
    "                [3,4,5,6,7,8,9,10,11,12,13]])\n",
    "\n",
    "for i, stock in enumerate(stocks[:1]):\n",
    "    model.fit(x=[index,stock2], y=y, epochs=5)\n",
    "    weights = model.get_layer('aggregate').get_weights()\n",
    "    pred = model.predict([test,test]])\n",
    "\n"
   ]
  },
  {
   "cell_type": "code",
   "execution_count": 26,
   "metadata": {},
   "outputs": [
    {
     "data": {
      "text/plain": [
       "[[1, 2, 3, 4, 5, 6, 7, 8, 9, 10, 11],\n",
       " [2, 3, 4, 5, 6, 7, 8, 9, 10, 11, 12],\n",
       " [3, 4, 5, 6, 7, 8, 9, 10, 11, 12, 13]]"
      ]
     },
     "execution_count": 26,
     "metadata": {},
     "output_type": "execute_result"
    }
   ],
   "source": [
    "[[1,2,3,4,5,6,7,8,9,10,11],\n",
    "                [2,3,4,5,6,7,8,9,10,11,12],\n",
    "                [3,4,5,6,7,8,9,10,11,12,13]]"
   ]
  },
  {
   "cell_type": "code",
   "execution_count": 16,
   "metadata": {},
   "outputs": [
    {
     "data": {
      "text/plain": [
       "11"
      ]
     },
     "execution_count": 16,
     "metadata": {},
     "output_type": "execute_result"
    }
   ],
   "source": [
    "len(weights[0])"
   ]
  },
  {
   "cell_type": "code",
   "execution_count": 20,
   "metadata": {},
   "outputs": [
    {
     "data": {
      "text/plain": [
       "11"
      ]
     },
     "execution_count": 20,
     "metadata": {},
     "output_type": "execute_result"
    }
   ],
   "source": [
    "len(weights[0][0])"
   ]
  },
  {
   "cell_type": "code",
   "execution_count": null,
   "metadata": {},
   "outputs": [],
   "source": []
  }
 ],
 "metadata": {
  "kernelspec": {
   "display_name": "Python 3.9.12 ('ml')",
   "language": "python",
   "name": "python3"
  },
  "language_info": {
   "codemirror_mode": {
    "name": "ipython",
    "version": 3
   },
   "file_extension": ".py",
   "mimetype": "text/x-python",
   "name": "python",
   "nbconvert_exporter": "python",
   "pygments_lexer": "ipython3",
   "version": "3.9.12"
  },
  "orig_nbformat": 4,
  "vscode": {
   "interpreter": {
    "hash": "1021d077b7873670e1beefb758f64d1cb6dee6622cc6b5e630350531058a0bc8"
   }
  }
 },
 "nbformat": 4,
 "nbformat_minor": 2
}
