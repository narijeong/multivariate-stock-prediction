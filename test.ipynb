{
 "cells": [
  {
   "cell_type": "code",
   "execution_count": 3,
   "metadata": {},
   "outputs": [
    {
     "name": "stdout",
     "output_type": "stream",
     "text": [
      "51  tickers selected\n",
      "['SNP500.csv', 'BA.csv', 'TM.csv', 'MO.csv', 'NVS.csv', 'T.csv', 'DCM.csv', 'CHL.csv', 'BAC.csv', 'PEP.csv', 'VALE.csv', 'D.csv', 'MRK.csv', 'ORCL.csv', 'PG.csv', 'AMZN.csv', 'INTC.csv', 'MMM.csv', 'KO.csv', 'UPS.csv', 'MSFT.csv', 'TOT.csv', 'EXC.csv', 'HD.csv', 'SO.csv', 'XOM.csv', 'CVX.csv', 'RDS-B.csv', 'CMCSA.csv', 'NGG.csv', 'BHP.csv', 'WFC.csv', 'DIS.csv', 'GE.csv', 'PTR.csv', 'JPM.csv', 'SPY.csv', 'GOOGL.csv', 'PFE.csv', 'DUK.csv', 'VZ.csv', 'UNH.csv', 'MA.csv', 'SYT.csv', 'AAPL.csv', 'WMT.csv', 'NTT.csv', 'RIO.csv', 'BRK-B.csv', 'DOW.csv', 'JNJ.csv']\n"
     ]
    }
   ],
   "source": [
    "from datetime import datetime\n",
    "import numpy as np\n",
    "import os\n",
    "\n",
    "\n",
    "# if __name__ == '__main__':\n",
    "#     # TEST\n",
    "#     _, _, tra_gt, _, _, val_gt, _, _, tes_gt = load_cla_data(\n",
    "#         './data/kdd17/ourpped/',\n",
    "#         '2007-01-03', '2015-01-02', '2016-01-04'\n",
    "#     )\n",
    "\n",
    "data_path = './data/kdd17/ourpped/'\n",
    "# return data in form (batch size, num stocks, time_steps, feature_size)\n",
    "# def load_cla_data(data_path, tra_date, val_date, tes_date, seq=2,\n",
    "#                   date_format='%Y-%m-%d'):\n",
    "fnames = [fname for fname in os.listdir(data_path) if\n",
    "            os.path.isfile(os.path.join(data_path, fname))]\n",
    "print(len(fnames), ' tickers selected')\n",
    "ticker_num = len(fnames)\n",
    "\n",
    "fnames.remove('SNP500.csv')\n",
    "fnames.insert(0, 'SNP500.csv')\n",
    "print(fnames)\n",
    "\n",
    "data_EOD = []\n",
    "for index, fname in enumerate(fnames):\n",
    "    # print(fname)\n",
    "    single_EOD = np.genfromtxt(\n",
    "        os.path.join(data_path, fname), dtype=float, delimiter=',',\n",
    "        skip_header=False\n",
    "    )\n",
    "    # print('data shape:', single_EOD.shape)\n",
    "    data_EOD.append(single_EOD)"
   ]
  },
  {
   "cell_type": "code",
   "execution_count": 4,
   "metadata": {},
   "outputs": [
    {
     "data": {
      "text/plain": [
       "(2518, 13)"
      ]
     },
     "execution_count": 4,
     "metadata": {},
     "output_type": "execute_result"
    }
   ],
   "source": [
    "data_EOD[0].shape"
   ]
  },
  {
   "cell_type": "code",
   "execution_count": 5,
   "metadata": {},
   "outputs": [],
   "source": [
    "x = np.array([[[1,2,3,4,5,6,7,8,9,10,11],\n",
    "                   [2,3,4,5,6,7,8,9,10,11,12],\n",
    "                   [3,4,5,6,7,8,9,10,11,12,13]],\n",
    "                   [[1,2,3,4,5,6,7,8,9,10,11],\n",
    "                   [2,3,4,5,6,7,8,9,10,11,12],\n",
    "                   [3,4,5,6,7,8,9,10,11,12,13]],\n",
    "                   [[1,2,3,4,5,6,7,8,9,10,11],\n",
    "                   [2,3,4,5,6,7,8,9,10,11,12],\n",
    "                   [3,4,5,6,7,8,9,10,11,12,13]],\n",
    "                   [[1,2,3,4,5,6,7,8,9,10,11],\n",
    "                   [2,3,4,5,6,7,8,9,10,11,12],\n",
    "                   [3,4,5,6,7,8,9,10,11,12,13]],\n",
    "                   [[1,2,3,4,5,6,7,8,9,10,11],\n",
    "                   [2,3,4,5,6,7,8,9,10,11,12],\n",
    "                   [3,4,5,6,7,8,9,10,11,12,13]],])"
   ]
  },
  {
   "cell_type": "code",
   "execution_count": 6,
   "metadata": {},
   "outputs": [
    {
     "data": {
      "text/plain": [
       "array([[[ 1,  2,  3,  4,  5,  6,  7,  8,  9, 10, 11],\n",
       "        [ 2,  3,  4,  5,  6,  7,  8,  9, 10, 11, 12],\n",
       "        [ 3,  4,  5,  6,  7,  8,  9, 10, 11, 12, 13]],\n",
       "\n",
       "       [[ 1,  2,  3,  4,  5,  6,  7,  8,  9, 10, 11],\n",
       "        [ 2,  3,  4,  5,  6,  7,  8,  9, 10, 11, 12],\n",
       "        [ 3,  4,  5,  6,  7,  8,  9, 10, 11, 12, 13]],\n",
       "\n",
       "       [[ 1,  2,  3,  4,  5,  6,  7,  8,  9, 10, 11],\n",
       "        [ 2,  3,  4,  5,  6,  7,  8,  9, 10, 11, 12],\n",
       "        [ 3,  4,  5,  6,  7,  8,  9, 10, 11, 12, 13]],\n",
       "\n",
       "       [[ 1,  2,  3,  4,  5,  6,  7,  8,  9, 10, 11],\n",
       "        [ 2,  3,  4,  5,  6,  7,  8,  9, 10, 11, 12],\n",
       "        [ 3,  4,  5,  6,  7,  8,  9, 10, 11, 12, 13]],\n",
       "\n",
       "       [[ 1,  2,  3,  4,  5,  6,  7,  8,  9, 10, 11],\n",
       "        [ 2,  3,  4,  5,  6,  7,  8,  9, 10, 11, 12],\n",
       "        [ 3,  4,  5,  6,  7,  8,  9, 10, 11, 12, 13]]])"
      ]
     },
     "execution_count": 6,
     "metadata": {},
     "output_type": "execute_result"
    }
   ],
   "source": [
    "x"
   ]
  },
  {
   "cell_type": "code",
   "execution_count": 7,
   "metadata": {},
   "outputs": [
    {
     "data": {
      "text/plain": [
       "(5, 3, 11)"
      ]
     },
     "execution_count": 7,
     "metadata": {},
     "output_type": "execute_result"
    }
   ],
   "source": [
    "x.shape"
   ]
  },
  {
   "cell_type": "code",
   "execution_count": 15,
   "metadata": {},
   "outputs": [],
   "source": [
    "fun = lambda x: x + x[0,0]"
   ]
  },
  {
   "cell_type": "code",
   "execution_count": 17,
   "metadata": {},
   "outputs": [],
   "source": [
    "result = fun(x)"
   ]
  },
  {
   "cell_type": "code",
   "execution_count": 18,
   "metadata": {},
   "outputs": [
    {
     "data": {
      "text/plain": [
       "array([[[ 2,  4,  6,  8, 10, 12, 14, 16, 18, 20, 22],\n",
       "        [ 4,  6,  8, 10, 12, 14, 16, 18, 20, 22, 24],\n",
       "        [ 6,  8, 10, 12, 14, 16, 18, 20, 22, 24, 26]],\n",
       "\n",
       "       [[ 2,  4,  6,  8, 10, 12, 14, 16, 18, 20, 22],\n",
       "        [ 4,  6,  8, 10, 12, 14, 16, 18, 20, 22, 24],\n",
       "        [ 6,  8, 10, 12, 14, 16, 18, 20, 22, 24, 26]],\n",
       "\n",
       "       [[ 2,  4,  6,  8, 10, 12, 14, 16, 18, 20, 22],\n",
       "        [ 4,  6,  8, 10, 12, 14, 16, 18, 20, 22, 24],\n",
       "        [ 6,  8, 10, 12, 14, 16, 18, 20, 22, 24, 26]],\n",
       "\n",
       "       [[ 2,  4,  6,  8, 10, 12, 14, 16, 18, 20, 22],\n",
       "        [ 4,  6,  8, 10, 12, 14, 16, 18, 20, 22, 24],\n",
       "        [ 6,  8, 10, 12, 14, 16, 18, 20, 22, 24, 26]],\n",
       "\n",
       "       [[ 2,  4,  6,  8, 10, 12, 14, 16, 18, 20, 22],\n",
       "        [ 4,  6,  8, 10, 12, 14, 16, 18, 20, 22, 24],\n",
       "        [ 6,  8, 10, 12, 14, 16, 18, 20, 22, 24, 26]]])"
      ]
     },
     "execution_count": 18,
     "metadata": {},
     "output_type": "execute_result"
    }
   ],
   "source": [
    "result"
   ]
  },
  {
   "cell_type": "code",
   "execution_count": null,
   "metadata": {},
   "outputs": [],
   "source": []
  }
 ],
 "metadata": {
  "kernelspec": {
   "display_name": "Python 3.9.12 ('ml')",
   "language": "python",
   "name": "python3"
  },
  "language_info": {
   "codemirror_mode": {
    "name": "ipython",
    "version": 3
   },
   "file_extension": ".py",
   "mimetype": "text/x-python",
   "name": "python",
   "nbconvert_exporter": "python",
   "pygments_lexer": "ipython3",
   "version": "3.9.12"
  },
  "orig_nbformat": 4,
  "vscode": {
   "interpreter": {
    "hash": "1021d077b7873670e1beefb758f64d1cb6dee6622cc6b5e630350531058a0bc8"
   }
  }
 },
 "nbformat": 4,
 "nbformat_minor": 2
}
