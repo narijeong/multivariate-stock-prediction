{
 "cells": [
  {
   "cell_type": "code",
   "execution_count": 23,
   "metadata": {},
   "outputs": [
    {
     "name": "stdout",
     "output_type": "stream",
     "text": [
      "49  tickers\n"
     ]
    }
   ],
   "source": [
    "import os\n",
    "\n",
    "import numpy as np\n",
    "from tensorflow.keras import Input\n",
    "from tensorflow.keras.layers import Dense, LSTM\n",
    "from tensorflow.keras.models import load_model, Model\n",
    "\n",
    "from attention import Attention\n",
    "from load import load_data\n",
    "\n",
    "tra_date = '2007-02-14'\n",
    "val_date = '2015-01-02'\n",
    "tes_date = '2016-01-04'\n",
    "model_selection = 'dtml'\n",
    "\n",
    "index_data_path = './data/kdd17/index/'\n",
    "data_path = './data/kdd17/processed/'\n",
    "num_tickers = 50\n",
    "params = {\n",
    "    'input_dim': 11,\n",
    "    'time_steps': 15,\n",
    "    'epochs': 5,\n",
    "}\n",
    "\n",
    "fnames = [fname for fname in os.listdir(data_path) if\n",
    "            os.path.isfile(os.path.join(data_path, fname))]\n",
    "print(len(fnames), ' tickers')\n",
    "\n",
    "stock_layers = [x[:-4] for x in fnames]\n",
    "\n",
    "\n",
    "stock_context_vector = np.zeros([50, 1970, 11], dtype=float)\n",
    "index_context_vector = np.zeros([1, 1970, 11], dtype=float)\n",
    "\n",
    "def time_axis_attention(data_path, fname):\n",
    "    print(fname)\n",
    "    tra_pv, tra_wd, tra_gt, val_pv, val_wd, val_gt, tes_pv, tes_wd, tes_gt = load_data(data_path, fname,\n",
    "            tra_date, val_date, tes_date, seq=params['time_steps']\n",
    "        ) \n",
    "    model_input = Input(shape=(params['time_steps'], params['input_dim']))\n",
    "    x = Dense(params['input_dim'])(model_input)\n",
    "    x = LSTM(64, return_sequences=True)(x)\n",
    "    x = Attention(params['input_dim'])(x)\n",
    "    # x = Dense(1, activation = 'sigmoid')(x)\n",
    "    # x = Dense(1)(x)\n",
    "    # model = Model(model_input, x)\n",
    "    # model.compile(loss='mae', optimizer='adam')\n",
    "    # model.summary()\n",
    "\n",
    "    # save context vector\n",
    "    # intermediate_layer_model = Model(inputs=model.input, outputs=model.layers[-1].output)\n",
    "    # intermediate_output = intermediate_layer_model(tra_pv)\n",
    "    # stock_context_vector[idx] = intermediate_output.numpy()\n",
    "\n",
    "    # model.fit(tra_pv, tra_gt, epochs=params['epochs'])"
   ]
  },
  {
   "cell_type": "code",
   "execution_count": 24,
   "metadata": {},
   "outputs": [
    {
     "name": "stdout",
     "output_type": "stream",
     "text": [
      "SPY_processed.csv\n",
      "1  tickers selected\n",
      "2518 trading dates:\n",
      "29 2014 2266\n",
      "1970  training instances\n",
      "252  validation instances\n",
      "data_EOD 2517\n"
     ]
    },
    {
     "ename": "IndexError",
     "evalue": "index 2517 is out of bounds for axis 0 with size 2517",
     "output_type": "error",
     "traceback": [
      "\u001b[0;31m---------------------------------------------------------------------------\u001b[0m",
      "\u001b[0;31mIndexError\u001b[0m                                Traceback (most recent call last)",
      "\u001b[1;32m/Users/narijeong/Dev/stock-prediction-with-context/02-model.ipynb Cell 2\u001b[0m in \u001b[0;36m<cell line: 1>\u001b[0;34m()\u001b[0m\n\u001b[0;32m----> <a href='vscode-notebook-cell:/Users/narijeong/Dev/stock-prediction-with-context/02-model.ipynb#ch0000017?line=0'>1</a>\u001b[0m index \u001b[39m=\u001b[39m time_axis_attention(index_data_path, \u001b[39m'\u001b[39;49m\u001b[39mSPY_processed.csv\u001b[39;49m\u001b[39m'\u001b[39;49m)\n\u001b[1;32m      <a href='vscode-notebook-cell:/Users/narijeong/Dev/stock-prediction-with-context/02-model.ipynb#ch0000017?line=2'>3</a>\u001b[0m \u001b[39mfor\u001b[39;00m idx, fname \u001b[39min\u001b[39;00m \u001b[39menumerate\u001b[39m(fnames):\n\u001b[1;32m      <a href='vscode-notebook-cell:/Users/narijeong/Dev/stock-prediction-with-context/02-model.ipynb#ch0000017?line=3'>4</a>\u001b[0m     stock_layers[idx] \u001b[39m=\u001b[39m time_axis_attention(data_path, fname)\n",
      "\u001b[1;32m/Users/narijeong/Dev/stock-prediction-with-context/02-model.ipynb Cell 2\u001b[0m in \u001b[0;36mtime_axis_attention\u001b[0;34m(data_path, fname)\u001b[0m\n\u001b[1;32m     <a href='vscode-notebook-cell:/Users/narijeong/Dev/stock-prediction-with-context/02-model.ipynb#ch0000017?line=34'>35</a>\u001b[0m \u001b[39mdef\u001b[39;00m \u001b[39mtime_axis_attention\u001b[39m(data_path, fname):\n\u001b[1;32m     <a href='vscode-notebook-cell:/Users/narijeong/Dev/stock-prediction-with-context/02-model.ipynb#ch0000017?line=35'>36</a>\u001b[0m     \u001b[39mprint\u001b[39m(fname)\n\u001b[0;32m---> <a href='vscode-notebook-cell:/Users/narijeong/Dev/stock-prediction-with-context/02-model.ipynb#ch0000017?line=36'>37</a>\u001b[0m     tra_pv, tra_wd, tra_gt, val_pv, val_wd, val_gt, tes_pv, tes_wd, tes_gt \u001b[39m=\u001b[39m load_data(data_path, fname,\n\u001b[1;32m     <a href='vscode-notebook-cell:/Users/narijeong/Dev/stock-prediction-with-context/02-model.ipynb#ch0000017?line=37'>38</a>\u001b[0m             tra_date, val_date, tes_date, seq\u001b[39m=\u001b[39;49mparams[\u001b[39m'\u001b[39;49m\u001b[39mtime_steps\u001b[39;49m\u001b[39m'\u001b[39;49m]\n\u001b[1;32m     <a href='vscode-notebook-cell:/Users/narijeong/Dev/stock-prediction-with-context/02-model.ipynb#ch0000017?line=38'>39</a>\u001b[0m         ) \n\u001b[1;32m     <a href='vscode-notebook-cell:/Users/narijeong/Dev/stock-prediction-with-context/02-model.ipynb#ch0000017?line=39'>40</a>\u001b[0m     model_input \u001b[39m=\u001b[39m Input(shape\u001b[39m=\u001b[39m(params[\u001b[39m'\u001b[39m\u001b[39mtime_steps\u001b[39m\u001b[39m'\u001b[39m], params[\u001b[39m'\u001b[39m\u001b[39minput_dim\u001b[39m\u001b[39m'\u001b[39m]))\n\u001b[1;32m     <a href='vscode-notebook-cell:/Users/narijeong/Dev/stock-prediction-with-context/02-model.ipynb#ch0000017?line=40'>41</a>\u001b[0m     x \u001b[39m=\u001b[39m Dense(params[\u001b[39m'\u001b[39m\u001b[39minput_dim\u001b[39m\u001b[39m'\u001b[39m])(model_input)\n",
      "File \u001b[0;32m~/Dev/stock-prediction-with-context/load.py:76\u001b[0m, in \u001b[0;36mload_data\u001b[0;34m(data_path, fname, tra_date, val_date, tes_date, seq, date_format)\u001b[0m\n\u001b[1;32m     74\u001b[0m     \u001b[39mcontinue\u001b[39;00m\n\u001b[1;32m     75\u001b[0m \u001b[39mfor\u001b[39;00m tic_ind \u001b[39min\u001b[39;00m \u001b[39mrange\u001b[39m(\u001b[39mlen\u001b[39m(fnames)):\n\u001b[0;32m---> 76\u001b[0m     \u001b[39mif\u001b[39;00m \u001b[39mabs\u001b[39m(data_EOD[tic_ind][date_ind][\u001b[39m-\u001b[39m\u001b[39m2\u001b[39m]) \u001b[39m>\u001b[39m \u001b[39m1e-8\u001b[39m:\n\u001b[1;32m     77\u001b[0m         \u001b[39mif\u001b[39;00m data_EOD[tic_ind][date_ind \u001b[39m-\u001b[39m seq: date_ind, :]\u001b[39m.\u001b[39mmin() \u001b[39m>\u001b[39m \u001b[39m-\u001b[39m\u001b[39m123320\u001b[39m:\n\u001b[1;32m     78\u001b[0m             tes_num \u001b[39m+\u001b[39m\u001b[39m=\u001b[39m \u001b[39m1\u001b[39m\n",
      "\u001b[0;31mIndexError\u001b[0m: index 2517 is out of bounds for axis 0 with size 2517"
     ]
    }
   ],
   "source": [
    "index = time_axis_attention(index_data_path, 'SPY_processed.csv')\n",
    "\n",
    "for idx, fname in enumerate(fnames):\n",
    "    stock_layers[idx] = time_axis_attention(data_path, fname)\n",
    "\n",
    "    "
   ]
  },
  {
   "cell_type": "code",
   "execution_count": 18,
   "metadata": {},
   "outputs": [
    {
     "name": "stdout",
     "output_type": "stream",
     "text": [
      "50  tickers\n",
      "BA.csv\n",
      "1  tickers selected\n",
      "2518 trading dates:\n",
      "29 2014 2266\n",
      "1970  training instances\n",
      "252  validation instances\n",
      "data_EOD 2518\n",
      "251  testing instances\n",
      "Model: \"model_22\"\n",
      "_________________________________________________________________\n",
      " Layer (type)                Output Shape              Param #   \n",
      "=================================================================\n",
      " input_11 (InputLayer)       [(None, 15, 11)]          0         \n",
      "                                                                 \n",
      " dense_10 (Dense)            (None, 15, 11)            132       \n",
      "                                                                 \n",
      " lstm_10 (LSTM)              (None, 15, 64)            19456     \n",
      "                                                                 \n",
      " attention_10 (Attention)    (None, 11)                5504      \n",
      "                                                                 \n",
      "=================================================================\n",
      "Total params: 25,092\n",
      "Trainable params: 25,092\n",
      "Non-trainable params: 0\n",
      "_________________________________________________________________\n",
      "Epoch 1/5\n"
     ]
    },
    {
     "name": "stderr",
     "output_type": "stream",
     "text": [
      "2022-07-17 22:20:46.576893: I tensorflow/core/grappler/optimizers/custom_graph_optimizer_registry.cc:113] Plugin optimizer for device_type GPU is enabled.\n",
      "2022-07-17 22:20:46.686189: W tensorflow/core/grappler/costs/op_level_cost_estimator.cc:690] Error in PredictCost() for the op: op: \"Softmax\" attr { key: \"T\" value { type: DT_FLOAT } } inputs { dtype: DT_FLOAT shape { unknown_rank: true } } device { type: \"GPU\" } outputs { dtype: DT_FLOAT shape { unknown_rank: true } }\n",
      "2022-07-17 22:20:46.838494: I tensorflow/core/grappler/optimizers/custom_graph_optimizer_registry.cc:113] Plugin optimizer for device_type GPU is enabled.\n",
      "2022-07-17 22:20:46.939639: I tensorflow/core/grappler/optimizers/custom_graph_optimizer_registry.cc:113] Plugin optimizer for device_type GPU is enabled.\n"
     ]
    },
    {
     "name": "stdout",
     "output_type": "stream",
     "text": [
      "62/62 [==============================] - 3s 18ms/step - loss: 0.5198\n",
      "Epoch 2/5\n",
      "62/62 [==============================] - 1s 16ms/step - loss: 0.4966\n",
      "Epoch 3/5\n",
      "62/62 [==============================] - 1s 16ms/step - loss: 0.4788\n",
      "Epoch 4/5\n",
      "62/62 [==============================] - 1s 16ms/step - loss: 0.4787\n",
      "Epoch 5/5\n",
      "62/62 [==============================] - 1s 17ms/step - loss: 0.4787\n",
      "TM.csv\n",
      "1  tickers selected\n",
      "2518 trading dates:\n",
      "29 2014 2266\n",
      "1970  training instances\n",
      "252  validation instances\n",
      "data_EOD 2518\n",
      "251  testing instances\n",
      "Model: \"model_24\"\n",
      "_________________________________________________________________\n",
      " Layer (type)                Output Shape              Param #   \n",
      "=================================================================\n",
      " input_12 (InputLayer)       [(None, 15, 11)]          0         \n",
      "                                                                 \n",
      " dense_11 (Dense)            (None, 15, 11)            132       \n",
      "                                                                 \n",
      " lstm_11 (LSTM)              (None, 15, 64)            19456     \n",
      "                                                                 \n",
      " attention_11 (Attention)    (None, 11)                5504      \n",
      "                                                                 \n",
      "=================================================================\n",
      "Total params: 25,092\n",
      "Trainable params: 25,092\n",
      "Non-trainable params: 0\n",
      "_________________________________________________________________\n",
      "Epoch 1/5\n"
     ]
    },
    {
     "name": "stderr",
     "output_type": "stream",
     "text": [
      "2022-07-17 22:20:53.334049: I tensorflow/core/grappler/optimizers/custom_graph_optimizer_registry.cc:113] Plugin optimizer for device_type GPU is enabled.\n",
      "2022-07-17 22:20:53.437392: W tensorflow/core/grappler/costs/op_level_cost_estimator.cc:690] Error in PredictCost() for the op: op: \"Softmax\" attr { key: \"T\" value { type: DT_FLOAT } } inputs { dtype: DT_FLOAT shape { unknown_rank: true } } device { type: \"GPU\" } outputs { dtype: DT_FLOAT shape { unknown_rank: true } }\n",
      "2022-07-17 22:20:53.590121: I tensorflow/core/grappler/optimizers/custom_graph_optimizer_registry.cc:113] Plugin optimizer for device_type GPU is enabled.\n",
      "2022-07-17 22:20:53.696597: I tensorflow/core/grappler/optimizers/custom_graph_optimizer_registry.cc:113] Plugin optimizer for device_type GPU is enabled.\n"
     ]
    },
    {
     "name": "stdout",
     "output_type": "stream",
     "text": [
      "62/62 [==============================] - 2s 17ms/step - loss: 0.4906\n",
      "Epoch 2/5\n",
      "62/62 [==============================] - 1s 15ms/step - loss: 0.4901\n",
      "Epoch 3/5\n",
      "62/62 [==============================] - 1s 15ms/step - loss: 0.4900\n",
      "Epoch 4/5\n",
      "62/62 [==============================] - 1s 15ms/step - loss: 0.4900\n",
      "Epoch 5/5\n",
      "62/62 [==============================] - 1s 15ms/step - loss: 0.4900\n",
      "MO.csv\n",
      "1  tickers selected\n",
      "2518 trading dates:\n",
      "29 2014 2266\n",
      "1970  training instances\n",
      "252  validation instances\n",
      "data_EOD 2518\n",
      "251  testing instances\n",
      "Model: \"model_26\"\n",
      "_________________________________________________________________\n",
      " Layer (type)                Output Shape              Param #   \n",
      "=================================================================\n",
      " input_13 (InputLayer)       [(None, 15, 11)]          0         \n",
      "                                                                 \n",
      " dense_12 (Dense)            (None, 15, 11)            132       \n",
      "                                                                 \n",
      " lstm_12 (LSTM)              (None, 15, 64)            19456     \n",
      "                                                                 \n",
      " attention_12 (Attention)    (None, 11)                5504      \n",
      "                                                                 \n",
      "=================================================================\n",
      "Total params: 25,092\n",
      "Trainable params: 25,092\n",
      "Non-trainable params: 0\n",
      "_________________________________________________________________\n",
      "Epoch 1/5\n"
     ]
    },
    {
     "name": "stderr",
     "output_type": "stream",
     "text": [
      "2022-07-17 22:20:59.963365: I tensorflow/core/grappler/optimizers/custom_graph_optimizer_registry.cc:113] Plugin optimizer for device_type GPU is enabled.\n",
      "2022-07-17 22:21:00.068004: W tensorflow/core/grappler/costs/op_level_cost_estimator.cc:690] Error in PredictCost() for the op: op: \"Softmax\" attr { key: \"T\" value { type: DT_FLOAT } } inputs { dtype: DT_FLOAT shape { unknown_rank: true } } device { type: \"GPU\" } outputs { dtype: DT_FLOAT shape { unknown_rank: true } }\n"
     ]
    },
    {
     "name": "stdout",
     "output_type": "stream",
     "text": [
      " 1/62 [..............................] - ETA: 1:33 - loss: 0.5026"
     ]
    },
    {
     "name": "stderr",
     "output_type": "stream",
     "text": [
      "2022-07-17 22:21:00.218819: I tensorflow/core/grappler/optimizers/custom_graph_optimizer_registry.cc:113] Plugin optimizer for device_type GPU is enabled.\n",
      "2022-07-17 22:21:00.319667: I tensorflow/core/grappler/optimizers/custom_graph_optimizer_registry.cc:113] Plugin optimizer for device_type GPU is enabled.\n"
     ]
    },
    {
     "name": "stdout",
     "output_type": "stream",
     "text": [
      "62/62 [==============================] - 3s 17ms/step - loss: 0.5070\n",
      "Epoch 2/5\n",
      "62/62 [==============================] - 1s 15ms/step - loss: 0.4417\n",
      "Epoch 3/5\n",
      "62/62 [==============================] - 1s 15ms/step - loss: 0.4416\n",
      "Epoch 4/5\n",
      "62/62 [==============================] - 1s 15ms/step - loss: 0.4416\n",
      "Epoch 5/5\n",
      "62/62 [==============================] - 1s 15ms/step - loss: 0.4416\n",
      "NVS.csv\n",
      "1  tickers selected\n",
      "2518 trading dates:\n",
      "29 2014 2266\n",
      "1970  training instances\n",
      "252  validation instances\n",
      "data_EOD 2518\n",
      "251  testing instances\n",
      "Model: \"model_28\"\n",
      "_________________________________________________________________\n",
      " Layer (type)                Output Shape              Param #   \n",
      "=================================================================\n",
      " input_14 (InputLayer)       [(None, 15, 11)]          0         \n",
      "                                                                 \n",
      " dense_13 (Dense)            (None, 15, 11)            132       \n",
      "                                                                 \n",
      " lstm_13 (LSTM)              (None, 15, 64)            19456     \n",
      "                                                                 \n",
      " attention_13 (Attention)    (None, 11)                5504      \n",
      "                                                                 \n",
      "=================================================================\n",
      "Total params: 25,092\n",
      "Trainable params: 25,092\n",
      "Non-trainable params: 0\n",
      "_________________________________________________________________\n",
      "Epoch 1/5\n"
     ]
    },
    {
     "name": "stderr",
     "output_type": "stream",
     "text": [
      "2022-07-17 22:21:06.422747: I tensorflow/core/grappler/optimizers/custom_graph_optimizer_registry.cc:113] Plugin optimizer for device_type GPU is enabled.\n",
      "2022-07-17 22:21:06.525214: W tensorflow/core/grappler/costs/op_level_cost_estimator.cc:690] Error in PredictCost() for the op: op: \"Softmax\" attr { key: \"T\" value { type: DT_FLOAT } } inputs { dtype: DT_FLOAT shape { unknown_rank: true } } device { type: \"GPU\" } outputs { dtype: DT_FLOAT shape { unknown_rank: true } }\n",
      "2022-07-17 22:21:06.669964: I tensorflow/core/grappler/optimizers/custom_graph_optimizer_registry.cc:113] Plugin optimizer for device_type GPU is enabled.\n",
      "2022-07-17 22:21:06.772377: I tensorflow/core/grappler/optimizers/custom_graph_optimizer_registry.cc:113] Plugin optimizer for device_type GPU is enabled.\n"
     ]
    },
    {
     "name": "stdout",
     "output_type": "stream",
     "text": [
      "62/62 [==============================] - 2s 17ms/step - loss: 0.5241\n",
      "Epoch 2/5\n",
      "62/62 [==============================] - 1s 15ms/step - loss: 0.4614\n",
      "Epoch 3/5\n",
      "62/62 [==============================] - 1s 15ms/step - loss: 0.4614\n",
      "Epoch 4/5\n",
      "62/62 [==============================] - 1s 15ms/step - loss: 0.4614\n",
      "Epoch 5/5\n",
      "62/62 [==============================] - 1s 15ms/step - loss: 0.4614\n",
      "T.csv\n",
      "1  tickers selected\n",
      "2518 trading dates:\n",
      "29 2014 2266\n",
      "1970  training instances\n",
      "252  validation instances\n",
      "data_EOD 2518\n",
      "251  testing instances\n",
      "Model: \"model_30\"\n",
      "_________________________________________________________________\n",
      " Layer (type)                Output Shape              Param #   \n",
      "=================================================================\n",
      " input_15 (InputLayer)       [(None, 15, 11)]          0         \n",
      "                                                                 \n",
      " dense_14 (Dense)            (None, 15, 11)            132       \n",
      "                                                                 \n",
      " lstm_14 (LSTM)              (None, 15, 64)            19456     \n",
      "                                                                 \n",
      " attention_14 (Attention)    (None, 11)                5504      \n",
      "                                                                 \n",
      "=================================================================\n",
      "Total params: 25,092\n",
      "Trainable params: 25,092\n",
      "Non-trainable params: 0\n",
      "_________________________________________________________________\n",
      "Epoch 1/5\n"
     ]
    },
    {
     "name": "stderr",
     "output_type": "stream",
     "text": [
      "2022-07-17 22:21:13.025839: I tensorflow/core/grappler/optimizers/custom_graph_optimizer_registry.cc:113] Plugin optimizer for device_type GPU is enabled.\n",
      "2022-07-17 22:21:13.128148: W tensorflow/core/grappler/costs/op_level_cost_estimator.cc:690] Error in PredictCost() for the op: op: \"Softmax\" attr { key: \"T\" value { type: DT_FLOAT } } inputs { dtype: DT_FLOAT shape { unknown_rank: true } } device { type: \"GPU\" } outputs { dtype: DT_FLOAT shape { unknown_rank: true } }\n",
      "2022-07-17 22:21:13.281669: I tensorflow/core/grappler/optimizers/custom_graph_optimizer_registry.cc:113] Plugin optimizer for device_type GPU is enabled.\n",
      "2022-07-17 22:21:13.389648: I tensorflow/core/grappler/optimizers/custom_graph_optimizer_registry.cc:113] Plugin optimizer for device_type GPU is enabled.\n"
     ]
    },
    {
     "name": "stdout",
     "output_type": "stream",
     "text": [
      "62/62 [==============================] - 2s 17ms/step - loss: 0.5192\n",
      "Epoch 2/5\n",
      "62/62 [==============================] - 1s 15ms/step - loss: 0.4675\n",
      "Epoch 3/5\n",
      "62/62 [==============================] - 1s 15ms/step - loss: 0.4675\n",
      "Epoch 4/5\n",
      "62/62 [==============================] - 1s 15ms/step - loss: 0.4675\n",
      "Epoch 5/5\n",
      "62/62 [==============================] - 1s 15ms/step - loss: 0.4675\n",
      "DCM.csv\n",
      "1  tickers selected\n",
      "2518 trading dates:\n",
      "29 2014 2266\n",
      "1970  training instances\n",
      "252  validation instances\n",
      "data_EOD 2518\n",
      "251  testing instances\n",
      "Model: \"model_32\"\n",
      "_________________________________________________________________\n",
      " Layer (type)                Output Shape              Param #   \n",
      "=================================================================\n",
      " input_16 (InputLayer)       [(None, 15, 11)]          0         \n",
      "                                                                 \n",
      " dense_15 (Dense)            (None, 15, 11)            132       \n",
      "                                                                 \n",
      " lstm_15 (LSTM)              (None, 15, 64)            19456     \n",
      "                                                                 \n",
      " attention_15 (Attention)    (None, 11)                5504      \n",
      "                                                                 \n",
      "=================================================================\n",
      "Total params: 25,092\n",
      "Trainable params: 25,092\n",
      "Non-trainable params: 0\n",
      "_________________________________________________________________\n",
      "Epoch 1/5\n"
     ]
    },
    {
     "name": "stderr",
     "output_type": "stream",
     "text": [
      "2022-07-17 22:21:19.491496: I tensorflow/core/grappler/optimizers/custom_graph_optimizer_registry.cc:113] Plugin optimizer for device_type GPU is enabled.\n",
      "2022-07-17 22:21:19.593810: W tensorflow/core/grappler/costs/op_level_cost_estimator.cc:690] Error in PredictCost() for the op: op: \"Softmax\" attr { key: \"T\" value { type: DT_FLOAT } } inputs { dtype: DT_FLOAT shape { unknown_rank: true } } device { type: \"GPU\" } outputs { dtype: DT_FLOAT shape { unknown_rank: true } }\n",
      "2022-07-17 22:21:19.739307: I tensorflow/core/grappler/optimizers/custom_graph_optimizer_registry.cc:113] Plugin optimizer for device_type GPU is enabled.\n",
      "2022-07-17 22:21:19.860749: I tensorflow/core/grappler/optimizers/custom_graph_optimizer_registry.cc:113] Plugin optimizer for device_type GPU is enabled.\n"
     ]
    },
    {
     "name": "stdout",
     "output_type": "stream",
     "text": [
      "62/62 [==============================] - 2s 17ms/step - loss: 0.5073\n",
      "Epoch 2/5\n",
      "62/62 [==============================] - 1s 15ms/step - loss: 0.5086\n",
      "Epoch 3/5\n",
      "62/62 [==============================] - 1s 15ms/step - loss: 0.5070\n",
      "Epoch 4/5\n",
      "62/62 [==============================] - 1s 15ms/step - loss: 0.5068\n",
      "Epoch 5/5\n",
      "62/62 [==============================] - 1s 15ms/step - loss: 0.5061\n",
      "CHL.csv\n",
      "1  tickers selected\n",
      "2518 trading dates:\n",
      "29 2014 2266\n",
      "1970  training instances\n",
      "252  validation instances\n",
      "data_EOD 2518\n",
      "251  testing instances\n",
      "Model: \"model_34\"\n",
      "_________________________________________________________________\n",
      " Layer (type)                Output Shape              Param #   \n",
      "=================================================================\n",
      " input_17 (InputLayer)       [(None, 15, 11)]          0         \n",
      "                                                                 \n",
      " dense_16 (Dense)            (None, 15, 11)            132       \n",
      "                                                                 \n",
      " lstm_16 (LSTM)              (None, 15, 64)            19456     \n",
      "                                                                 \n",
      " attention_16 (Attention)    (None, 11)                5504      \n",
      "                                                                 \n",
      "=================================================================\n",
      "Total params: 25,092\n",
      "Trainable params: 25,092\n",
      "Non-trainable params: 0\n",
      "_________________________________________________________________\n",
      "Epoch 1/5\n"
     ]
    },
    {
     "name": "stderr",
     "output_type": "stream",
     "text": [
      "2022-07-17 22:21:26.160095: I tensorflow/core/grappler/optimizers/custom_graph_optimizer_registry.cc:113] Plugin optimizer for device_type GPU is enabled.\n",
      "2022-07-17 22:21:26.263558: W tensorflow/core/grappler/costs/op_level_cost_estimator.cc:690] Error in PredictCost() for the op: op: \"Softmax\" attr { key: \"T\" value { type: DT_FLOAT } } inputs { dtype: DT_FLOAT shape { unknown_rank: true } } device { type: \"GPU\" } outputs { dtype: DT_FLOAT shape { unknown_rank: true } }\n",
      "2022-07-17 22:21:26.416603: I tensorflow/core/grappler/optimizers/custom_graph_optimizer_registry.cc:113] Plugin optimizer for device_type GPU is enabled.\n",
      "2022-07-17 22:21:26.535156: I tensorflow/core/grappler/optimizers/custom_graph_optimizer_registry.cc:113] Plugin optimizer for device_type GPU is enabled.\n"
     ]
    },
    {
     "name": "stdout",
     "output_type": "stream",
     "text": [
      "62/62 [==============================] - 2s 17ms/step - loss: 0.5098\n",
      "Epoch 2/5\n",
      "62/62 [==============================] - 1s 15ms/step - loss: 0.5083\n",
      "Epoch 3/5\n",
      "62/62 [==============================] - 1s 15ms/step - loss: 0.5077\n",
      "Epoch 4/5\n",
      "62/62 [==============================] - 1s 15ms/step - loss: 0.5093\n",
      "Epoch 5/5\n",
      "62/62 [==============================] - 1s 15ms/step - loss: 0.4987\n",
      "BAC.csv\n",
      "1  tickers selected\n",
      "2518 trading dates:\n",
      "29 2014 2266\n",
      "1970  training instances\n",
      "252  validation instances\n",
      "data_EOD 2518\n",
      "251  testing instances\n",
      "Model: \"model_36\"\n",
      "_________________________________________________________________\n",
      " Layer (type)                Output Shape              Param #   \n",
      "=================================================================\n",
      " input_18 (InputLayer)       [(None, 15, 11)]          0         \n",
      "                                                                 \n",
      " dense_17 (Dense)            (None, 15, 11)            132       \n",
      "                                                                 \n",
      " lstm_17 (LSTM)              (None, 15, 64)            19456     \n",
      "                                                                 \n",
      " attention_17 (Attention)    (None, 11)                5504      \n",
      "                                                                 \n",
      "=================================================================\n",
      "Total params: 25,092\n",
      "Trainable params: 25,092\n",
      "Non-trainable params: 0\n",
      "_________________________________________________________________\n",
      "Epoch 1/5\n"
     ]
    },
    {
     "name": "stderr",
     "output_type": "stream",
     "text": [
      "2022-07-17 22:21:32.908825: I tensorflow/core/grappler/optimizers/custom_graph_optimizer_registry.cc:113] Plugin optimizer for device_type GPU is enabled.\n",
      "2022-07-17 22:21:33.029176: W tensorflow/core/grappler/costs/op_level_cost_estimator.cc:690] Error in PredictCost() for the op: op: \"Softmax\" attr { key: \"T\" value { type: DT_FLOAT } } inputs { dtype: DT_FLOAT shape { unknown_rank: true } } device { type: \"GPU\" } outputs { dtype: DT_FLOAT shape { unknown_rank: true } }\n",
      "2022-07-17 22:21:33.202662: I tensorflow/core/grappler/optimizers/custom_graph_optimizer_registry.cc:113] Plugin optimizer for device_type GPU is enabled.\n",
      "2022-07-17 22:21:33.310883: I tensorflow/core/grappler/optimizers/custom_graph_optimizer_registry.cc:113] Plugin optimizer for device_type GPU is enabled.\n"
     ]
    },
    {
     "name": "stdout",
     "output_type": "stream",
     "text": [
      "62/62 [==============================] - 3s 18ms/step - loss: 0.5058\n",
      "Epoch 2/5\n",
      "62/62 [==============================] - 1s 16ms/step - loss: 0.5057\n",
      "Epoch 3/5\n",
      "62/62 [==============================] - 1s 15ms/step - loss: 0.5046\n",
      "Epoch 4/5\n",
      "62/62 [==============================] - 1s 15ms/step - loss: 0.5062\n",
      "Epoch 5/5\n",
      "62/62 [==============================] - 1s 15ms/step - loss: 0.5043\n",
      "PEP.csv\n",
      "1  tickers selected\n",
      "2518 trading dates:\n",
      "29 2014 2266\n",
      "1970  training instances\n",
      "252  validation instances\n",
      "data_EOD 2518\n",
      "251  testing instances\n",
      "Model: \"model_38\"\n",
      "_________________________________________________________________\n",
      " Layer (type)                Output Shape              Param #   \n",
      "=================================================================\n",
      " input_19 (InputLayer)       [(None, 15, 11)]          0         \n",
      "                                                                 \n",
      " dense_18 (Dense)            (None, 15, 11)            132       \n",
      "                                                                 \n",
      " lstm_18 (LSTM)              (None, 15, 64)            19456     \n",
      "                                                                 \n",
      " attention_18 (Attention)    (None, 11)                5504      \n",
      "                                                                 \n",
      "=================================================================\n",
      "Total params: 25,092\n",
      "Trainable params: 25,092\n",
      "Non-trainable params: 0\n",
      "_________________________________________________________________\n",
      "Epoch 1/5\n"
     ]
    },
    {
     "name": "stderr",
     "output_type": "stream",
     "text": [
      "2022-07-17 22:21:39.508117: I tensorflow/core/grappler/optimizers/custom_graph_optimizer_registry.cc:113] Plugin optimizer for device_type GPU is enabled.\n",
      "2022-07-17 22:21:39.612253: W tensorflow/core/grappler/costs/op_level_cost_estimator.cc:690] Error in PredictCost() for the op: op: \"Softmax\" attr { key: \"T\" value { type: DT_FLOAT } } inputs { dtype: DT_FLOAT shape { unknown_rank: true } } device { type: \"GPU\" } outputs { dtype: DT_FLOAT shape { unknown_rank: true } }\n",
      "2022-07-17 22:21:39.761071: I tensorflow/core/grappler/optimizers/custom_graph_optimizer_registry.cc:113] Plugin optimizer for device_type GPU is enabled.\n",
      "2022-07-17 22:21:39.882604: I tensorflow/core/grappler/optimizers/custom_graph_optimizer_registry.cc:113] Plugin optimizer for device_type GPU is enabled.\n"
     ]
    },
    {
     "name": "stdout",
     "output_type": "stream",
     "text": [
      "62/62 [==============================] - 2s 17ms/step - loss: 0.5131\n",
      "Epoch 2/5\n",
      "62/62 [==============================] - 1s 15ms/step - loss: 0.5120\n",
      "Epoch 3/5\n",
      "62/62 [==============================] - 1s 15ms/step - loss: 0.5098\n",
      "Epoch 4/5\n",
      "62/62 [==============================] - 1s 15ms/step - loss: 0.4965\n",
      "Epoch 5/5\n",
      "62/62 [==============================] - 1s 15ms/step - loss: 0.4868\n",
      "VALE.csv\n",
      "1  tickers selected\n",
      "2518 trading dates:\n",
      "29 2014 2266\n",
      "1970  training instances\n",
      "252  validation instances\n",
      "data_EOD 2518\n",
      "251  testing instances\n",
      "Model: \"model_40\"\n",
      "_________________________________________________________________\n",
      " Layer (type)                Output Shape              Param #   \n",
      "=================================================================\n",
      " input_20 (InputLayer)       [(None, 15, 11)]          0         \n",
      "                                                                 \n",
      " dense_19 (Dense)            (None, 15, 11)            132       \n",
      "                                                                 \n",
      " lstm_19 (LSTM)              (None, 15, 64)            19456     \n",
      "                                                                 \n",
      " attention_19 (Attention)    (None, 11)                5504      \n",
      "                                                                 \n",
      "=================================================================\n",
      "Total params: 25,092\n",
      "Trainable params: 25,092\n",
      "Non-trainable params: 0\n",
      "_________________________________________________________________\n",
      "Epoch 1/5\n"
     ]
    },
    {
     "name": "stderr",
     "output_type": "stream",
     "text": [
      "2022-07-17 22:21:46.229258: I tensorflow/core/grappler/optimizers/custom_graph_optimizer_registry.cc:113] Plugin optimizer for device_type GPU is enabled.\n",
      "2022-07-17 22:21:46.336601: W tensorflow/core/grappler/costs/op_level_cost_estimator.cc:690] Error in PredictCost() for the op: op: \"Softmax\" attr { key: \"T\" value { type: DT_FLOAT } } inputs { dtype: DT_FLOAT shape { unknown_rank: true } } device { type: \"GPU\" } outputs { dtype: DT_FLOAT shape { unknown_rank: true } }\n",
      "2022-07-17 22:21:46.497129: I tensorflow/core/grappler/optimizers/custom_graph_optimizer_registry.cc:113] Plugin optimizer for device_type GPU is enabled.\n",
      "2022-07-17 22:21:46.612080: I tensorflow/core/grappler/optimizers/custom_graph_optimizer_registry.cc:113] Plugin optimizer for device_type GPU is enabled.\n"
     ]
    },
    {
     "name": "stdout",
     "output_type": "stream",
     "text": [
      "62/62 [==============================] - 3s 18ms/step - loss: 0.5074\n",
      "Epoch 2/5\n",
      "62/62 [==============================] - 1s 15ms/step - loss: 0.5072\n",
      "Epoch 3/5\n",
      "62/62 [==============================] - 1s 15ms/step - loss: 0.5065\n",
      "Epoch 4/5\n",
      "62/62 [==============================] - 1s 15ms/step - loss: 0.5077\n",
      "Epoch 5/5\n",
      "62/62 [==============================] - 1s 15ms/step - loss: 0.5062\n",
      "D.csv\n",
      "1  tickers selected\n",
      "2518 trading dates:\n",
      "29 2014 2266\n",
      "1970  training instances\n",
      "252  validation instances\n",
      "data_EOD 2518\n",
      "251  testing instances\n",
      "Model: \"model_42\"\n",
      "_________________________________________________________________\n",
      " Layer (type)                Output Shape              Param #   \n",
      "=================================================================\n",
      " input_21 (InputLayer)       [(None, 15, 11)]          0         \n",
      "                                                                 \n",
      " dense_20 (Dense)            (None, 15, 11)            132       \n",
      "                                                                 \n",
      " lstm_20 (LSTM)              (None, 15, 64)            19456     \n",
      "                                                                 \n",
      " attention_20 (Attention)    (None, 11)                5504      \n",
      "                                                                 \n",
      "=================================================================\n",
      "Total params: 25,092\n",
      "Trainable params: 25,092\n",
      "Non-trainable params: 0\n",
      "_________________________________________________________________\n",
      "Epoch 1/5\n"
     ]
    },
    {
     "name": "stderr",
     "output_type": "stream",
     "text": [
      "2022-07-17 22:21:52.776221: I tensorflow/core/grappler/optimizers/custom_graph_optimizer_registry.cc:113] Plugin optimizer for device_type GPU is enabled.\n",
      "2022-07-17 22:21:52.878438: W tensorflow/core/grappler/costs/op_level_cost_estimator.cc:690] Error in PredictCost() for the op: op: \"Softmax\" attr { key: \"T\" value { type: DT_FLOAT } } inputs { dtype: DT_FLOAT shape { unknown_rank: true } } device { type: \"GPU\" } outputs { dtype: DT_FLOAT shape { unknown_rank: true } }\n",
      "2022-07-17 22:21:53.026478: I tensorflow/core/grappler/optimizers/custom_graph_optimizer_registry.cc:113] Plugin optimizer for device_type GPU is enabled.\n",
      "2022-07-17 22:21:53.148912: I tensorflow/core/grappler/optimizers/custom_graph_optimizer_registry.cc:113] Plugin optimizer for device_type GPU is enabled.\n"
     ]
    },
    {
     "name": "stdout",
     "output_type": "stream",
     "text": [
      "62/62 [==============================] - 2s 18ms/step - loss: 0.5215\n",
      "Epoch 2/5\n",
      "62/62 [==============================] - 1s 16ms/step - loss: 0.5096\n",
      "Epoch 3/5\n",
      "62/62 [==============================] - 1s 15ms/step - loss: 0.4787\n",
      "Epoch 4/5\n",
      "62/62 [==============================] - 1s 15ms/step - loss: 0.4787\n",
      "Epoch 5/5\n",
      "62/62 [==============================] - 1s 16ms/step - loss: 0.4787\n",
      "MRK.csv\n",
      "1  tickers selected\n",
      "2518 trading dates:\n",
      "29 2014 2266\n",
      "1970  training instances\n",
      "252  validation instances\n",
      "data_EOD 2518\n",
      "251  testing instances\n",
      "Model: \"model_44\"\n",
      "_________________________________________________________________\n",
      " Layer (type)                Output Shape              Param #   \n",
      "=================================================================\n",
      " input_22 (InputLayer)       [(None, 15, 11)]          0         \n",
      "                                                                 \n",
      " dense_21 (Dense)            (None, 15, 11)            132       \n",
      "                                                                 \n",
      " lstm_21 (LSTM)              (None, 15, 64)            19456     \n",
      "                                                                 \n",
      " attention_21 (Attention)    (None, 11)                5504      \n",
      "                                                                 \n",
      "=================================================================\n",
      "Total params: 25,092\n",
      "Trainable params: 25,092\n",
      "Non-trainable params: 0\n",
      "_________________________________________________________________\n",
      "Epoch 1/5\n"
     ]
    },
    {
     "name": "stderr",
     "output_type": "stream",
     "text": [
      "2022-07-17 22:21:59.687668: I tensorflow/core/grappler/optimizers/custom_graph_optimizer_registry.cc:113] Plugin optimizer for device_type GPU is enabled.\n",
      "2022-07-17 22:21:59.796660: W tensorflow/core/grappler/costs/op_level_cost_estimator.cc:690] Error in PredictCost() for the op: op: \"Softmax\" attr { key: \"T\" value { type: DT_FLOAT } } inputs { dtype: DT_FLOAT shape { unknown_rank: true } } device { type: \"GPU\" } outputs { dtype: DT_FLOAT shape { unknown_rank: true } }\n",
      "2022-07-17 22:21:59.959001: I tensorflow/core/grappler/optimizers/custom_graph_optimizer_registry.cc:113] Plugin optimizer for device_type GPU is enabled.\n",
      "2022-07-17 22:22:00.088430: I tensorflow/core/grappler/optimizers/custom_graph_optimizer_registry.cc:113] Plugin optimizer for device_type GPU is enabled.\n"
     ]
    },
    {
     "name": "stdout",
     "output_type": "stream",
     "text": [
      "62/62 [==============================] - 3s 18ms/step - loss: 0.5056\n",
      "Epoch 2/5\n",
      "62/62 [==============================] - 1s 15ms/step - loss: 0.5053\n",
      "Epoch 3/5\n",
      "62/62 [==============================] - 1s 16ms/step - loss: 0.5067\n",
      "Epoch 4/5\n",
      "62/62 [==============================] - 1s 16ms/step - loss: 0.5002\n",
      "Epoch 5/5\n",
      "62/62 [==============================] - 1s 16ms/step - loss: 0.4989\n",
      "ORCL.csv\n",
      "1  tickers selected\n",
      "2518 trading dates:\n",
      "29 2014 2266\n",
      "1970  training instances\n",
      "252  validation instances\n",
      "data_EOD 2518\n",
      "251  testing instances\n",
      "Model: \"model_46\"\n",
      "_________________________________________________________________\n",
      " Layer (type)                Output Shape              Param #   \n",
      "=================================================================\n",
      " input_23 (InputLayer)       [(None, 15, 11)]          0         \n",
      "                                                                 \n",
      " dense_22 (Dense)            (None, 15, 11)            132       \n",
      "                                                                 \n",
      " lstm_22 (LSTM)              (None, 15, 64)            19456     \n",
      "                                                                 \n",
      " attention_22 (Attention)    (None, 11)                5504      \n",
      "                                                                 \n",
      "=================================================================\n",
      "Total params: 25,092\n",
      "Trainable params: 25,092\n",
      "Non-trainable params: 0\n",
      "_________________________________________________________________\n",
      "Epoch 1/5\n"
     ]
    },
    {
     "name": "stderr",
     "output_type": "stream",
     "text": [
      "2022-07-17 22:22:06.446285: I tensorflow/core/grappler/optimizers/custom_graph_optimizer_registry.cc:113] Plugin optimizer for device_type GPU is enabled.\n",
      "2022-07-17 22:22:06.550441: W tensorflow/core/grappler/costs/op_level_cost_estimator.cc:690] Error in PredictCost() for the op: op: \"Softmax\" attr { key: \"T\" value { type: DT_FLOAT } } inputs { dtype: DT_FLOAT shape { unknown_rank: true } } device { type: \"GPU\" } outputs { dtype: DT_FLOAT shape { unknown_rank: true } }\n",
      "2022-07-17 22:22:06.710152: I tensorflow/core/grappler/optimizers/custom_graph_optimizer_registry.cc:113] Plugin optimizer for device_type GPU is enabled.\n",
      "2022-07-17 22:22:06.831798: I tensorflow/core/grappler/optimizers/custom_graph_optimizer_registry.cc:113] Plugin optimizer for device_type GPU is enabled.\n"
     ]
    },
    {
     "name": "stdout",
     "output_type": "stream",
     "text": [
      "62/62 [==============================] - 2s 18ms/step - loss: 0.5182\n",
      "Epoch 2/5\n",
      "62/62 [==============================] - 1s 16ms/step - loss: 0.4893\n",
      "Epoch 3/5\n",
      "62/62 [==============================] - 1s 15ms/step - loss: 0.4797\n",
      "Epoch 4/5\n",
      "62/62 [==============================] - 1s 15ms/step - loss: 0.4797\n",
      "Epoch 5/5\n",
      "62/62 [==============================] - 1s 15ms/step - loss: 0.4797\n",
      "PG.csv\n",
      "1  tickers selected\n",
      "2518 trading dates:\n",
      "29 2014 2266\n",
      "1970  training instances\n",
      "252  validation instances\n",
      "data_EOD 2518\n",
      "251  testing instances\n",
      "Model: \"model_48\"\n",
      "_________________________________________________________________\n",
      " Layer (type)                Output Shape              Param #   \n",
      "=================================================================\n",
      " input_24 (InputLayer)       [(None, 15, 11)]          0         \n",
      "                                                                 \n",
      " dense_23 (Dense)            (None, 15, 11)            132       \n",
      "                                                                 \n",
      " lstm_23 (LSTM)              (None, 15, 64)            19456     \n",
      "                                                                 \n",
      " attention_23 (Attention)    (None, 11)                5504      \n",
      "                                                                 \n",
      "=================================================================\n",
      "Total params: 25,092\n",
      "Trainable params: 25,092\n",
      "Non-trainable params: 0\n",
      "_________________________________________________________________\n",
      "Epoch 1/5\n"
     ]
    },
    {
     "name": "stderr",
     "output_type": "stream",
     "text": [
      "2022-07-17 22:22:13.223994: I tensorflow/core/grappler/optimizers/custom_graph_optimizer_registry.cc:113] Plugin optimizer for device_type GPU is enabled.\n",
      "2022-07-17 22:22:13.327125: W tensorflow/core/grappler/costs/op_level_cost_estimator.cc:690] Error in PredictCost() for the op: op: \"Softmax\" attr { key: \"T\" value { type: DT_FLOAT } } inputs { dtype: DT_FLOAT shape { unknown_rank: true } } device { type: \"GPU\" } outputs { dtype: DT_FLOAT shape { unknown_rank: true } }\n",
      "2022-07-17 22:22:13.481328: I tensorflow/core/grappler/optimizers/custom_graph_optimizer_registry.cc:113] Plugin optimizer for device_type GPU is enabled.\n",
      "2022-07-17 22:22:13.622301: I tensorflow/core/grappler/optimizers/custom_graph_optimizer_registry.cc:113] Plugin optimizer for device_type GPU is enabled.\n"
     ]
    },
    {
     "name": "stdout",
     "output_type": "stream",
     "text": [
      "62/62 [==============================] - 3s 19ms/step - loss: 0.5220\n",
      "Epoch 2/5\n",
      "62/62 [==============================] - 1s 16ms/step - loss: 0.4799\n",
      "Epoch 3/5\n",
      "62/62 [==============================] - 1s 16ms/step - loss: 0.4746\n",
      "Epoch 4/5\n",
      "62/62 [==============================] - 1s 17ms/step - loss: 0.4746\n",
      "Epoch 5/5\n",
      "62/62 [==============================] - 1s 16ms/step - loss: 0.4746\n",
      "AMZN.csv\n",
      "1  tickers selected\n",
      "2518 trading dates:\n",
      "29 2014 2266\n",
      "1970  training instances\n",
      "252  validation instances\n",
      "data_EOD 2518\n",
      "251  testing instances\n",
      "Model: \"model_50\"\n",
      "_________________________________________________________________\n",
      " Layer (type)                Output Shape              Param #   \n",
      "=================================================================\n",
      " input_25 (InputLayer)       [(None, 15, 11)]          0         \n",
      "                                                                 \n",
      " dense_24 (Dense)            (None, 15, 11)            132       \n",
      "                                                                 \n",
      " lstm_24 (LSTM)              (None, 15, 64)            19456     \n",
      "                                                                 \n",
      " attention_24 (Attention)    (None, 11)                5504      \n",
      "                                                                 \n",
      "=================================================================\n",
      "Total params: 25,092\n",
      "Trainable params: 25,092\n",
      "Non-trainable params: 0\n",
      "_________________________________________________________________\n",
      "Epoch 1/5\n"
     ]
    },
    {
     "name": "stderr",
     "output_type": "stream",
     "text": [
      "2022-07-17 22:22:20.401970: I tensorflow/core/grappler/optimizers/custom_graph_optimizer_registry.cc:113] Plugin optimizer for device_type GPU is enabled.\n",
      "2022-07-17 22:22:20.528901: W tensorflow/core/grappler/costs/op_level_cost_estimator.cc:690] Error in PredictCost() for the op: op: \"Softmax\" attr { key: \"T\" value { type: DT_FLOAT } } inputs { dtype: DT_FLOAT shape { unknown_rank: true } } device { type: \"GPU\" } outputs { dtype: DT_FLOAT shape { unknown_rank: true } }\n",
      "2022-07-17 22:22:20.726795: I tensorflow/core/grappler/optimizers/custom_graph_optimizer_registry.cc:113] Plugin optimizer for device_type GPU is enabled.\n",
      "2022-07-17 22:22:20.878036: I tensorflow/core/grappler/optimizers/custom_graph_optimizer_registry.cc:113] Plugin optimizer for device_type GPU is enabled.\n"
     ]
    },
    {
     "name": "stdout",
     "output_type": "stream",
     "text": [
      "62/62 [==============================] - 3s 19ms/step - loss: 0.5072\n",
      "Epoch 2/5\n",
      "62/62 [==============================] - 1s 16ms/step - loss: 0.5069\n",
      "Epoch 3/5\n",
      "62/62 [==============================] - 1s 17ms/step - loss: 0.5062\n",
      "Epoch 4/5\n",
      "62/62 [==============================] - 1s 17ms/step - loss: 0.5054\n",
      "Epoch 5/5\n",
      "62/62 [==============================] - 1s 18ms/step - loss: 0.5071\n",
      "INTC.csv\n",
      "1  tickers selected\n",
      "2518 trading dates:\n",
      "29 2014 2266\n",
      "1970  training instances\n",
      "252  validation instances\n",
      "data_EOD 2518\n",
      "251  testing instances\n",
      "Model: \"model_52\"\n",
      "_________________________________________________________________\n",
      " Layer (type)                Output Shape              Param #   \n",
      "=================================================================\n",
      " input_26 (InputLayer)       [(None, 15, 11)]          0         \n",
      "                                                                 \n",
      " dense_25 (Dense)            (None, 15, 11)            132       \n",
      "                                                                 \n",
      " lstm_25 (LSTM)              (None, 15, 64)            19456     \n",
      "                                                                 \n",
      " attention_25 (Attention)    (None, 11)                5504      \n",
      "                                                                 \n",
      "=================================================================\n",
      "Total params: 25,092\n",
      "Trainable params: 25,092\n",
      "Non-trainable params: 0\n",
      "_________________________________________________________________\n",
      "Epoch 1/5\n"
     ]
    },
    {
     "name": "stderr",
     "output_type": "stream",
     "text": [
      "2022-07-17 22:22:27.600552: I tensorflow/core/grappler/optimizers/custom_graph_optimizer_registry.cc:113] Plugin optimizer for device_type GPU is enabled.\n",
      "2022-07-17 22:22:27.705827: W tensorflow/core/grappler/costs/op_level_cost_estimator.cc:690] Error in PredictCost() for the op: op: \"Softmax\" attr { key: \"T\" value { type: DT_FLOAT } } inputs { dtype: DT_FLOAT shape { unknown_rank: true } } device { type: \"GPU\" } outputs { dtype: DT_FLOAT shape { unknown_rank: true } }\n",
      "2022-07-17 22:22:27.866084: I tensorflow/core/grappler/optimizers/custom_graph_optimizer_registry.cc:113] Plugin optimizer for device_type GPU is enabled.\n",
      "2022-07-17 22:22:28.025005: I tensorflow/core/grappler/optimizers/custom_graph_optimizer_registry.cc:113] Plugin optimizer for device_type GPU is enabled.\n"
     ]
    },
    {
     "name": "stdout",
     "output_type": "stream",
     "text": [
      "62/62 [==============================] - 3s 18ms/step - loss: 0.5209\n",
      "Epoch 2/5\n",
      "62/62 [==============================] - 1s 15ms/step - loss: 0.4661\n",
      "Epoch 3/5\n",
      "62/62 [==============================] - 1s 15ms/step - loss: 0.4660\n",
      "Epoch 4/5\n",
      "62/62 [==============================] - 1s 15ms/step - loss: 0.4660\n",
      "Epoch 5/5\n",
      "62/62 [==============================] - 1s 15ms/step - loss: 0.4660\n",
      "MMM.csv\n",
      "1  tickers selected\n",
      "2518 trading dates:\n",
      "29 2014 2266\n",
      "1970  training instances\n",
      "252  validation instances\n",
      "data_EOD 2518\n",
      "251  testing instances\n",
      "Model: \"model_54\"\n",
      "_________________________________________________________________\n",
      " Layer (type)                Output Shape              Param #   \n",
      "=================================================================\n",
      " input_27 (InputLayer)       [(None, 15, 11)]          0         \n",
      "                                                                 \n",
      " dense_26 (Dense)            (None, 15, 11)            132       \n",
      "                                                                 \n",
      " lstm_26 (LSTM)              (None, 15, 64)            19456     \n",
      "                                                                 \n",
      " attention_26 (Attention)    (None, 11)                5504      \n",
      "                                                                 \n",
      "=================================================================\n",
      "Total params: 25,092\n",
      "Trainable params: 25,092\n",
      "Non-trainable params: 0\n",
      "_________________________________________________________________\n",
      "Epoch 1/5\n"
     ]
    },
    {
     "name": "stderr",
     "output_type": "stream",
     "text": [
      "2022-07-17 22:22:34.532085: I tensorflow/core/grappler/optimizers/custom_graph_optimizer_registry.cc:113] Plugin optimizer for device_type GPU is enabled.\n",
      "2022-07-17 22:22:34.651603: W tensorflow/core/grappler/costs/op_level_cost_estimator.cc:690] Error in PredictCost() for the op: op: \"Softmax\" attr { key: \"T\" value { type: DT_FLOAT } } inputs { dtype: DT_FLOAT shape { unknown_rank: true } } device { type: \"GPU\" } outputs { dtype: DT_FLOAT shape { unknown_rank: true } }\n",
      "2022-07-17 22:22:34.831767: I tensorflow/core/grappler/optimizers/custom_graph_optimizer_registry.cc:113] Plugin optimizer for device_type GPU is enabled.\n",
      "2022-07-17 22:22:34.996512: I tensorflow/core/grappler/optimizers/custom_graph_optimizer_registry.cc:113] Plugin optimizer for device_type GPU is enabled.\n"
     ]
    },
    {
     "name": "stdout",
     "output_type": "stream",
     "text": [
      "62/62 [==============================] - 3s 19ms/step - loss: 0.5187\n",
      "Epoch 2/5\n",
      "62/62 [==============================] - 1s 16ms/step - loss: 0.4574\n",
      "Epoch 3/5\n",
      "62/62 [==============================] - 1s 16ms/step - loss: 0.4574\n",
      "Epoch 4/5\n",
      "62/62 [==============================] - 1s 16ms/step - loss: 0.4574\n",
      "Epoch 5/5\n",
      "62/62 [==============================] - 1s 16ms/step - loss: 0.4574\n",
      "KO.csv\n",
      "1  tickers selected\n",
      "2518 trading dates:\n",
      "29 2014 2266\n",
      "1970  training instances\n",
      "252  validation instances\n",
      "data_EOD 2518\n",
      "251  testing instances\n",
      "Model: \"model_56\"\n",
      "_________________________________________________________________\n",
      " Layer (type)                Output Shape              Param #   \n",
      "=================================================================\n",
      " input_28 (InputLayer)       [(None, 15, 11)]          0         \n",
      "                                                                 \n",
      " dense_27 (Dense)            (None, 15, 11)            132       \n",
      "                                                                 \n",
      " lstm_27 (LSTM)              (None, 15, 64)            19456     \n",
      "                                                                 \n",
      " attention_27 (Attention)    (None, 11)                5504      \n",
      "                                                                 \n",
      "=================================================================\n",
      "Total params: 25,092\n",
      "Trainable params: 25,092\n",
      "Non-trainable params: 0\n",
      "_________________________________________________________________\n",
      "Epoch 1/5\n"
     ]
    },
    {
     "name": "stderr",
     "output_type": "stream",
     "text": [
      "2022-07-17 22:22:41.378987: I tensorflow/core/grappler/optimizers/custom_graph_optimizer_registry.cc:113] Plugin optimizer for device_type GPU is enabled.\n",
      "2022-07-17 22:22:41.481572: W tensorflow/core/grappler/costs/op_level_cost_estimator.cc:690] Error in PredictCost() for the op: op: \"Softmax\" attr { key: \"T\" value { type: DT_FLOAT } } inputs { dtype: DT_FLOAT shape { unknown_rank: true } } device { type: \"GPU\" } outputs { dtype: DT_FLOAT shape { unknown_rank: true } }\n",
      "2022-07-17 22:22:41.636431: I tensorflow/core/grappler/optimizers/custom_graph_optimizer_registry.cc:113] Plugin optimizer for device_type GPU is enabled.\n",
      "2022-07-17 22:22:41.787202: I tensorflow/core/grappler/optimizers/custom_graph_optimizer_registry.cc:113] Plugin optimizer for device_type GPU is enabled.\n"
     ]
    },
    {
     "name": "stdout",
     "output_type": "stream",
     "text": [
      "62/62 [==============================] - 3s 19ms/step - loss: 0.5170\n",
      "Epoch 2/5\n",
      "62/62 [==============================] - 1s 16ms/step - loss: 0.4564\n",
      "Epoch 3/5\n",
      "62/62 [==============================] - 1s 17ms/step - loss: 0.4564\n",
      "Epoch 4/5\n",
      "62/62 [==============================] - 1s 17ms/step - loss: 0.4564\n",
      "Epoch 5/5\n",
      "62/62 [==============================] - 1s 17ms/step - loss: 0.4564\n",
      "UPS.csv\n",
      "1  tickers selected\n",
      "2518 trading dates:\n",
      "29 2014 2266\n",
      "1970  training instances\n",
      "252  validation instances\n",
      "data_EOD 2518\n",
      "251  testing instances\n",
      "Model: \"model_58\"\n",
      "_________________________________________________________________\n",
      " Layer (type)                Output Shape              Param #   \n",
      "=================================================================\n",
      " input_29 (InputLayer)       [(None, 15, 11)]          0         \n",
      "                                                                 \n",
      " dense_28 (Dense)            (None, 15, 11)            132       \n",
      "                                                                 \n",
      " lstm_28 (LSTM)              (None, 15, 64)            19456     \n",
      "                                                                 \n",
      " attention_28 (Attention)    (None, 11)                5504      \n",
      "                                                                 \n",
      "=================================================================\n",
      "Total params: 25,092\n",
      "Trainable params: 25,092\n",
      "Non-trainable params: 0\n",
      "_________________________________________________________________\n",
      "Epoch 1/5\n"
     ]
    },
    {
     "name": "stderr",
     "output_type": "stream",
     "text": [
      "2022-07-17 22:22:48.767861: I tensorflow/core/grappler/optimizers/custom_graph_optimizer_registry.cc:113] Plugin optimizer for device_type GPU is enabled.\n",
      "2022-07-17 22:22:48.878349: W tensorflow/core/grappler/costs/op_level_cost_estimator.cc:690] Error in PredictCost() for the op: op: \"Softmax\" attr { key: \"T\" value { type: DT_FLOAT } } inputs { dtype: DT_FLOAT shape { unknown_rank: true } } device { type: \"GPU\" } outputs { dtype: DT_FLOAT shape { unknown_rank: true } }\n",
      "2022-07-17 22:22:49.043741: I tensorflow/core/grappler/optimizers/custom_graph_optimizer_registry.cc:113] Plugin optimizer for device_type GPU is enabled.\n",
      "2022-07-17 22:22:49.202906: I tensorflow/core/grappler/optimizers/custom_graph_optimizer_registry.cc:113] Plugin optimizer for device_type GPU is enabled.\n"
     ]
    },
    {
     "name": "stdout",
     "output_type": "stream",
     "text": [
      "62/62 [==============================] - 3s 19ms/step - loss: 0.5143\n",
      "Epoch 2/5\n",
      "62/62 [==============================] - 1s 16ms/step - loss: 0.5121\n",
      "Epoch 3/5\n",
      "62/62 [==============================] - 1s 16ms/step - loss: 0.4994\n",
      "Epoch 4/5\n",
      "62/62 [==============================] - 1s 16ms/step - loss: 0.4853\n",
      "Epoch 5/5\n",
      "62/62 [==============================] - 1s 15ms/step - loss: 0.4853\n",
      "MSFT.csv\n",
      "1  tickers selected\n",
      "2518 trading dates:\n",
      "29 2014 2266\n",
      "1970  training instances\n",
      "252  validation instances\n",
      "data_EOD 2518\n",
      "251  testing instances\n",
      "Model: \"model_60\"\n",
      "_________________________________________________________________\n",
      " Layer (type)                Output Shape              Param #   \n",
      "=================================================================\n",
      " input_30 (InputLayer)       [(None, 15, 11)]          0         \n",
      "                                                                 \n",
      " dense_29 (Dense)            (None, 15, 11)            132       \n",
      "                                                                 \n",
      " lstm_29 (LSTM)              (None, 15, 64)            19456     \n",
      "                                                                 \n",
      " attention_29 (Attention)    (None, 11)                5504      \n",
      "                                                                 \n",
      "=================================================================\n",
      "Total params: 25,092\n",
      "Trainable params: 25,092\n",
      "Non-trainable params: 0\n",
      "_________________________________________________________________\n",
      "Epoch 1/5\n"
     ]
    },
    {
     "name": "stderr",
     "output_type": "stream",
     "text": [
      "2022-07-17 22:22:55.608858: I tensorflow/core/grappler/optimizers/custom_graph_optimizer_registry.cc:113] Plugin optimizer for device_type GPU is enabled.\n",
      "2022-07-17 22:22:55.711753: W tensorflow/core/grappler/costs/op_level_cost_estimator.cc:690] Error in PredictCost() for the op: op: \"Softmax\" attr { key: \"T\" value { type: DT_FLOAT } } inputs { dtype: DT_FLOAT shape { unknown_rank: true } } device { type: \"GPU\" } outputs { dtype: DT_FLOAT shape { unknown_rank: true } }\n",
      "2022-07-17 22:22:55.862252: I tensorflow/core/grappler/optimizers/custom_graph_optimizer_registry.cc:113] Plugin optimizer for device_type GPU is enabled.\n",
      "2022-07-17 22:22:56.019758: I tensorflow/core/grappler/optimizers/custom_graph_optimizer_registry.cc:113] Plugin optimizer for device_type GPU is enabled.\n"
     ]
    },
    {
     "name": "stdout",
     "output_type": "stream",
     "text": [
      "62/62 [==============================] - 3s 19ms/step - loss: 0.5140\n",
      "Epoch 2/5\n",
      "62/62 [==============================] - 1s 16ms/step - loss: 0.5127\n",
      "Epoch 3/5\n",
      "62/62 [==============================] - 1s 15ms/step - loss: 0.5023\n",
      "Epoch 4/5\n",
      "62/62 [==============================] - 1s 16ms/step - loss: 0.4858\n",
      "Epoch 5/5\n",
      "62/62 [==============================] - 1s 15ms/step - loss: 0.4858\n",
      "TOT.csv\n",
      "1  tickers selected\n",
      "2518 trading dates:\n",
      "29 2014 2266\n",
      "1970  training instances\n",
      "252  validation instances\n",
      "data_EOD 2518\n",
      "251  testing instances\n",
      "Model: \"model_62\"\n",
      "_________________________________________________________________\n",
      " Layer (type)                Output Shape              Param #   \n",
      "=================================================================\n",
      " input_31 (InputLayer)       [(None, 15, 11)]          0         \n",
      "                                                                 \n",
      " dense_30 (Dense)            (None, 15, 11)            132       \n",
      "                                                                 \n",
      " lstm_30 (LSTM)              (None, 15, 64)            19456     \n",
      "                                                                 \n",
      " attention_30 (Attention)    (None, 11)                5504      \n",
      "                                                                 \n",
      "=================================================================\n",
      "Total params: 25,092\n",
      "Trainable params: 25,092\n",
      "Non-trainable params: 0\n",
      "_________________________________________________________________\n",
      "Epoch 1/5\n"
     ]
    },
    {
     "name": "stderr",
     "output_type": "stream",
     "text": [
      "2022-07-17 22:23:02.568486: I tensorflow/core/grappler/optimizers/custom_graph_optimizer_registry.cc:113] Plugin optimizer for device_type GPU is enabled.\n",
      "2022-07-17 22:23:02.675618: W tensorflow/core/grappler/costs/op_level_cost_estimator.cc:690] Error in PredictCost() for the op: op: \"Softmax\" attr { key: \"T\" value { type: DT_FLOAT } } inputs { dtype: DT_FLOAT shape { unknown_rank: true } } device { type: \"GPU\" } outputs { dtype: DT_FLOAT shape { unknown_rank: true } }\n",
      "2022-07-17 22:23:02.836946: I tensorflow/core/grappler/optimizers/custom_graph_optimizer_registry.cc:113] Plugin optimizer for device_type GPU is enabled.\n",
      "2022-07-17 22:23:02.988568: I tensorflow/core/grappler/optimizers/custom_graph_optimizer_registry.cc:113] Plugin optimizer for device_type GPU is enabled.\n"
     ]
    },
    {
     "name": "stdout",
     "output_type": "stream",
     "text": [
      "62/62 [==============================] - 3s 19ms/step - loss: 0.5221\n",
      "Epoch 2/5\n",
      "62/62 [==============================] - 1s 16ms/step - loss: 0.4707\n",
      "Epoch 3/5\n",
      "62/62 [==============================] - 1s 16ms/step - loss: 0.4696\n",
      "Epoch 4/5\n",
      "62/62 [==============================] - 1s 16ms/step - loss: 0.4696\n",
      "Epoch 5/5\n",
      "62/62 [==============================] - 1s 16ms/step - loss: 0.4696\n",
      "EXC.csv\n",
      "1  tickers selected\n",
      "2518 trading dates:\n",
      "29 2014 2266\n",
      "1970  training instances\n",
      "252  validation instances\n",
      "data_EOD 2518\n",
      "251  testing instances\n",
      "Model: \"model_64\"\n",
      "_________________________________________________________________\n",
      " Layer (type)                Output Shape              Param #   \n",
      "=================================================================\n",
      " input_32 (InputLayer)       [(None, 15, 11)]          0         \n",
      "                                                                 \n",
      " dense_31 (Dense)            (None, 15, 11)            132       \n",
      "                                                                 \n",
      " lstm_31 (LSTM)              (None, 15, 64)            19456     \n",
      "                                                                 \n",
      " attention_31 (Attention)    (None, 11)                5504      \n",
      "                                                                 \n",
      "=================================================================\n",
      "Total params: 25,092\n",
      "Trainable params: 25,092\n",
      "Non-trainable params: 0\n",
      "_________________________________________________________________\n",
      "Epoch 1/5\n"
     ]
    },
    {
     "name": "stderr",
     "output_type": "stream",
     "text": [
      "2022-07-17 22:23:09.400214: I tensorflow/core/grappler/optimizers/custom_graph_optimizer_registry.cc:113] Plugin optimizer for device_type GPU is enabled.\n",
      "2022-07-17 22:23:09.505608: W tensorflow/core/grappler/costs/op_level_cost_estimator.cc:690] Error in PredictCost() for the op: op: \"Softmax\" attr { key: \"T\" value { type: DT_FLOAT } } inputs { dtype: DT_FLOAT shape { unknown_rank: true } } device { type: \"GPU\" } outputs { dtype: DT_FLOAT shape { unknown_rank: true } }\n",
      "2022-07-17 22:23:09.666098: I tensorflow/core/grappler/optimizers/custom_graph_optimizer_registry.cc:113] Plugin optimizer for device_type GPU is enabled.\n",
      "2022-07-17 22:23:09.826573: I tensorflow/core/grappler/optimizers/custom_graph_optimizer_registry.cc:113] Plugin optimizer for device_type GPU is enabled.\n"
     ]
    },
    {
     "name": "stdout",
     "output_type": "stream",
     "text": [
      "62/62 [==============================] - 3s 20ms/step - loss: 0.5019\n",
      "Epoch 2/5\n",
      "62/62 [==============================] - 1s 16ms/step - loss: 0.5014\n",
      "Epoch 3/5\n",
      "62/62 [==============================] - 1s 16ms/step - loss: 0.5014\n",
      "Epoch 4/5\n",
      "62/62 [==============================] - 1s 16ms/step - loss: 0.5013\n",
      "Epoch 5/5\n",
      "62/62 [==============================] - 1s 16ms/step - loss: 0.5248\n",
      "HD.csv\n",
      "1  tickers selected\n",
      "2518 trading dates:\n",
      "29 2014 2266\n",
      "1970  training instances\n",
      "252  validation instances\n",
      "data_EOD 2518\n",
      "251  testing instances\n",
      "Model: \"model_66\"\n",
      "_________________________________________________________________\n",
      " Layer (type)                Output Shape              Param #   \n",
      "=================================================================\n",
      " input_33 (InputLayer)       [(None, 15, 11)]          0         \n",
      "                                                                 \n",
      " dense_32 (Dense)            (None, 15, 11)            132       \n",
      "                                                                 \n",
      " lstm_32 (LSTM)              (None, 15, 64)            19456     \n",
      "                                                                 \n",
      " attention_32 (Attention)    (None, 11)                5504      \n",
      "                                                                 \n",
      "=================================================================\n",
      "Total params: 25,092\n",
      "Trainable params: 25,092\n",
      "Non-trainable params: 0\n",
      "_________________________________________________________________\n",
      "Epoch 1/5\n"
     ]
    },
    {
     "name": "stderr",
     "output_type": "stream",
     "text": [
      "2022-07-17 22:23:16.591023: I tensorflow/core/grappler/optimizers/custom_graph_optimizer_registry.cc:113] Plugin optimizer for device_type GPU is enabled.\n",
      "2022-07-17 22:23:16.694976: W tensorflow/core/grappler/costs/op_level_cost_estimator.cc:690] Error in PredictCost() for the op: op: \"Softmax\" attr { key: \"T\" value { type: DT_FLOAT } } inputs { dtype: DT_FLOAT shape { unknown_rank: true } } device { type: \"GPU\" } outputs { dtype: DT_FLOAT shape { unknown_rank: true } }\n",
      "2022-07-17 22:23:16.857256: I tensorflow/core/grappler/optimizers/custom_graph_optimizer_registry.cc:113] Plugin optimizer for device_type GPU is enabled.\n",
      "2022-07-17 22:23:17.008029: I tensorflow/core/grappler/optimizers/custom_graph_optimizer_registry.cc:113] Plugin optimizer for device_type GPU is enabled.\n"
     ]
    },
    {
     "name": "stdout",
     "output_type": "stream",
     "text": [
      "62/62 [==============================] - 3s 20ms/step - loss: 0.5219\n",
      "Epoch 2/5\n",
      "62/62 [==============================] - 1s 16ms/step - loss: 0.4959\n",
      "Epoch 3/5\n",
      "62/62 [==============================] - 1s 17ms/step - loss: 0.4800\n",
      "Epoch 4/5\n",
      "62/62 [==============================] - 1s 17ms/step - loss: 0.4798\n",
      "Epoch 5/5\n",
      "62/62 [==============================] - 1s 17ms/step - loss: 0.4798\n",
      "SO.csv\n",
      "1  tickers selected\n",
      "2518 trading dates:\n",
      "29 2014 2266\n",
      "1970  training instances\n",
      "252  validation instances\n",
      "data_EOD 2518\n",
      "251  testing instances\n",
      "Model: \"model_68\"\n",
      "_________________________________________________________________\n",
      " Layer (type)                Output Shape              Param #   \n",
      "=================================================================\n",
      " input_34 (InputLayer)       [(None, 15, 11)]          0         \n",
      "                                                                 \n",
      " dense_33 (Dense)            (None, 15, 11)            132       \n",
      "                                                                 \n",
      " lstm_33 (LSTM)              (None, 15, 64)            19456     \n",
      "                                                                 \n",
      " attention_33 (Attention)    (None, 11)                5504      \n",
      "                                                                 \n",
      "=================================================================\n",
      "Total params: 25,092\n",
      "Trainable params: 25,092\n",
      "Non-trainable params: 0\n",
      "_________________________________________________________________\n",
      "Epoch 1/5\n"
     ]
    },
    {
     "name": "stderr",
     "output_type": "stream",
     "text": [
      "2022-07-17 22:23:23.819660: I tensorflow/core/grappler/optimizers/custom_graph_optimizer_registry.cc:113] Plugin optimizer for device_type GPU is enabled.\n",
      "2022-07-17 22:23:23.923722: W tensorflow/core/grappler/costs/op_level_cost_estimator.cc:690] Error in PredictCost() for the op: op: \"Softmax\" attr { key: \"T\" value { type: DT_FLOAT } } inputs { dtype: DT_FLOAT shape { unknown_rank: true } } device { type: \"GPU\" } outputs { dtype: DT_FLOAT shape { unknown_rank: true } }\n",
      "2022-07-17 22:23:24.083543: I tensorflow/core/grappler/optimizers/custom_graph_optimizer_registry.cc:113] Plugin optimizer for device_type GPU is enabled.\n"
     ]
    },
    {
     "name": "stdout",
     "output_type": "stream",
     "text": [
      " 1/62 [..............................] - ETA: 1:37 - loss: 0.4711"
     ]
    },
    {
     "name": "stderr",
     "output_type": "stream",
     "text": [
      "2022-07-17 22:23:24.306737: I tensorflow/core/grappler/optimizers/custom_graph_optimizer_registry.cc:113] Plugin optimizer for device_type GPU is enabled.\n"
     ]
    },
    {
     "name": "stdout",
     "output_type": "stream",
     "text": [
      "62/62 [==============================] - 3s 21ms/step - loss: 0.5180\n",
      "Epoch 2/5\n",
      "62/62 [==============================] - 1s 16ms/step - loss: 0.5102\n",
      "Epoch 3/5\n",
      "62/62 [==============================] - 1s 16ms/step - loss: 0.4830\n",
      "Epoch 4/5\n",
      "62/62 [==============================] - 1s 16ms/step - loss: 0.4817\n",
      "Epoch 5/5\n",
      "62/62 [==============================] - 1s 16ms/step - loss: 0.4817\n",
      "XOM.csv\n",
      "1  tickers selected\n",
      "2518 trading dates:\n",
      "29 2014 2266\n",
      "1970  training instances\n",
      "252  validation instances\n",
      "data_EOD 2518\n",
      "251  testing instances\n",
      "Model: \"model_70\"\n",
      "_________________________________________________________________\n",
      " Layer (type)                Output Shape              Param #   \n",
      "=================================================================\n",
      " input_35 (InputLayer)       [(None, 15, 11)]          0         \n",
      "                                                                 \n",
      " dense_34 (Dense)            (None, 15, 11)            132       \n",
      "                                                                 \n",
      " lstm_34 (LSTM)              (None, 15, 64)            19456     \n",
      "                                                                 \n",
      " attention_34 (Attention)    (None, 11)                5504      \n",
      "                                                                 \n",
      "=================================================================\n",
      "Total params: 25,092\n",
      "Trainable params: 25,092\n",
      "Non-trainable params: 0\n",
      "_________________________________________________________________\n",
      "Epoch 1/5\n"
     ]
    },
    {
     "name": "stderr",
     "output_type": "stream",
     "text": [
      "2022-07-17 22:23:31.059587: I tensorflow/core/grappler/optimizers/custom_graph_optimizer_registry.cc:113] Plugin optimizer for device_type GPU is enabled.\n",
      "2022-07-17 22:23:31.165797: W tensorflow/core/grappler/costs/op_level_cost_estimator.cc:690] Error in PredictCost() for the op: op: \"Softmax\" attr { key: \"T\" value { type: DT_FLOAT } } inputs { dtype: DT_FLOAT shape { unknown_rank: true } } device { type: \"GPU\" } outputs { dtype: DT_FLOAT shape { unknown_rank: true } }\n",
      "2022-07-17 22:23:31.325405: I tensorflow/core/grappler/optimizers/custom_graph_optimizer_registry.cc:113] Plugin optimizer for device_type GPU is enabled.\n",
      "2022-07-17 22:23:31.509576: I tensorflow/core/grappler/optimizers/custom_graph_optimizer_registry.cc:113] Plugin optimizer for device_type GPU is enabled.\n"
     ]
    },
    {
     "name": "stdout",
     "output_type": "stream",
     "text": [
      "62/62 [==============================] - 3s 20ms/step - loss: 0.5112\n",
      "Epoch 2/5\n",
      "62/62 [==============================] - 1s 16ms/step - loss: 0.5105\n",
      "Epoch 3/5\n",
      "62/62 [==============================] - 1s 16ms/step - loss: 0.5106\n",
      "Epoch 4/5\n",
      "62/62 [==============================] - 1s 17ms/step - loss: 0.5087\n",
      "Epoch 5/5\n",
      "62/62 [==============================] - 1s 17ms/step - loss: 0.4911\n",
      "CVX.csv\n",
      "1  tickers selected\n",
      "2518 trading dates:\n",
      "29 2014 2266\n",
      "1970  training instances\n",
      "252  validation instances\n",
      "data_EOD 2518\n",
      "251  testing instances\n",
      "Model: \"model_72\"\n",
      "_________________________________________________________________\n",
      " Layer (type)                Output Shape              Param #   \n",
      "=================================================================\n",
      " input_36 (InputLayer)       [(None, 15, 11)]          0         \n",
      "                                                                 \n",
      " dense_35 (Dense)            (None, 15, 11)            132       \n",
      "                                                                 \n",
      " lstm_35 (LSTM)              (None, 15, 64)            19456     \n",
      "                                                                 \n",
      " attention_35 (Attention)    (None, 11)                5504      \n",
      "                                                                 \n",
      "=================================================================\n",
      "Total params: 25,092\n",
      "Trainable params: 25,092\n",
      "Non-trainable params: 0\n",
      "_________________________________________________________________\n",
      "Epoch 1/5\n"
     ]
    },
    {
     "name": "stderr",
     "output_type": "stream",
     "text": [
      "2022-07-17 22:23:38.333767: I tensorflow/core/grappler/optimizers/custom_graph_optimizer_registry.cc:113] Plugin optimizer for device_type GPU is enabled.\n",
      "2022-07-17 22:23:38.471828: W tensorflow/core/grappler/costs/op_level_cost_estimator.cc:690] Error in PredictCost() for the op: op: \"Softmax\" attr { key: \"T\" value { type: DT_FLOAT } } inputs { dtype: DT_FLOAT shape { unknown_rank: true } } device { type: \"GPU\" } outputs { dtype: DT_FLOAT shape { unknown_rank: true } }\n",
      "2022-07-17 22:23:38.686771: I tensorflow/core/grappler/optimizers/custom_graph_optimizer_registry.cc:113] Plugin optimizer for device_type GPU is enabled.\n",
      "2022-07-17 22:23:38.886507: I tensorflow/core/grappler/optimizers/custom_graph_optimizer_registry.cc:113] Plugin optimizer for device_type GPU is enabled.\n"
     ]
    },
    {
     "name": "stdout",
     "output_type": "stream",
     "text": [
      "62/62 [==============================] - 3s 21ms/step - loss: 0.5269\n",
      "Epoch 2/5\n",
      "62/62 [==============================] - 1s 17ms/step - loss: 0.4606\n",
      "Epoch 3/5\n",
      "62/62 [==============================] - 1s 18ms/step - loss: 0.4604\n",
      "Epoch 4/5\n",
      "62/62 [==============================] - 1s 16ms/step - loss: 0.4604\n",
      "Epoch 5/5\n",
      "62/62 [==============================] - 1s 16ms/step - loss: 0.4604\n",
      "RDS-B.csv\n",
      "1  tickers selected\n",
      "2518 trading dates:\n",
      "29 2014 2266\n",
      "1970  training instances\n",
      "252  validation instances\n",
      "data_EOD 2518\n",
      "251  testing instances\n",
      "Model: \"model_74\"\n",
      "_________________________________________________________________\n",
      " Layer (type)                Output Shape              Param #   \n",
      "=================================================================\n",
      " input_37 (InputLayer)       [(None, 15, 11)]          0         \n",
      "                                                                 \n",
      " dense_36 (Dense)            (None, 15, 11)            132       \n",
      "                                                                 \n",
      " lstm_36 (LSTM)              (None, 15, 64)            19456     \n",
      "                                                                 \n",
      " attention_36 (Attention)    (None, 11)                5504      \n",
      "                                                                 \n",
      "=================================================================\n",
      "Total params: 25,092\n",
      "Trainable params: 25,092\n",
      "Non-trainable params: 0\n",
      "_________________________________________________________________\n",
      "Epoch 1/5\n"
     ]
    },
    {
     "name": "stderr",
     "output_type": "stream",
     "text": [
      "2022-07-17 22:23:45.717961: I tensorflow/core/grappler/optimizers/custom_graph_optimizer_registry.cc:113] Plugin optimizer for device_type GPU is enabled.\n",
      "2022-07-17 22:23:45.824187: W tensorflow/core/grappler/costs/op_level_cost_estimator.cc:690] Error in PredictCost() for the op: op: \"Softmax\" attr { key: \"T\" value { type: DT_FLOAT } } inputs { dtype: DT_FLOAT shape { unknown_rank: true } } device { type: \"GPU\" } outputs { dtype: DT_FLOAT shape { unknown_rank: true } }\n",
      "2022-07-17 22:23:45.980796: I tensorflow/core/grappler/optimizers/custom_graph_optimizer_registry.cc:113] Plugin optimizer for device_type GPU is enabled.\n",
      "2022-07-17 22:23:46.135067: I tensorflow/core/grappler/optimizers/custom_graph_optimizer_registry.cc:113] Plugin optimizer for device_type GPU is enabled.\n"
     ]
    },
    {
     "name": "stdout",
     "output_type": "stream",
     "text": [
      "62/62 [==============================] - 3s 20ms/step - loss: 0.5159\n",
      "Epoch 2/5\n",
      "62/62 [==============================] - 1s 16ms/step - loss: 0.4620\n",
      "Epoch 3/5\n",
      "62/62 [==============================] - 1s 16ms/step - loss: 0.4619\n",
      "Epoch 4/5\n",
      "62/62 [==============================] - 1s 16ms/step - loss: 0.4619\n",
      "Epoch 5/5\n",
      "62/62 [==============================] - 1s 15ms/step - loss: 0.4619\n",
      "CMCSA.csv\n",
      "1  tickers selected\n",
      "2518 trading dates:\n",
      "29 2014 2266\n",
      "1970  training instances\n",
      "252  validation instances\n",
      "data_EOD 2518\n",
      "251  testing instances\n",
      "Model: \"model_76\"\n",
      "_________________________________________________________________\n",
      " Layer (type)                Output Shape              Param #   \n",
      "=================================================================\n",
      " input_38 (InputLayer)       [(None, 15, 11)]          0         \n",
      "                                                                 \n",
      " dense_37 (Dense)            (None, 15, 11)            132       \n",
      "                                                                 \n",
      " lstm_37 (LSTM)              (None, 15, 64)            19456     \n",
      "                                                                 \n",
      " attention_37 (Attention)    (None, 11)                5504      \n",
      "                                                                 \n",
      "=================================================================\n",
      "Total params: 25,092\n",
      "Trainable params: 25,092\n",
      "Non-trainable params: 0\n",
      "_________________________________________________________________\n",
      "Epoch 1/5\n"
     ]
    },
    {
     "name": "stderr",
     "output_type": "stream",
     "text": [
      "2022-07-17 22:23:52.837937: I tensorflow/core/grappler/optimizers/custom_graph_optimizer_registry.cc:113] Plugin optimizer for device_type GPU is enabled.\n",
      "2022-07-17 22:23:52.949450: W tensorflow/core/grappler/costs/op_level_cost_estimator.cc:690] Error in PredictCost() for the op: op: \"Softmax\" attr { key: \"T\" value { type: DT_FLOAT } } inputs { dtype: DT_FLOAT shape { unknown_rank: true } } device { type: \"GPU\" } outputs { dtype: DT_FLOAT shape { unknown_rank: true } }\n",
      "2022-07-17 22:23:53.120874: I tensorflow/core/grappler/optimizers/custom_graph_optimizer_registry.cc:113] Plugin optimizer for device_type GPU is enabled.\n",
      "2022-07-17 22:23:53.278039: I tensorflow/core/grappler/optimizers/custom_graph_optimizer_registry.cc:113] Plugin optimizer for device_type GPU is enabled.\n"
     ]
    },
    {
     "name": "stdout",
     "output_type": "stream",
     "text": [
      "62/62 [==============================] - 3s 20ms/step - loss: 0.5188\n",
      "Epoch 2/5\n",
      "62/62 [==============================] - 1s 16ms/step - loss: 0.4982\n",
      "Epoch 3/5\n",
      "62/62 [==============================] - 1s 16ms/step - loss: 0.4807\n",
      "Epoch 4/5\n",
      "62/62 [==============================] - 1s 17ms/step - loss: 0.4807\n",
      "Epoch 5/5\n",
      "62/62 [==============================] - 1s 16ms/step - loss: 0.4807\n",
      "NGG.csv\n",
      "1  tickers selected\n",
      "2518 trading dates:\n",
      "29 2014 2266\n",
      "1970  training instances\n",
      "252  validation instances\n",
      "data_EOD 2518\n",
      "251  testing instances\n",
      "Model: \"model_78\"\n",
      "_________________________________________________________________\n",
      " Layer (type)                Output Shape              Param #   \n",
      "=================================================================\n",
      " input_39 (InputLayer)       [(None, 15, 11)]          0         \n",
      "                                                                 \n",
      " dense_38 (Dense)            (None, 15, 11)            132       \n",
      "                                                                 \n",
      " lstm_38 (LSTM)              (None, 15, 64)            19456     \n",
      "                                                                 \n",
      " attention_38 (Attention)    (None, 11)                5504      \n",
      "                                                                 \n",
      "=================================================================\n",
      "Total params: 25,092\n",
      "Trainable params: 25,092\n",
      "Non-trainable params: 0\n",
      "_________________________________________________________________\n",
      "Epoch 1/5\n"
     ]
    },
    {
     "name": "stderr",
     "output_type": "stream",
     "text": [
      "2022-07-17 22:23:59.850158: I tensorflow/core/grappler/optimizers/custom_graph_optimizer_registry.cc:113] Plugin optimizer for device_type GPU is enabled.\n",
      "2022-07-17 22:23:59.952714: W tensorflow/core/grappler/costs/op_level_cost_estimator.cc:690] Error in PredictCost() for the op: op: \"Softmax\" attr { key: \"T\" value { type: DT_FLOAT } } inputs { dtype: DT_FLOAT shape { unknown_rank: true } } device { type: \"GPU\" } outputs { dtype: DT_FLOAT shape { unknown_rank: true } }\n",
      "2022-07-17 22:24:00.113187: I tensorflow/core/grappler/optimizers/custom_graph_optimizer_registry.cc:113] Plugin optimizer for device_type GPU is enabled.\n"
     ]
    },
    {
     "name": "stdout",
     "output_type": "stream",
     "text": [
      " 1/62 [..............................] - ETA: 1:34 - loss: 0.4703"
     ]
    },
    {
     "name": "stderr",
     "output_type": "stream",
     "text": [
      "2022-07-17 22:24:00.317753: I tensorflow/core/grappler/optimizers/custom_graph_optimizer_registry.cc:113] Plugin optimizer for device_type GPU is enabled.\n"
     ]
    },
    {
     "name": "stdout",
     "output_type": "stream",
     "text": [
      "62/62 [==============================] - 3s 21ms/step - loss: 0.5225\n",
      "Epoch 2/5\n",
      "62/62 [==============================] - 1s 18ms/step - loss: 0.4690\n",
      "Epoch 3/5\n",
      "62/62 [==============================] - 1s 16ms/step - loss: 0.4680\n",
      "Epoch 4/5\n",
      "62/62 [==============================] - 1s 16ms/step - loss: 0.4680\n",
      "Epoch 5/5\n",
      "62/62 [==============================] - 1s 15ms/step - loss: 0.4680\n",
      "BHP.csv\n",
      "1  tickers selected\n",
      "2518 trading dates:\n",
      "29 2014 2266\n",
      "1970  training instances\n",
      "252  validation instances\n",
      "data_EOD 2518\n",
      "251  testing instances\n",
      "Model: \"model_80\"\n",
      "_________________________________________________________________\n",
      " Layer (type)                Output Shape              Param #   \n",
      "=================================================================\n",
      " input_40 (InputLayer)       [(None, 15, 11)]          0         \n",
      "                                                                 \n",
      " dense_39 (Dense)            (None, 15, 11)            132       \n",
      "                                                                 \n",
      " lstm_39 (LSTM)              (None, 15, 64)            19456     \n",
      "                                                                 \n",
      " attention_39 (Attention)    (None, 11)                5504      \n",
      "                                                                 \n",
      "=================================================================\n",
      "Total params: 25,092\n",
      "Trainable params: 25,092\n",
      "Non-trainable params: 0\n",
      "_________________________________________________________________\n",
      "Epoch 1/5\n"
     ]
    },
    {
     "name": "stderr",
     "output_type": "stream",
     "text": [
      "2022-07-17 22:24:07.238844: I tensorflow/core/grappler/optimizers/custom_graph_optimizer_registry.cc:113] Plugin optimizer for device_type GPU is enabled.\n",
      "2022-07-17 22:24:07.342081: W tensorflow/core/grappler/costs/op_level_cost_estimator.cc:690] Error in PredictCost() for the op: op: \"Softmax\" attr { key: \"T\" value { type: DT_FLOAT } } inputs { dtype: DT_FLOAT shape { unknown_rank: true } } device { type: \"GPU\" } outputs { dtype: DT_FLOAT shape { unknown_rank: true } }\n",
      "2022-07-17 22:24:07.508451: I tensorflow/core/grappler/optimizers/custom_graph_optimizer_registry.cc:113] Plugin optimizer for device_type GPU is enabled.\n",
      "2022-07-17 22:24:07.703946: I tensorflow/core/grappler/optimizers/custom_graph_optimizer_registry.cc:113] Plugin optimizer for device_type GPU is enabled.\n"
     ]
    },
    {
     "name": "stdout",
     "output_type": "stream",
     "text": [
      "62/62 [==============================] - 3s 19ms/step - loss: 0.5223\n",
      "Epoch 2/5\n",
      "62/62 [==============================] - 1s 15ms/step - loss: 0.5033\n",
      "Epoch 3/5\n",
      "62/62 [==============================] - 1s 16ms/step - loss: 0.4762\n",
      "Epoch 4/5\n",
      "62/62 [==============================] - 1s 17ms/step - loss: 0.4761\n",
      "Epoch 5/5\n",
      "62/62 [==============================] - 1s 15ms/step - loss: 0.4761\n",
      "WFC.csv\n",
      "1  tickers selected\n",
      "2518 trading dates:\n",
      "29 2014 2266\n",
      "1970  training instances\n",
      "252  validation instances\n",
      "data_EOD 2518\n",
      "251  testing instances\n",
      "Model: \"model_82\"\n",
      "_________________________________________________________________\n",
      " Layer (type)                Output Shape              Param #   \n",
      "=================================================================\n",
      " input_41 (InputLayer)       [(None, 15, 11)]          0         \n",
      "                                                                 \n",
      " dense_40 (Dense)            (None, 15, 11)            132       \n",
      "                                                                 \n",
      " lstm_40 (LSTM)              (None, 15, 64)            19456     \n",
      "                                                                 \n",
      " attention_40 (Attention)    (None, 11)                5504      \n",
      "                                                                 \n",
      "=================================================================\n",
      "Total params: 25,092\n",
      "Trainable params: 25,092\n",
      "Non-trainable params: 0\n",
      "_________________________________________________________________\n",
      "Epoch 1/5\n"
     ]
    },
    {
     "name": "stderr",
     "output_type": "stream",
     "text": [
      "2022-07-17 22:24:14.151550: I tensorflow/core/grappler/optimizers/custom_graph_optimizer_registry.cc:113] Plugin optimizer for device_type GPU is enabled.\n",
      "2022-07-17 22:24:14.257206: W tensorflow/core/grappler/costs/op_level_cost_estimator.cc:690] Error in PredictCost() for the op: op: \"Softmax\" attr { key: \"T\" value { type: DT_FLOAT } } inputs { dtype: DT_FLOAT shape { unknown_rank: true } } device { type: \"GPU\" } outputs { dtype: DT_FLOAT shape { unknown_rank: true } }\n",
      "2022-07-17 22:24:14.418770: I tensorflow/core/grappler/optimizers/custom_graph_optimizer_registry.cc:113] Plugin optimizer for device_type GPU is enabled.\n"
     ]
    },
    {
     "name": "stdout",
     "output_type": "stream",
     "text": [
      " 1/62 [..............................] - ETA: 1:36 - loss: 0.6275"
     ]
    },
    {
     "name": "stderr",
     "output_type": "stream",
     "text": [
      "2022-07-17 22:24:14.637508: I tensorflow/core/grappler/optimizers/custom_graph_optimizer_registry.cc:113] Plugin optimizer for device_type GPU is enabled.\n"
     ]
    },
    {
     "name": "stdout",
     "output_type": "stream",
     "text": [
      "62/62 [==============================] - 3s 21ms/step - loss: 0.5086\n",
      "Epoch 2/5\n",
      "62/62 [==============================] - 1s 16ms/step - loss: 0.5070\n",
      "Epoch 3/5\n",
      "62/62 [==============================] - 1s 16ms/step - loss: 0.5095\n",
      "Epoch 4/5\n",
      "62/62 [==============================] - 1s 15ms/step - loss: 0.5052\n",
      "Epoch 5/5\n",
      "62/62 [==============================] - 1s 16ms/step - loss: 0.5025\n",
      "DIS.csv\n",
      "1  tickers selected\n",
      "2518 trading dates:\n",
      "29 2014 2266\n",
      "1970  training instances\n",
      "252  validation instances\n",
      "data_EOD 2518\n",
      "251  testing instances\n",
      "Model: \"model_84\"\n",
      "_________________________________________________________________\n",
      " Layer (type)                Output Shape              Param #   \n",
      "=================================================================\n",
      " input_42 (InputLayer)       [(None, 15, 11)]          0         \n",
      "                                                                 \n",
      " dense_41 (Dense)            (None, 15, 11)            132       \n",
      "                                                                 \n",
      " lstm_41 (LSTM)              (None, 15, 64)            19456     \n",
      "                                                                 \n",
      " attention_41 (Attention)    (None, 11)                5504      \n",
      "                                                                 \n",
      "=================================================================\n",
      "Total params: 25,092\n",
      "Trainable params: 25,092\n",
      "Non-trainable params: 0\n",
      "_________________________________________________________________\n",
      "Epoch 1/5\n"
     ]
    },
    {
     "name": "stderr",
     "output_type": "stream",
     "text": [
      "2022-07-17 22:24:21.396098: I tensorflow/core/grappler/optimizers/custom_graph_optimizer_registry.cc:113] Plugin optimizer for device_type GPU is enabled.\n",
      "2022-07-17 22:24:21.504383: W tensorflow/core/grappler/costs/op_level_cost_estimator.cc:690] Error in PredictCost() for the op: op: \"Softmax\" attr { key: \"T\" value { type: DT_FLOAT } } inputs { dtype: DT_FLOAT shape { unknown_rank: true } } device { type: \"GPU\" } outputs { dtype: DT_FLOAT shape { unknown_rank: true } }\n",
      "2022-07-17 22:24:21.670333: I tensorflow/core/grappler/optimizers/custom_graph_optimizer_registry.cc:113] Plugin optimizer for device_type GPU is enabled.\n",
      "2022-07-17 22:24:21.862216: I tensorflow/core/grappler/optimizers/custom_graph_optimizer_registry.cc:113] Plugin optimizer for device_type GPU is enabled.\n"
     ]
    },
    {
     "name": "stdout",
     "output_type": "stream",
     "text": [
      "62/62 [==============================] - 3s 21ms/step - loss: 0.5168\n",
      "Epoch 2/5\n",
      "62/62 [==============================] - 1s 16ms/step - loss: 0.4676\n",
      "Epoch 3/5\n",
      "62/62 [==============================] - 1s 16ms/step - loss: 0.4675\n",
      "Epoch 4/5\n",
      "62/62 [==============================] - 1s 16ms/step - loss: 0.4675\n",
      "Epoch 5/5\n",
      "62/62 [==============================] - 1s 16ms/step - loss: 0.4675\n",
      "GE.csv\n",
      "1  tickers selected\n",
      "2518 trading dates:\n",
      "29 2014 2266\n",
      "1970  training instances\n",
      "252  validation instances\n",
      "data_EOD 2518\n",
      "251  testing instances\n",
      "Model: \"model_86\"\n",
      "_________________________________________________________________\n",
      " Layer (type)                Output Shape              Param #   \n",
      "=================================================================\n",
      " input_43 (InputLayer)       [(None, 15, 11)]          0         \n",
      "                                                                 \n",
      " dense_42 (Dense)            (None, 15, 11)            132       \n",
      "                                                                 \n",
      " lstm_42 (LSTM)              (None, 15, 64)            19456     \n",
      "                                                                 \n",
      " attention_42 (Attention)    (None, 11)                5504      \n",
      "                                                                 \n",
      "=================================================================\n",
      "Total params: 25,092\n",
      "Trainable params: 25,092\n",
      "Non-trainable params: 0\n",
      "_________________________________________________________________\n",
      "Epoch 1/5\n"
     ]
    },
    {
     "name": "stderr",
     "output_type": "stream",
     "text": [
      "2022-07-17 22:24:28.673363: I tensorflow/core/grappler/optimizers/custom_graph_optimizer_registry.cc:113] Plugin optimizer for device_type GPU is enabled.\n",
      "2022-07-17 22:24:28.794411: W tensorflow/core/grappler/costs/op_level_cost_estimator.cc:690] Error in PredictCost() for the op: op: \"Softmax\" attr { key: \"T\" value { type: DT_FLOAT } } inputs { dtype: DT_FLOAT shape { unknown_rank: true } } device { type: \"GPU\" } outputs { dtype: DT_FLOAT shape { unknown_rank: true } }\n",
      "2022-07-17 22:24:28.983777: I tensorflow/core/grappler/optimizers/custom_graph_optimizer_registry.cc:113] Plugin optimizer for device_type GPU is enabled.\n"
     ]
    },
    {
     "name": "stdout",
     "output_type": "stream",
     "text": [
      " 1/62 [..............................] - ETA: 1:48 - loss: 0.4407"
     ]
    },
    {
     "name": "stderr",
     "output_type": "stream",
     "text": [
      "2022-07-17 22:24:29.190156: I tensorflow/core/grappler/optimizers/custom_graph_optimizer_registry.cc:113] Plugin optimizer for device_type GPU is enabled.\n"
     ]
    },
    {
     "name": "stdout",
     "output_type": "stream",
     "text": [
      "62/62 [==============================] - 3s 22ms/step - loss: 0.5207\n",
      "Epoch 2/5\n",
      "62/62 [==============================] - 1s 18ms/step - loss: 0.5045\n",
      "Epoch 3/5\n",
      "62/62 [==============================] - 1s 19ms/step - loss: 0.4794\n",
      "Epoch 4/5\n",
      "62/62 [==============================] - 1s 16ms/step - loss: 0.4793\n",
      "Epoch 5/5\n",
      "62/62 [==============================] - 1s 16ms/step - loss: 0.4792\n",
      "PTR.csv\n",
      "1  tickers selected\n",
      "2518 trading dates:\n",
      "29 2014 2266\n",
      "1970  training instances\n",
      "252  validation instances\n",
      "data_EOD 2518\n",
      "251  testing instances\n",
      "Model: \"model_88\"\n",
      "_________________________________________________________________\n",
      " Layer (type)                Output Shape              Param #   \n",
      "=================================================================\n",
      " input_44 (InputLayer)       [(None, 15, 11)]          0         \n",
      "                                                                 \n",
      " dense_43 (Dense)            (None, 15, 11)            132       \n",
      "                                                                 \n",
      " lstm_43 (LSTM)              (None, 15, 64)            19456     \n",
      "                                                                 \n",
      " attention_43 (Attention)    (None, 11)                5504      \n",
      "                                                                 \n",
      "=================================================================\n",
      "Total params: 25,092\n",
      "Trainable params: 25,092\n",
      "Non-trainable params: 0\n",
      "_________________________________________________________________\n",
      "Epoch 1/5\n"
     ]
    },
    {
     "name": "stderr",
     "output_type": "stream",
     "text": [
      "2022-07-17 22:24:36.225933: I tensorflow/core/grappler/optimizers/custom_graph_optimizer_registry.cc:113] Plugin optimizer for device_type GPU is enabled.\n",
      "2022-07-17 22:24:36.328722: W tensorflow/core/grappler/costs/op_level_cost_estimator.cc:690] Error in PredictCost() for the op: op: \"Softmax\" attr { key: \"T\" value { type: DT_FLOAT } } inputs { dtype: DT_FLOAT shape { unknown_rank: true } } device { type: \"GPU\" } outputs { dtype: DT_FLOAT shape { unknown_rank: true } }\n",
      "2022-07-17 22:24:36.494827: I tensorflow/core/grappler/optimizers/custom_graph_optimizer_registry.cc:113] Plugin optimizer for device_type GPU is enabled.\n",
      "2022-07-17 22:24:36.728056: I tensorflow/core/grappler/optimizers/custom_graph_optimizer_registry.cc:113] Plugin optimizer for device_type GPU is enabled.\n"
     ]
    },
    {
     "name": "stdout",
     "output_type": "stream",
     "text": [
      "62/62 [==============================] - 3s 21ms/step - loss: 0.5016\n",
      "Epoch 2/5\n",
      "62/62 [==============================] - 1s 16ms/step - loss: 0.5011\n",
      "Epoch 3/5\n",
      "62/62 [==============================] - 1s 16ms/step - loss: 0.5018\n",
      "Epoch 4/5\n",
      "62/62 [==============================] - 1s 16ms/step - loss: 0.5011\n",
      "Epoch 5/5\n",
      "62/62 [==============================] - 1s 16ms/step - loss: 0.5009\n",
      "JPM.csv\n",
      "1  tickers selected\n",
      "2518 trading dates:\n",
      "29 2014 2266\n",
      "1970  training instances\n",
      "252  validation instances\n",
      "data_EOD 2518\n",
      "251  testing instances\n",
      "Model: \"model_90\"\n",
      "_________________________________________________________________\n",
      " Layer (type)                Output Shape              Param #   \n",
      "=================================================================\n",
      " input_45 (InputLayer)       [(None, 15, 11)]          0         \n",
      "                                                                 \n",
      " dense_44 (Dense)            (None, 15, 11)            132       \n",
      "                                                                 \n",
      " lstm_44 (LSTM)              (None, 15, 64)            19456     \n",
      "                                                                 \n",
      " attention_44 (Attention)    (None, 11)                5504      \n",
      "                                                                 \n",
      "=================================================================\n",
      "Total params: 25,092\n",
      "Trainable params: 25,092\n",
      "Non-trainable params: 0\n",
      "_________________________________________________________________\n",
      "Epoch 1/5\n"
     ]
    },
    {
     "name": "stderr",
     "output_type": "stream",
     "text": [
      "2022-07-17 22:24:43.530886: I tensorflow/core/grappler/optimizers/custom_graph_optimizer_registry.cc:113] Plugin optimizer for device_type GPU is enabled.\n",
      "2022-07-17 22:24:43.637772: W tensorflow/core/grappler/costs/op_level_cost_estimator.cc:690] Error in PredictCost() for the op: op: \"Softmax\" attr { key: \"T\" value { type: DT_FLOAT } } inputs { dtype: DT_FLOAT shape { unknown_rank: true } } device { type: \"GPU\" } outputs { dtype: DT_FLOAT shape { unknown_rank: true } }\n",
      "2022-07-17 22:24:43.805059: I tensorflow/core/grappler/optimizers/custom_graph_optimizer_registry.cc:113] Plugin optimizer for device_type GPU is enabled.\n"
     ]
    },
    {
     "name": "stdout",
     "output_type": "stream",
     "text": [
      " 1/62 [..............................] - ETA: 1:50 - loss: 0.6914"
     ]
    },
    {
     "name": "stderr",
     "output_type": "stream",
     "text": [
      "2022-07-17 22:24:44.037634: I tensorflow/core/grappler/optimizers/custom_graph_optimizer_registry.cc:113] Plugin optimizer for device_type GPU is enabled.\n"
     ]
    },
    {
     "name": "stdout",
     "output_type": "stream",
     "text": [
      "62/62 [==============================] - 3s 22ms/step - loss: 0.5092\n",
      "Epoch 2/5\n",
      "62/62 [==============================] - 1s 16ms/step - loss: 0.5100\n",
      "Epoch 3/5\n",
      "62/62 [==============================] - 1s 16ms/step - loss: 0.5082\n",
      "Epoch 4/5\n",
      "62/62 [==============================] - 1s 16ms/step - loss: 0.5070\n",
      "Epoch 5/5\n",
      "62/62 [==============================] - 1s 16ms/step - loss: 0.5066\n",
      "SPY.csv\n",
      "1  tickers selected\n",
      "2518 trading dates:\n",
      "29 2014 2266\n",
      "1970  training instances\n",
      "252  validation instances\n",
      "data_EOD 2518\n",
      "251  testing instances\n",
      "Model: \"model_92\"\n",
      "_________________________________________________________________\n",
      " Layer (type)                Output Shape              Param #   \n",
      "=================================================================\n",
      " input_46 (InputLayer)       [(None, 15, 11)]          0         \n",
      "                                                                 \n",
      " dense_45 (Dense)            (None, 15, 11)            132       \n",
      "                                                                 \n",
      " lstm_45 (LSTM)              (None, 15, 64)            19456     \n",
      "                                                                 \n",
      " attention_45 (Attention)    (None, 11)                5504      \n",
      "                                                                 \n",
      "=================================================================\n",
      "Total params: 25,092\n",
      "Trainable params: 25,092\n",
      "Non-trainable params: 0\n",
      "_________________________________________________________________\n",
      "Epoch 1/5\n"
     ]
    },
    {
     "name": "stderr",
     "output_type": "stream",
     "text": [
      "2022-07-17 22:24:50.621815: I tensorflow/core/grappler/optimizers/custom_graph_optimizer_registry.cc:113] Plugin optimizer for device_type GPU is enabled.\n",
      "2022-07-17 22:24:50.725903: W tensorflow/core/grappler/costs/op_level_cost_estimator.cc:690] Error in PredictCost() for the op: op: \"Softmax\" attr { key: \"T\" value { type: DT_FLOAT } } inputs { dtype: DT_FLOAT shape { unknown_rank: true } } device { type: \"GPU\" } outputs { dtype: DT_FLOAT shape { unknown_rank: true } }\n",
      "2022-07-17 22:24:50.887425: I tensorflow/core/grappler/optimizers/custom_graph_optimizer_registry.cc:113] Plugin optimizer for device_type GPU is enabled.\n",
      "2022-07-17 22:24:51.122670: I tensorflow/core/grappler/optimizers/custom_graph_optimizer_registry.cc:113] Plugin optimizer for device_type GPU is enabled.\n"
     ]
    },
    {
     "name": "stdout",
     "output_type": "stream",
     "text": [
      "62/62 [==============================] - 3s 24ms/step - loss: 0.4962\n",
      "Epoch 2/5\n",
      "62/62 [==============================] - 1s 18ms/step - loss: 0.4401\n",
      "Epoch 3/5\n",
      "62/62 [==============================] - 1s 17ms/step - loss: 0.4401\n",
      "Epoch 4/5\n",
      "62/62 [==============================] - 1s 17ms/step - loss: 0.4401\n",
      "Epoch 5/5\n",
      "62/62 [==============================] - 1s 17ms/step - loss: 0.4401\n",
      "GOOGL.csv\n",
      "1  tickers selected\n",
      "2518 trading dates:\n",
      "29 2014 2266\n",
      "1970  training instances\n",
      "252  validation instances\n",
      "data_EOD 2518\n",
      "251  testing instances\n",
      "Model: \"model_94\"\n",
      "_________________________________________________________________\n",
      " Layer (type)                Output Shape              Param #   \n",
      "=================================================================\n",
      " input_47 (InputLayer)       [(None, 15, 11)]          0         \n",
      "                                                                 \n",
      " dense_46 (Dense)            (None, 15, 11)            132       \n",
      "                                                                 \n",
      " lstm_46 (LSTM)              (None, 15, 64)            19456     \n",
      "                                                                 \n",
      " attention_46 (Attention)    (None, 11)                5504      \n",
      "                                                                 \n",
      "=================================================================\n",
      "Total params: 25,092\n",
      "Trainable params: 25,092\n",
      "Non-trainable params: 0\n",
      "_________________________________________________________________\n",
      "Epoch 1/5\n"
     ]
    },
    {
     "name": "stderr",
     "output_type": "stream",
     "text": [
      "2022-07-17 22:24:58.516859: I tensorflow/core/grappler/optimizers/custom_graph_optimizer_registry.cc:113] Plugin optimizer for device_type GPU is enabled.\n",
      "2022-07-17 22:24:58.625685: W tensorflow/core/grappler/costs/op_level_cost_estimator.cc:690] Error in PredictCost() for the op: op: \"Softmax\" attr { key: \"T\" value { type: DT_FLOAT } } inputs { dtype: DT_FLOAT shape { unknown_rank: true } } device { type: \"GPU\" } outputs { dtype: DT_FLOAT shape { unknown_rank: true } }\n",
      "2022-07-17 22:24:58.797600: I tensorflow/core/grappler/optimizers/custom_graph_optimizer_registry.cc:113] Plugin optimizer for device_type GPU is enabled.\n"
     ]
    },
    {
     "name": "stdout",
     "output_type": "stream",
     "text": [
      " 1/62 [..............................] - ETA: 1:53 - loss: 0.4429"
     ]
    },
    {
     "name": "stderr",
     "output_type": "stream",
     "text": [
      "2022-07-17 22:24:59.036994: I tensorflow/core/grappler/optimizers/custom_graph_optimizer_registry.cc:113] Plugin optimizer for device_type GPU is enabled.\n"
     ]
    },
    {
     "name": "stdout",
     "output_type": "stream",
     "text": [
      "62/62 [==============================] - 3s 23ms/step - loss: 0.5104\n",
      "Epoch 2/5\n",
      "62/62 [==============================] - 1s 16ms/step - loss: 0.5100\n",
      "Epoch 3/5\n",
      "62/62 [==============================] - 1s 16ms/step - loss: 0.5080\n",
      "Epoch 4/5\n",
      "62/62 [==============================] - 1s 16ms/step - loss: 0.4944\n",
      "Epoch 5/5\n",
      "62/62 [==============================] - 1s 16ms/step - loss: 0.4893\n",
      "PFE.csv\n",
      "1  tickers selected\n",
      "2518 trading dates:\n",
      "29 2014 2266\n",
      "1970  training instances\n",
      "252  validation instances\n",
      "data_EOD 2518\n",
      "251  testing instances\n",
      "Model: \"model_96\"\n",
      "_________________________________________________________________\n",
      " Layer (type)                Output Shape              Param #   \n",
      "=================================================================\n",
      " input_48 (InputLayer)       [(None, 15, 11)]          0         \n",
      "                                                                 \n",
      " dense_47 (Dense)            (None, 15, 11)            132       \n",
      "                                                                 \n",
      " lstm_47 (LSTM)              (None, 15, 64)            19456     \n",
      "                                                                 \n",
      " attention_47 (Attention)    (None, 11)                5504      \n",
      "                                                                 \n",
      "=================================================================\n",
      "Total params: 25,092\n",
      "Trainable params: 25,092\n",
      "Non-trainable params: 0\n",
      "_________________________________________________________________\n",
      "Epoch 1/5\n"
     ]
    },
    {
     "name": "stderr",
     "output_type": "stream",
     "text": [
      "2022-07-17 22:25:05.723899: I tensorflow/core/grappler/optimizers/custom_graph_optimizer_registry.cc:113] Plugin optimizer for device_type GPU is enabled.\n",
      "2022-07-17 22:25:05.825490: W tensorflow/core/grappler/costs/op_level_cost_estimator.cc:690] Error in PredictCost() for the op: op: \"Softmax\" attr { key: \"T\" value { type: DT_FLOAT } } inputs { dtype: DT_FLOAT shape { unknown_rank: true } } device { type: \"GPU\" } outputs { dtype: DT_FLOAT shape { unknown_rank: true } }\n",
      "2022-07-17 22:25:05.986180: I tensorflow/core/grappler/optimizers/custom_graph_optimizer_registry.cc:113] Plugin optimizer for device_type GPU is enabled.\n"
     ]
    },
    {
     "name": "stdout",
     "output_type": "stream",
     "text": [
      " 1/62 [..............................] - ETA: 1:36 - loss: 0.4720"
     ]
    },
    {
     "name": "stderr",
     "output_type": "stream",
     "text": [
      "2022-07-17 22:25:06.233561: I tensorflow/core/grappler/optimizers/custom_graph_optimizer_registry.cc:113] Plugin optimizer for device_type GPU is enabled.\n"
     ]
    },
    {
     "name": "stdout",
     "output_type": "stream",
     "text": [
      "62/62 [==============================] - 3s 24ms/step - loss: 0.5087\n",
      "Epoch 2/5\n",
      "62/62 [==============================] - 1s 16ms/step - loss: 0.5073\n",
      "Epoch 3/5\n",
      "62/62 [==============================] - 1s 16ms/step - loss: 0.5076\n",
      "Epoch 4/5\n",
      "62/62 [==============================] - 1s 16ms/step - loss: 0.5060\n",
      "Epoch 5/5\n",
      "62/62 [==============================] - 1s 17ms/step - loss: 0.5054\n",
      "DUK.csv\n",
      "1  tickers selected\n",
      "2518 trading dates:\n",
      "29 2014 2266\n",
      "1970  training instances\n",
      "252  validation instances\n",
      "data_EOD 2518\n",
      "251  testing instances\n",
      "Model: \"model_98\"\n",
      "_________________________________________________________________\n",
      " Layer (type)                Output Shape              Param #   \n",
      "=================================================================\n",
      " input_49 (InputLayer)       [(None, 15, 11)]          0         \n",
      "                                                                 \n",
      " dense_48 (Dense)            (None, 15, 11)            132       \n",
      "                                                                 \n",
      " lstm_48 (LSTM)              (None, 15, 64)            19456     \n",
      "                                                                 \n",
      " attention_48 (Attention)    (None, 11)                5504      \n",
      "                                                                 \n",
      "=================================================================\n",
      "Total params: 25,092\n",
      "Trainable params: 25,092\n",
      "Non-trainable params: 0\n",
      "_________________________________________________________________\n",
      "Epoch 1/5\n"
     ]
    },
    {
     "name": "stderr",
     "output_type": "stream",
     "text": [
      "2022-07-17 22:25:13.225133: I tensorflow/core/grappler/optimizers/custom_graph_optimizer_registry.cc:113] Plugin optimizer for device_type GPU is enabled.\n",
      "2022-07-17 22:25:13.331439: W tensorflow/core/grappler/costs/op_level_cost_estimator.cc:690] Error in PredictCost() for the op: op: \"Softmax\" attr { key: \"T\" value { type: DT_FLOAT } } inputs { dtype: DT_FLOAT shape { unknown_rank: true } } device { type: \"GPU\" } outputs { dtype: DT_FLOAT shape { unknown_rank: true } }\n",
      "2022-07-17 22:25:13.501266: I tensorflow/core/grappler/optimizers/custom_graph_optimizer_registry.cc:113] Plugin optimizer for device_type GPU is enabled.\n"
     ]
    },
    {
     "name": "stdout",
     "output_type": "stream",
     "text": [
      " 1/62 [..............................] - ETA: 1:38 - loss: 0.6264"
     ]
    },
    {
     "name": "stderr",
     "output_type": "stream",
     "text": [
      "2022-07-17 22:25:13.733704: I tensorflow/core/grappler/optimizers/custom_graph_optimizer_registry.cc:113] Plugin optimizer for device_type GPU is enabled.\n"
     ]
    },
    {
     "name": "stdout",
     "output_type": "stream",
     "text": [
      "62/62 [==============================] - 3s 23ms/step - loss: 0.5173\n",
      "Epoch 2/5\n",
      "62/62 [==============================] - 1s 16ms/step - loss: 0.4625\n",
      "Epoch 3/5\n",
      "62/62 [==============================] - 1s 16ms/step - loss: 0.4625\n",
      "Epoch 4/5\n",
      "62/62 [==============================] - 1s 16ms/step - loss: 0.4625\n",
      "Epoch 5/5\n",
      "62/62 [==============================] - 1s 16ms/step - loss: 0.4625\n",
      "VZ.csv\n",
      "1  tickers selected\n",
      "2518 trading dates:\n",
      "29 2014 2266\n",
      "1970  training instances\n",
      "252  validation instances\n",
      "data_EOD 2518\n",
      "251  testing instances\n",
      "Model: \"model_100\"\n",
      "_________________________________________________________________\n",
      " Layer (type)                Output Shape              Param #   \n",
      "=================================================================\n",
      " input_50 (InputLayer)       [(None, 15, 11)]          0         \n",
      "                                                                 \n",
      " dense_49 (Dense)            (None, 15, 11)            132       \n",
      "                                                                 \n",
      " lstm_49 (LSTM)              (None, 15, 64)            19456     \n",
      "                                                                 \n",
      " attention_49 (Attention)    (None, 11)                5504      \n",
      "                                                                 \n",
      "=================================================================\n",
      "Total params: 25,092\n",
      "Trainable params: 25,092\n",
      "Non-trainable params: 0\n",
      "_________________________________________________________________\n",
      "Epoch 1/5\n"
     ]
    },
    {
     "name": "stderr",
     "output_type": "stream",
     "text": [
      "2022-07-17 22:25:20.436301: I tensorflow/core/grappler/optimizers/custom_graph_optimizer_registry.cc:113] Plugin optimizer for device_type GPU is enabled.\n",
      "2022-07-17 22:25:20.538201: W tensorflow/core/grappler/costs/op_level_cost_estimator.cc:690] Error in PredictCost() for the op: op: \"Softmax\" attr { key: \"T\" value { type: DT_FLOAT } } inputs { dtype: DT_FLOAT shape { unknown_rank: true } } device { type: \"GPU\" } outputs { dtype: DT_FLOAT shape { unknown_rank: true } }\n",
      "2022-07-17 22:25:20.704374: I tensorflow/core/grappler/optimizers/custom_graph_optimizer_registry.cc:113] Plugin optimizer for device_type GPU is enabled.\n"
     ]
    },
    {
     "name": "stdout",
     "output_type": "stream",
     "text": [
      " 1/62 [..............................] - ETA: 1:34 - loss: 0.6891"
     ]
    },
    {
     "name": "stderr",
     "output_type": "stream",
     "text": [
      "2022-07-17 22:25:20.926693: I tensorflow/core/grappler/optimizers/custom_graph_optimizer_registry.cc:113] Plugin optimizer for device_type GPU is enabled.\n"
     ]
    },
    {
     "name": "stdout",
     "output_type": "stream",
     "text": [
      "62/62 [==============================] - 3s 24ms/step - loss: 0.5274\n",
      "Epoch 2/5\n",
      "62/62 [==============================] - 1s 16ms/step - loss: 0.4776\n",
      "Epoch 3/5\n",
      "62/62 [==============================] - 1s 17ms/step - loss: 0.4681\n",
      "Epoch 4/5\n",
      "62/62 [==============================] - 1s 16ms/step - loss: 0.4681\n",
      "Epoch 5/5\n",
      "62/62 [==============================] - 1s 15ms/step - loss: 0.4680\n",
      "UNH.csv\n",
      "1  tickers selected\n",
      "2518 trading dates:\n",
      "29 2014 2266\n",
      "1970  training instances\n",
      "252  validation instances\n",
      "data_EOD 2518\n",
      "251  testing instances\n",
      "Model: \"model_102\"\n",
      "_________________________________________________________________\n",
      " Layer (type)                Output Shape              Param #   \n",
      "=================================================================\n",
      " input_51 (InputLayer)       [(None, 15, 11)]          0         \n",
      "                                                                 \n",
      " dense_50 (Dense)            (None, 15, 11)            132       \n",
      "                                                                 \n",
      " lstm_50 (LSTM)              (None, 15, 64)            19456     \n",
      "                                                                 \n",
      " attention_50 (Attention)    (None, 11)                5504      \n",
      "                                                                 \n",
      "=================================================================\n",
      "Total params: 25,092\n",
      "Trainable params: 25,092\n",
      "Non-trainable params: 0\n",
      "_________________________________________________________________\n",
      "Epoch 1/5\n"
     ]
    },
    {
     "name": "stderr",
     "output_type": "stream",
     "text": [
      "2022-07-17 22:25:27.984800: I tensorflow/core/grappler/optimizers/custom_graph_optimizer_registry.cc:113] Plugin optimizer for device_type GPU is enabled.\n",
      "2022-07-17 22:25:28.091050: W tensorflow/core/grappler/costs/op_level_cost_estimator.cc:690] Error in PredictCost() for the op: op: \"Softmax\" attr { key: \"T\" value { type: DT_FLOAT } } inputs { dtype: DT_FLOAT shape { unknown_rank: true } } device { type: \"GPU\" } outputs { dtype: DT_FLOAT shape { unknown_rank: true } }\n",
      "2022-07-17 22:25:28.261161: I tensorflow/core/grappler/optimizers/custom_graph_optimizer_registry.cc:113] Plugin optimizer for device_type GPU is enabled.\n",
      "2022-07-17 22:25:28.476488: I tensorflow/core/grappler/optimizers/custom_graph_optimizer_registry.cc:113] Plugin optimizer for device_type GPU is enabled.\n"
     ]
    },
    {
     "name": "stdout",
     "output_type": "stream",
     "text": [
      "62/62 [==============================] - 3s 22ms/step - loss: 0.5236\n",
      "Epoch 2/5\n",
      "62/62 [==============================] - 1s 15ms/step - loss: 0.5128\n",
      "Epoch 3/5\n",
      "62/62 [==============================] - 1s 15ms/step - loss: 0.4806\n",
      "Epoch 4/5\n",
      "62/62 [==============================] - 1s 16ms/step - loss: 0.4772\n",
      "Epoch 5/5\n",
      "62/62 [==============================] - 1s 16ms/step - loss: 0.4772\n",
      "MA.csv\n",
      "1  tickers selected\n",
      "2518 trading dates:\n",
      "29 2014 2266\n",
      "1970  training instances\n",
      "252  validation instances\n",
      "data_EOD 2518\n",
      "251  testing instances\n",
      "Model: \"model_104\"\n",
      "_________________________________________________________________\n",
      " Layer (type)                Output Shape              Param #   \n",
      "=================================================================\n",
      " input_52 (InputLayer)       [(None, 15, 11)]          0         \n",
      "                                                                 \n",
      " dense_51 (Dense)            (None, 15, 11)            132       \n",
      "                                                                 \n",
      " lstm_51 (LSTM)              (None, 15, 64)            19456     \n",
      "                                                                 \n",
      " attention_51 (Attention)    (None, 11)                5504      \n",
      "                                                                 \n",
      "=================================================================\n",
      "Total params: 25,092\n",
      "Trainable params: 25,092\n",
      "Non-trainable params: 0\n",
      "_________________________________________________________________\n",
      "Epoch 1/5\n"
     ]
    },
    {
     "name": "stderr",
     "output_type": "stream",
     "text": [
      "2022-07-17 22:25:35.357005: I tensorflow/core/grappler/optimizers/custom_graph_optimizer_registry.cc:113] Plugin optimizer for device_type GPU is enabled.\n",
      "2022-07-17 22:25:35.484958: W tensorflow/core/grappler/costs/op_level_cost_estimator.cc:690] Error in PredictCost() for the op: op: \"Softmax\" attr { key: \"T\" value { type: DT_FLOAT } } inputs { dtype: DT_FLOAT shape { unknown_rank: true } } device { type: \"GPU\" } outputs { dtype: DT_FLOAT shape { unknown_rank: true } }\n",
      "2022-07-17 22:25:35.686787: I tensorflow/core/grappler/optimizers/custom_graph_optimizer_registry.cc:113] Plugin optimizer for device_type GPU is enabled.\n"
     ]
    },
    {
     "name": "stdout",
     "output_type": "stream",
     "text": [
      " 1/62 [..............................] - ETA: 1:53 - loss: 0.4406"
     ]
    },
    {
     "name": "stderr",
     "output_type": "stream",
     "text": [
      "2022-07-17 22:25:35.928084: I tensorflow/core/grappler/optimizers/custom_graph_optimizer_registry.cc:113] Plugin optimizer for device_type GPU is enabled.\n"
     ]
    },
    {
     "name": "stdout",
     "output_type": "stream",
     "text": [
      "62/62 [==============================] - 3s 23ms/step - loss: 0.5228\n",
      "Epoch 2/5\n",
      "62/62 [==============================] - 1s 16ms/step - loss: 0.4768\n",
      "Epoch 3/5\n",
      "62/62 [==============================] - 1s 16ms/step - loss: 0.4726\n",
      "Epoch 4/5\n",
      "62/62 [==============================] - 1s 16ms/step - loss: 0.4726\n",
      "Epoch 5/5\n",
      "62/62 [==============================] - 1s 16ms/step - loss: 0.4726\n",
      "SYT.csv\n",
      "1  tickers selected\n",
      "2518 trading dates:\n",
      "29 2014 2266\n",
      "1970  training instances\n",
      "252  validation instances\n",
      "data_EOD 2518\n",
      "251  testing instances\n",
      "Model: \"model_106\"\n",
      "_________________________________________________________________\n",
      " Layer (type)                Output Shape              Param #   \n",
      "=================================================================\n",
      " input_53 (InputLayer)       [(None, 15, 11)]          0         \n",
      "                                                                 \n",
      " dense_52 (Dense)            (None, 15, 11)            132       \n",
      "                                                                 \n",
      " lstm_52 (LSTM)              (None, 15, 64)            19456     \n",
      "                                                                 \n",
      " attention_52 (Attention)    (None, 11)                5504      \n",
      "                                                                 \n",
      "=================================================================\n",
      "Total params: 25,092\n",
      "Trainable params: 25,092\n",
      "Non-trainable params: 0\n",
      "_________________________________________________________________\n",
      "Epoch 1/5\n"
     ]
    },
    {
     "name": "stderr",
     "output_type": "stream",
     "text": [
      "2022-07-17 22:25:42.695848: I tensorflow/core/grappler/optimizers/custom_graph_optimizer_registry.cc:113] Plugin optimizer for device_type GPU is enabled.\n",
      "2022-07-17 22:25:42.798985: W tensorflow/core/grappler/costs/op_level_cost_estimator.cc:690] Error in PredictCost() for the op: op: \"Softmax\" attr { key: \"T\" value { type: DT_FLOAT } } inputs { dtype: DT_FLOAT shape { unknown_rank: true } } device { type: \"GPU\" } outputs { dtype: DT_FLOAT shape { unknown_rank: true } }\n",
      "2022-07-17 22:25:42.962632: I tensorflow/core/grappler/optimizers/custom_graph_optimizer_registry.cc:113] Plugin optimizer for device_type GPU is enabled.\n"
     ]
    },
    {
     "name": "stdout",
     "output_type": "stream",
     "text": [
      " 1/62 [..............................] - ETA: 1:37 - loss: 0.5040"
     ]
    },
    {
     "name": "stderr",
     "output_type": "stream",
     "text": [
      "2022-07-17 22:25:43.198162: I tensorflow/core/grappler/optimizers/custom_graph_optimizer_registry.cc:113] Plugin optimizer for device_type GPU is enabled.\n"
     ]
    },
    {
     "name": "stdout",
     "output_type": "stream",
     "text": [
      "62/62 [==============================] - 3s 23ms/step - loss: 0.5188\n",
      "Epoch 2/5\n",
      "62/62 [==============================] - 1s 16ms/step - loss: 0.5081\n",
      "Epoch 3/5\n",
      "62/62 [==============================] - 1s 15ms/step - loss: 0.4802\n",
      "Epoch 4/5\n",
      "62/62 [==============================] - 1s 15ms/step - loss: 0.4802\n",
      "Epoch 5/5\n",
      "62/62 [==============================] - 1s 15ms/step - loss: 0.4802\n",
      "AAPL.csv\n",
      "1  tickers selected\n",
      "2518 trading dates:\n",
      "29 2014 2266\n",
      "1970  training instances\n",
      "252  validation instances\n",
      "data_EOD 2518\n",
      "251  testing instances\n",
      "Model: \"model_108\"\n",
      "_________________________________________________________________\n",
      " Layer (type)                Output Shape              Param #   \n",
      "=================================================================\n",
      " input_54 (InputLayer)       [(None, 15, 11)]          0         \n",
      "                                                                 \n",
      " dense_53 (Dense)            (None, 15, 11)            132       \n",
      "                                                                 \n",
      " lstm_53 (LSTM)              (None, 15, 64)            19456     \n",
      "                                                                 \n",
      " attention_53 (Attention)    (None, 11)                5504      \n",
      "                                                                 \n",
      "=================================================================\n",
      "Total params: 25,092\n",
      "Trainable params: 25,092\n",
      "Non-trainable params: 0\n",
      "_________________________________________________________________\n",
      "Epoch 1/5\n"
     ]
    },
    {
     "name": "stderr",
     "output_type": "stream",
     "text": [
      "2022-07-17 22:25:50.039208: I tensorflow/core/grappler/optimizers/custom_graph_optimizer_registry.cc:113] Plugin optimizer for device_type GPU is enabled.\n",
      "2022-07-17 22:25:50.151839: W tensorflow/core/grappler/costs/op_level_cost_estimator.cc:690] Error in PredictCost() for the op: op: \"Softmax\" attr { key: \"T\" value { type: DT_FLOAT } } inputs { dtype: DT_FLOAT shape { unknown_rank: true } } device { type: \"GPU\" } outputs { dtype: DT_FLOAT shape { unknown_rank: true } }\n",
      "2022-07-17 22:25:50.333009: I tensorflow/core/grappler/optimizers/custom_graph_optimizer_registry.cc:113] Plugin optimizer for device_type GPU is enabled.\n"
     ]
    },
    {
     "name": "stdout",
     "output_type": "stream",
     "text": [
      " 1/62 [..............................] - ETA: 1:51 - loss: 0.5342"
     ]
    },
    {
     "name": "stderr",
     "output_type": "stream",
     "text": [
      "2022-07-17 22:25:50.565868: I tensorflow/core/grappler/optimizers/custom_graph_optimizer_registry.cc:113] Plugin optimizer for device_type GPU is enabled.\n"
     ]
    },
    {
     "name": "stdout",
     "output_type": "stream",
     "text": [
      "62/62 [==============================] - 3s 22ms/step - loss: 0.5288\n",
      "Epoch 2/5\n",
      "62/62 [==============================] - 1s 16ms/step - loss: 0.4750\n",
      "Epoch 3/5\n",
      "62/62 [==============================] - 1s 15ms/step - loss: 0.4658\n",
      "Epoch 4/5\n",
      "62/62 [==============================] - 1s 16ms/step - loss: 0.4660\n",
      "Epoch 5/5\n",
      "62/62 [==============================] - 1s 16ms/step - loss: 0.4660\n",
      "WMT.csv\n",
      "1  tickers selected\n",
      "2518 trading dates:\n",
      "29 2014 2266\n",
      "1970  training instances\n",
      "252  validation instances\n",
      "data_EOD 2518\n",
      "251  testing instances\n",
      "Model: \"model_110\"\n",
      "_________________________________________________________________\n",
      " Layer (type)                Output Shape              Param #   \n",
      "=================================================================\n",
      " input_55 (InputLayer)       [(None, 15, 11)]          0         \n",
      "                                                                 \n",
      " dense_54 (Dense)            (None, 15, 11)            132       \n",
      "                                                                 \n",
      " lstm_54 (LSTM)              (None, 15, 64)            19456     \n",
      "                                                                 \n",
      " attention_54 (Attention)    (None, 11)                5504      \n",
      "                                                                 \n",
      "=================================================================\n",
      "Total params: 25,092\n",
      "Trainable params: 25,092\n",
      "Non-trainable params: 0\n",
      "_________________________________________________________________\n",
      "Epoch 1/5\n"
     ]
    },
    {
     "name": "stderr",
     "output_type": "stream",
     "text": [
      "2022-07-17 22:25:57.183861: I tensorflow/core/grappler/optimizers/custom_graph_optimizer_registry.cc:113] Plugin optimizer for device_type GPU is enabled.\n",
      "2022-07-17 22:25:57.288384: W tensorflow/core/grappler/costs/op_level_cost_estimator.cc:690] Error in PredictCost() for the op: op: \"Softmax\" attr { key: \"T\" value { type: DT_FLOAT } } inputs { dtype: DT_FLOAT shape { unknown_rank: true } } device { type: \"GPU\" } outputs { dtype: DT_FLOAT shape { unknown_rank: true } }\n",
      "2022-07-17 22:25:57.445209: I tensorflow/core/grappler/optimizers/custom_graph_optimizer_registry.cc:113] Plugin optimizer for device_type GPU is enabled.\n"
     ]
    },
    {
     "name": "stdout",
     "output_type": "stream",
     "text": [
      " 1/62 [..............................] - ETA: 1:36 - loss: 0.5640"
     ]
    },
    {
     "name": "stderr",
     "output_type": "stream",
     "text": [
      "2022-07-17 22:25:57.695941: I tensorflow/core/grappler/optimizers/custom_graph_optimizer_registry.cc:113] Plugin optimizer for device_type GPU is enabled.\n"
     ]
    },
    {
     "name": "stdout",
     "output_type": "stream",
     "text": [
      "62/62 [==============================] - 3s 22ms/step - loss: 0.5235\n",
      "Epoch 2/5\n",
      "62/62 [==============================] - 1s 16ms/step - loss: 0.4705\n",
      "Epoch 3/5\n",
      "62/62 [==============================] - 1s 16ms/step - loss: 0.4701\n",
      "Epoch 4/5\n",
      "62/62 [==============================] - 1s 16ms/step - loss: 0.4701\n",
      "Epoch 5/5\n",
      "62/62 [==============================] - 1s 15ms/step - loss: 0.4701\n",
      "NTT.csv\n",
      "1  tickers selected\n",
      "2518 trading dates:\n",
      "29 2014 2266\n",
      "1970  training instances\n",
      "252  validation instances\n",
      "data_EOD 2518\n",
      "251  testing instances\n",
      "Model: \"model_112\"\n",
      "_________________________________________________________________\n",
      " Layer (type)                Output Shape              Param #   \n",
      "=================================================================\n",
      " input_56 (InputLayer)       [(None, 15, 11)]          0         \n",
      "                                                                 \n",
      " dense_55 (Dense)            (None, 15, 11)            132       \n",
      "                                                                 \n",
      " lstm_55 (LSTM)              (None, 15, 64)            19456     \n",
      "                                                                 \n",
      " attention_55 (Attention)    (None, 11)                5504      \n",
      "                                                                 \n",
      "=================================================================\n",
      "Total params: 25,092\n",
      "Trainable params: 25,092\n",
      "Non-trainable params: 0\n",
      "_________________________________________________________________\n",
      "Epoch 1/5\n"
     ]
    },
    {
     "name": "stderr",
     "output_type": "stream",
     "text": [
      "2022-07-17 22:26:04.588441: I tensorflow/core/grappler/optimizers/custom_graph_optimizer_registry.cc:113] Plugin optimizer for device_type GPU is enabled.\n",
      "2022-07-17 22:26:04.702153: W tensorflow/core/grappler/costs/op_level_cost_estimator.cc:690] Error in PredictCost() for the op: op: \"Softmax\" attr { key: \"T\" value { type: DT_FLOAT } } inputs { dtype: DT_FLOAT shape { unknown_rank: true } } device { type: \"GPU\" } outputs { dtype: DT_FLOAT shape { unknown_rank: true } }\n",
      "2022-07-17 22:26:04.888117: I tensorflow/core/grappler/optimizers/custom_graph_optimizer_registry.cc:113] Plugin optimizer for device_type GPU is enabled.\n"
     ]
    },
    {
     "name": "stdout",
     "output_type": "stream",
     "text": [
      " 1/62 [..............................] - ETA: 1:56 - loss: 0.5350"
     ]
    },
    {
     "name": "stderr",
     "output_type": "stream",
     "text": [
      "2022-07-17 22:26:05.140083: I tensorflow/core/grappler/optimizers/custom_graph_optimizer_registry.cc:113] Plugin optimizer for device_type GPU is enabled.\n"
     ]
    },
    {
     "name": "stdout",
     "output_type": "stream",
     "text": [
      "62/62 [==============================] - 3s 23ms/step - loss: 0.5086\n",
      "Epoch 2/5\n",
      "62/62 [==============================] - 1s 16ms/step - loss: 0.5078\n",
      "Epoch 3/5\n",
      "62/62 [==============================] - 1s 16ms/step - loss: 0.5081\n",
      "Epoch 4/5\n",
      "62/62 [==============================] - 1s 16ms/step - loss: 0.5072\n",
      "Epoch 5/5\n",
      "62/62 [==============================] - 1s 15ms/step - loss: 0.5040\n",
      "RIO.csv\n",
      "1  tickers selected\n",
      "2518 trading dates:\n",
      "29 2014 2266\n",
      "1970  training instances\n",
      "252  validation instances\n",
      "data_EOD 2518\n",
      "251  testing instances\n",
      "Model: \"model_114\"\n",
      "_________________________________________________________________\n",
      " Layer (type)                Output Shape              Param #   \n",
      "=================================================================\n",
      " input_57 (InputLayer)       [(None, 15, 11)]          0         \n",
      "                                                                 \n",
      " dense_56 (Dense)            (None, 15, 11)            132       \n",
      "                                                                 \n",
      " lstm_56 (LSTM)              (None, 15, 64)            19456     \n",
      "                                                                 \n",
      " attention_56 (Attention)    (None, 11)                5504      \n",
      "                                                                 \n",
      "=================================================================\n",
      "Total params: 25,092\n",
      "Trainable params: 25,092\n",
      "Non-trainable params: 0\n",
      "_________________________________________________________________\n",
      "Epoch 1/5\n"
     ]
    },
    {
     "name": "stderr",
     "output_type": "stream",
     "text": [
      "2022-07-17 22:26:11.813175: I tensorflow/core/grappler/optimizers/custom_graph_optimizer_registry.cc:113] Plugin optimizer for device_type GPU is enabled.\n",
      "2022-07-17 22:26:11.919177: W tensorflow/core/grappler/costs/op_level_cost_estimator.cc:690] Error in PredictCost() for the op: op: \"Softmax\" attr { key: \"T\" value { type: DT_FLOAT } } inputs { dtype: DT_FLOAT shape { unknown_rank: true } } device { type: \"GPU\" } outputs { dtype: DT_FLOAT shape { unknown_rank: true } }\n",
      "2022-07-17 22:26:12.089563: I tensorflow/core/grappler/optimizers/custom_graph_optimizer_registry.cc:113] Plugin optimizer for device_type GPU is enabled.\n"
     ]
    },
    {
     "name": "stdout",
     "output_type": "stream",
     "text": [
      " 1/62 [..............................] - ETA: 1:39 - loss: 0.4723"
     ]
    },
    {
     "name": "stderr",
     "output_type": "stream",
     "text": [
      "2022-07-17 22:26:12.362461: I tensorflow/core/grappler/optimizers/custom_graph_optimizer_registry.cc:113] Plugin optimizer for device_type GPU is enabled.\n"
     ]
    },
    {
     "name": "stdout",
     "output_type": "stream",
     "text": [
      "62/62 [==============================] - 3s 23ms/step - loss: 0.5110\n",
      "Epoch 2/5\n",
      "62/62 [==============================] - 1s 16ms/step - loss: 0.5105\n",
      "Epoch 3/5\n",
      "62/62 [==============================] - 1s 15ms/step - loss: 0.5123\n",
      "Epoch 4/5\n",
      "62/62 [==============================] - 1s 16ms/step - loss: 0.4891\n",
      "Epoch 5/5\n",
      "62/62 [==============================] - 1s 15ms/step - loss: 0.4889\n",
      "BRK-B.csv\n",
      "1  tickers selected\n",
      "2518 trading dates:\n",
      "29 2014 2266\n",
      "1970  training instances\n",
      "252  validation instances\n",
      "data_EOD 2518\n",
      "251  testing instances\n",
      "Model: \"model_116\"\n",
      "_________________________________________________________________\n",
      " Layer (type)                Output Shape              Param #   \n",
      "=================================================================\n",
      " input_58 (InputLayer)       [(None, 15, 11)]          0         \n",
      "                                                                 \n",
      " dense_57 (Dense)            (None, 15, 11)            132       \n",
      "                                                                 \n",
      " lstm_57 (LSTM)              (None, 15, 64)            19456     \n",
      "                                                                 \n",
      " attention_57 (Attention)    (None, 11)                5504      \n",
      "                                                                 \n",
      "=================================================================\n",
      "Total params: 25,092\n",
      "Trainable params: 25,092\n",
      "Non-trainable params: 0\n",
      "_________________________________________________________________\n",
      "Epoch 1/5\n"
     ]
    },
    {
     "name": "stderr",
     "output_type": "stream",
     "text": [
      "2022-07-17 22:26:19.246103: I tensorflow/core/grappler/optimizers/custom_graph_optimizer_registry.cc:113] Plugin optimizer for device_type GPU is enabled.\n",
      "2022-07-17 22:26:19.351379: W tensorflow/core/grappler/costs/op_level_cost_estimator.cc:690] Error in PredictCost() for the op: op: \"Softmax\" attr { key: \"T\" value { type: DT_FLOAT } } inputs { dtype: DT_FLOAT shape { unknown_rank: true } } device { type: \"GPU\" } outputs { dtype: DT_FLOAT shape { unknown_rank: true } }\n",
      "2022-07-17 22:26:19.512939: I tensorflow/core/grappler/optimizers/custom_graph_optimizer_registry.cc:113] Plugin optimizer for device_type GPU is enabled.\n",
      "2022-07-17 22:26:19.827829: I tensorflow/core/grappler/optimizers/custom_graph_optimizer_registry.cc:113] Plugin optimizer for device_type GPU is enabled.\n"
     ]
    },
    {
     "name": "stdout",
     "output_type": "stream",
     "text": [
      "62/62 [==============================] - 3s 22ms/step - loss: 0.5069\n",
      "Epoch 2/5\n",
      "62/62 [==============================] - 1s 15ms/step - loss: 0.5087\n",
      "Epoch 3/5\n",
      "62/62 [==============================] - 1s 15ms/step - loss: 0.5053\n",
      "Epoch 4/5\n",
      "62/62 [==============================] - 1s 16ms/step - loss: 0.5052\n",
      "Epoch 5/5\n",
      "62/62 [==============================] - 1s 15ms/step - loss: 0.4991\n",
      "DOW.csv\n",
      "1  tickers selected\n",
      "2518 trading dates:\n",
      "29 2014 2266\n",
      "1970  training instances\n",
      "252  validation instances\n",
      "data_EOD 2518\n",
      "251  testing instances\n",
      "Model: \"model_118\"\n",
      "_________________________________________________________________\n",
      " Layer (type)                Output Shape              Param #   \n",
      "=================================================================\n",
      " input_59 (InputLayer)       [(None, 15, 11)]          0         \n",
      "                                                                 \n",
      " dense_58 (Dense)            (None, 15, 11)            132       \n",
      "                                                                 \n",
      " lstm_58 (LSTM)              (None, 15, 64)            19456     \n",
      "                                                                 \n",
      " attention_58 (Attention)    (None, 11)                5504      \n",
      "                                                                 \n",
      "=================================================================\n",
      "Total params: 25,092\n",
      "Trainable params: 25,092\n",
      "Non-trainable params: 0\n",
      "_________________________________________________________________\n",
      "Epoch 1/5\n"
     ]
    },
    {
     "name": "stderr",
     "output_type": "stream",
     "text": [
      "2022-07-17 22:26:26.596870: I tensorflow/core/grappler/optimizers/custom_graph_optimizer_registry.cc:113] Plugin optimizer for device_type GPU is enabled.\n",
      "2022-07-17 22:26:26.721061: W tensorflow/core/grappler/costs/op_level_cost_estimator.cc:690] Error in PredictCost() for the op: op: \"Softmax\" attr { key: \"T\" value { type: DT_FLOAT } } inputs { dtype: DT_FLOAT shape { unknown_rank: true } } device { type: \"GPU\" } outputs { dtype: DT_FLOAT shape { unknown_rank: true } }\n",
      "2022-07-17 22:26:26.906711: I tensorflow/core/grappler/optimizers/custom_graph_optimizer_registry.cc:113] Plugin optimizer for device_type GPU is enabled.\n"
     ]
    },
    {
     "name": "stdout",
     "output_type": "stream",
     "text": [
      " 1/62 [..............................] - ETA: 1:47 - loss: 0.6903"
     ]
    },
    {
     "name": "stderr",
     "output_type": "stream",
     "text": [
      "2022-07-17 22:26:27.132396: I tensorflow/core/grappler/optimizers/custom_graph_optimizer_registry.cc:113] Plugin optimizer for device_type GPU is enabled.\n"
     ]
    },
    {
     "name": "stdout",
     "output_type": "stream",
     "text": [
      "62/62 [==============================] - 3s 22ms/step - loss: 0.5112\n",
      "Epoch 2/5\n",
      "62/62 [==============================] - 1s 16ms/step - loss: 0.5091\n",
      "Epoch 3/5\n",
      "62/62 [==============================] - 1s 16ms/step - loss: 0.5096\n",
      "Epoch 4/5\n",
      "62/62 [==============================] - 1s 15ms/step - loss: 0.4978\n",
      "Epoch 5/5\n",
      "62/62 [==============================] - 1s 16ms/step - loss: 0.4888\n",
      "JNJ.csv\n",
      "1  tickers selected\n",
      "2518 trading dates:\n",
      "29 2014 2266\n",
      "1970  training instances\n",
      "252  validation instances\n",
      "data_EOD 2518\n",
      "251  testing instances\n",
      "Model: \"model_120\"\n",
      "_________________________________________________________________\n",
      " Layer (type)                Output Shape              Param #   \n",
      "=================================================================\n",
      " input_60 (InputLayer)       [(None, 15, 11)]          0         \n",
      "                                                                 \n",
      " dense_59 (Dense)            (None, 15, 11)            132       \n",
      "                                                                 \n",
      " lstm_59 (LSTM)              (None, 15, 64)            19456     \n",
      "                                                                 \n",
      " attention_59 (Attention)    (None, 11)                5504      \n",
      "                                                                 \n",
      "=================================================================\n",
      "Total params: 25,092\n",
      "Trainable params: 25,092\n",
      "Non-trainable params: 0\n",
      "_________________________________________________________________\n",
      "Epoch 1/5\n"
     ]
    },
    {
     "name": "stderr",
     "output_type": "stream",
     "text": [
      "2022-07-17 22:26:33.718258: I tensorflow/core/grappler/optimizers/custom_graph_optimizer_registry.cc:113] Plugin optimizer for device_type GPU is enabled.\n",
      "2022-07-17 22:26:33.820918: W tensorflow/core/grappler/costs/op_level_cost_estimator.cc:690] Error in PredictCost() for the op: op: \"Softmax\" attr { key: \"T\" value { type: DT_FLOAT } } inputs { dtype: DT_FLOAT shape { unknown_rank: true } } device { type: \"GPU\" } outputs { dtype: DT_FLOAT shape { unknown_rank: true } }\n",
      "2022-07-17 22:26:33.986640: I tensorflow/core/grappler/optimizers/custom_graph_optimizer_registry.cc:113] Plugin optimizer for device_type GPU is enabled.\n",
      "2022-07-17 22:26:34.208680: I tensorflow/core/grappler/optimizers/custom_graph_optimizer_registry.cc:113] Plugin optimizer for device_type GPU is enabled.\n"
     ]
    },
    {
     "name": "stdout",
     "output_type": "stream",
     "text": [
      "62/62 [==============================] - 3s 23ms/step - loss: 0.5293\n",
      "Epoch 2/5\n",
      "62/62 [==============================] - 1s 15ms/step - loss: 0.4795\n",
      "Epoch 3/5\n",
      "62/62 [==============================] - 1s 15ms/step - loss: 0.4681\n",
      "Epoch 4/5\n",
      "62/62 [==============================] - 1s 15ms/step - loss: 0.4680\n",
      "Epoch 5/5\n",
      "62/62 [==============================] - 1s 15ms/step - loss: 0.4680\n"
     ]
    }
   ],
   "source": [
    "fnames = [fname for fname in os.listdir(data_path) if\n",
    "            os.path.isfile(os.path.join(data_path, fname))]\n",
    "print(len(fnames), ' tickers')\n",
    "\n",
    "\n",
    "for idx, fname in enumerate(fnames):\n",
    "    print(fname)\n",
    "    tra_pv, tra_wd, tra_gt, val_pv, val_wd, val_gt, tes_pv, tes_wd, tes_gt = load_data(data_path, fname,\n",
    "            tra_date, val_date, tes_date, seq=params['time_steps']\n",
    "        ) \n",
    "    model_input = Input(shape=(params['time_steps'], params['input_dim']))\n",
    "    x = Dense(params['input_dim'])(model_input)\n",
    "    x = LSTM(64, return_sequences=True)(x)\n",
    "    x = Attention(params['input_dim'])(x)\n",
    "    # x = Dense(1, activation = 'sigmoid')(x)\n",
    "    # x = Dense(1)(x)\n",
    "    model = Model(model_input, x)\n",
    "    model.compile(loss='mae', optimizer='adam')\n",
    "    model.summary()\n",
    "\n",
    "    # save context vector\n",
    "    intermediate_layer_model = Model(inputs=model.input, outputs=model.layers[-1].output)\n",
    "    intermediate_output = intermediate_layer_model(tra_pv)\n",
    "    stock_context_vector[idx] = intermediate_output.numpy()\n",
    "\n",
    "    model.fit(tra_pv, tra_gt, epochs=params['epochs'])\n"
   ]
  },
  {
   "cell_type": "code",
   "execution_count": 19,
   "metadata": {},
   "outputs": [
    {
     "data": {
      "text/plain": [
       "array([[[-3.94268474e-03, -7.68327503e-04, -7.77846617e-06, ...,\n",
       "          2.55864183e-03,  6.68808771e-03, -5.28394943e-03],\n",
       "        [-3.91988689e-03, -1.85969948e-05,  2.78514519e-04, ...,\n",
       "          1.62527629e-03,  5.63550927e-03, -4.83782729e-03],\n",
       "        [-3.79534112e-03,  1.00350915e-03,  9.82391415e-04, ...,\n",
       "          5.01917093e-04,  4.61288402e-03, -4.38891398e-03],\n",
       "        ...,\n",
       "        [-1.74346031e-03,  7.89974071e-03,  4.27981466e-03, ...,\n",
       "          3.17770580e-04, -2.28511728e-03, -3.51359812e-03],\n",
       "        [-2.32273655e-04,  7.64224492e-03,  4.28253319e-03, ...,\n",
       "         -1.69997814e-03, -5.04839048e-03, -1.16537570e-03],\n",
       "        [ 1.41247991e-03,  6.23681024e-03,  3.40810209e-03, ...,\n",
       "         -2.51824432e-03, -7.17436662e-03,  1.18894898e-03]],\n",
       "\n",
       "       [[-3.23717296e-03, -3.93352332e-03, -9.29951435e-04, ...,\n",
       "          3.58164334e-03,  9.75792296e-03, -3.78302950e-03],\n",
       "        [-3.66728404e-03, -3.00392136e-03,  1.05192745e-03, ...,\n",
       "          1.20060355e-03,  7.98861310e-03, -3.61817144e-03],\n",
       "        [-3.38099222e-03, -2.69271852e-03,  1.16421178e-03, ...,\n",
       "          6.76233962e-04,  5.93427708e-03, -3.28774797e-03],\n",
       "        ...,\n",
       "        [-6.29618345e-03,  2.52887211e-03,  1.89178239e-03, ...,\n",
       "         -1.07315276e-02,  3.87259806e-03, -3.36790225e-04],\n",
       "        [-5.64187998e-03,  3.00414185e-03,  1.80199277e-03, ...,\n",
       "         -1.04034012e-02,  1.90033298e-03, -2.35136016e-04],\n",
       "        [-4.72271070e-03,  2.67485646e-03,  7.76581350e-04, ...,\n",
       "         -8.46760534e-03,  1.04847783e-03, -3.72369628e-04]],\n",
       "\n",
       "       [[-1.38566911e-03,  3.19340010e-03,  2.38201488e-03, ...,\n",
       "          8.03811662e-03,  1.11150315e-04, -1.54608744e-03],\n",
       "        [-1.93465815e-03,  4.22656629e-03,  3.56181804e-03, ...,\n",
       "          5.23258606e-03, -1.97409117e-03, -3.07177455e-04],\n",
       "        [-2.16283277e-03,  5.84969064e-03,  4.99170180e-03, ...,\n",
       "          1.85870705e-03, -4.85320436e-03,  1.25691073e-03],\n",
       "        ...,\n",
       "        [-1.32715772e-03,  5.73008554e-04,  2.20651273e-03, ...,\n",
       "         -6.53827470e-03, -1.74489582e-03,  1.23545164e-04],\n",
       "        [-1.27316476e-03,  2.59630033e-04,  1.43161824e-03, ...,\n",
       "         -5.83028747e-03, -1.83872110e-03,  2.15126478e-04],\n",
       "        [-9.66110558e-04, -4.57018788e-04,  5.51813107e-04, ...,\n",
       "         -4.19870205e-03, -8.60357773e-04, -8.97726495e-05]],\n",
       "\n",
       "       ...,\n",
       "\n",
       "       [[-1.77034677e-03,  1.37608193e-04,  1.94392560e-04, ...,\n",
       "          4.58571734e-03, -1.59765827e-03, -1.55311252e-03],\n",
       "        [-1.57918176e-03,  1.23996579e-03,  1.32468471e-03, ...,\n",
       "          2.35804869e-03, -3.42254993e-03, -7.24870537e-04],\n",
       "        [-1.00478064e-03,  1.51071860e-03,  1.96617935e-03, ...,\n",
       "          3.35562872e-05, -4.86518117e-03,  5.99084829e-04],\n",
       "        ...,\n",
       "        [-2.78090755e-03,  1.13881927e-03,  1.72721513e-03, ...,\n",
       "         -9.72272269e-03,  8.31091485e-04,  4.95188462e-04],\n",
       "        [-2.42932281e-03,  1.63187075e-03,  1.88994175e-03, ...,\n",
       "         -9.54202656e-03,  1.64124256e-04,  4.46418242e-04],\n",
       "        [-2.10904889e-03,  2.03106715e-03,  1.80573447e-03, ...,\n",
       "         -9.15879291e-03, -6.21705083e-04,  3.53747600e-04]],\n",
       "\n",
       "       [[-3.53106577e-03, -8.01474694e-03, -4.05588048e-03, ...,\n",
       "         -5.71075315e-03,  7.12714577e-03, -2.71507166e-03],\n",
       "        [-3.93235171e-03, -6.48562098e-03, -2.83080735e-03, ...,\n",
       "         -5.63205453e-03,  7.66942138e-03, -3.72423744e-03],\n",
       "        [-4.33365908e-03, -4.91101528e-03, -2.03593983e-03, ...,\n",
       "         -5.92252752e-03,  7.19835563e-03, -3.88147146e-03],\n",
       "        ...,\n",
       "        [ 2.60453764e-03,  1.11263795e-02,  2.32340209e-03, ...,\n",
       "          2.88915671e-02,  7.80046685e-03, -1.21572847e-02],\n",
       "        [ 3.12202913e-03,  1.16100302e-02,  2.96711084e-03, ...,\n",
       "          2.74919961e-02,  3.05124070e-03, -9.13044717e-03],\n",
       "        [ 3.95698892e-03,  1.18329385e-02,  3.96621367e-03, ...,\n",
       "          2.58875303e-02, -1.33289490e-03, -6.21597376e-03]],\n",
       "\n",
       "       [[ 1.27635221e-03, -1.31329289e-03,  1.38519786e-03, ...,\n",
       "          1.93336140e-02,  9.12412629e-03, -7.81416893e-03],\n",
       "        [ 8.08300334e-04, -7.35435984e-04,  2.37198966e-03, ...,\n",
       "          1.97011996e-02,  8.95087048e-03, -8.04427266e-03],\n",
       "        [ 3.51603347e-04,  3.74117517e-04,  3.93374916e-03, ...,\n",
       "          1.91843826e-02,  8.00884888e-03, -7.98110384e-03],\n",
       "        ...,\n",
       "        [-9.47239343e-04,  1.75266556e-04,  2.34339549e-03, ...,\n",
       "          8.08890536e-03,  3.61288874e-03, -4.35112463e-03],\n",
       "        [-1.23468321e-03,  1.10254192e-03,  3.13701504e-03, ...,\n",
       "          7.87240267e-03,  2.36131158e-03, -4.46197623e-03],\n",
       "        [-1.44882000e-03,  1.47850940e-03,  3.65632097e-03, ...,\n",
       "          7.84429815e-03,  1.52064231e-03, -4.24396386e-03]]])"
      ]
     },
     "execution_count": 19,
     "metadata": {},
     "output_type": "execute_result"
    }
   ],
   "source": [
    "multi_level_context_vector"
   ]
  },
  {
   "cell_type": "code",
   "execution_count": 126,
   "metadata": {},
   "outputs": [
    {
     "name": "stdout",
     "output_type": "stream",
     "text": [
      "[]\n",
      "(1, 3)\n",
      "(2, 3)\n",
      "[[1. 2. 3.]\n",
      " [4. 5. 0.]]\n"
     ]
    }
   ],
   "source": [
    "# get context vector for index\n",
    "tra_pv, tra_wd, tra_gt, val_pv, val_wd, val_gt, tes_pv, tes_wd, tes_gt = load_data(data_path, fname,\n",
    "        tra_date, val_date, tes_date, seq=params['time_steps']\n",
    "    ) \n",
    "model_input = Input(shape=(params['time_steps'], params['input_dim']))\n",
    "x = Dense(params['input_dim'])(model_input)\n",
    "x = LSTM(64, return_sequences=True)(x)\n",
    "x = Attention(params['input_dim'])(x)\n",
    "# x = Dense(1, activation = 'sigmoid')(x)\n",
    "# x = Dense(1)(x)\n",
    "model = Model(model_input, x)\n",
    "model.compile(loss='mae', optimizer='adam')\n",
    "model.summary()\n",
    "\n",
    "# save context vector\n",
    "intermediate_layer_model = Model(inputs=model.input, outputs=model.layers[-1].output)\n",
    "intermediate_output = intermediate_layer_model(tra_pv)\n",
    "multi_level_context_vector[idx] = intermediate_output.numpy()\n",
    "\n",
    "model.fit(tra_pv, tra_gt, epochs=params['epochs'])"
   ]
  },
  {
   "cell_type": "code",
   "execution_count": 128,
   "metadata": {},
   "outputs": [
    {
     "name": "stdout",
     "output_type": "stream",
     "text": [
      "[]\n",
      "[[1. 2. 3.]\n",
      " [4. 5. 0.]]\n"
     ]
    }
   ],
   "source": [
    "arr = np.empty((0,3))\n",
    "print(arr)\n",
    "arr = np.append(arr, np.array([[1, 2, 3]]), axis=0)\n",
    "arr = np.append(arr, np.array([[4, 5, 0]]), axis=0)\n",
    "print(arr)"
   ]
  },
  {
   "cell_type": "code",
   "execution_count": 53,
   "metadata": {},
   "outputs": [
    {
     "data": {
      "text/plain": [
       "array([[0., 0., 0.],\n",
       "       [0., 0., 0.]])"
      ]
     },
     "execution_count": 53,
     "metadata": {},
     "output_type": "execute_result"
    }
   ],
   "source": [
    "np.zeros([2,3])"
   ]
  },
  {
   "cell_type": "code",
   "execution_count": null,
   "metadata": {},
   "outputs": [],
   "source": []
  }
 ],
 "metadata": {
  "kernelspec": {
   "display_name": "Python 3.10.5 ('ml')",
   "language": "python",
   "name": "python3"
  },
  "language_info": {
   "codemirror_mode": {
    "name": "ipython",
    "version": 3
   },
   "file_extension": ".py",
   "mimetype": "text/x-python",
   "name": "python",
   "nbconvert_exporter": "python",
   "pygments_lexer": "ipython3",
   "version": "3.10.5"
  },
  "orig_nbformat": 4,
  "vscode": {
   "interpreter": {
    "hash": "a39a2dbc1b0080d8d73a667c0a770303b80bfa16b99e3cad7bfe1efe562f6dfa"
   }
  }
 },
 "nbformat": 4,
 "nbformat_minor": 2
}
